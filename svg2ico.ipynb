{
 "cells": [
  {
   "cell_type": "code",
   "execution_count": 1,
   "metadata": {},
   "outputs": [],
   "source": [
    "# %pip install cairosvg pillow"
   ]
  },
  {
   "cell_type": "code",
   "execution_count": 2,
   "metadata": {},
   "outputs": [],
   "source": [
    "import cairosvg\n",
    "from PIL import Image\n",
    "import os\n",
    "import uuid\n",
    "\n",
    "\n",
    "def svg_to_ico(svg_file_path, ico_file_path, size=(32, 32)):\n",
    "    # 生成唯一的临时文件名\n",
    "    png_file_path = f\"temp_{uuid.uuid4().hex}.png\"\n",
    "    cairosvg.svg2png(url=svg_file_path, write_to=png_file_path)\n",
    "\n",
    "    # 打开 PNG 文件并调整大小\n",
    "    img = Image.open(png_file_path)\n",
    "    img = img.resize(size, Image.Resampling.LANCZOS)\n",
    "\n",
    "    # 保存为 ICO 文件\n",
    "    img.save(ico_file_path, format=\"ICO\")\n",
    "\n",
    "    # 删除临时 PNG 文件\n",
    "    os.remove(png_file_path)\n",
    "\n",
    "    print(f\"{size} ICO 文件已生成！\")"
   ]
  },
  {
   "cell_type": "code",
   "execution_count": 3,
   "metadata": {},
   "outputs": [
    {
     "name": "stdout",
     "output_type": "stream",
     "text": [
      "(64, 64) ICO 文件已生成！\n"
     ]
    }
   ],
   "source": [
    "# 示例用法\n",
    "svg_to_ico(\"./assets/ico/logo.svg\", \"./assets/ico/logo-64.ico\", size=(64, 64))"
   ]
  },
  {
   "cell_type": "code",
   "execution_count": 4,
   "metadata": {},
   "outputs": [
    {
     "name": "stdout",
     "output_type": "stream",
     "text": [
      "(2, 2) ICO 文件已生成！\n",
      "(4, 4) ICO 文件已生成！\n",
      "(8, 8) ICO 文件已生成！\n",
      "(16, 16) ICO 文件已生成！\n",
      "(32, 32) ICO 文件已生成！\n",
      "(64, 64) ICO 文件已生成！\n",
      "(128, 128) ICO 文件已生成！\n",
      "(256, 256) ICO 文件已生成！\n"
     ]
    }
   ],
   "source": [
    "# 批量生成 ico 图标\n",
    "for i in range(1,9):\n",
    "    size = 2**i\n",
    "    svg_to_ico(\"./assets/ico/logo.svg\", f\"./assets/ico/logo-{size}.ico\", size=(size, size))"
   ]
  },
  {
   "cell_type": "code",
   "execution_count": null,
   "metadata": {},
   "outputs": [],
   "source": []
  }
 ],
 "metadata": {
  "kernelspec": {
   "display_name": "data",
   "language": "python",
   "name": "python3"
  },
  "language_info": {
   "codemirror_mode": {
    "name": "ipython",
    "version": 3
   },
   "file_extension": ".py",
   "mimetype": "text/x-python",
   "name": "python",
   "nbconvert_exporter": "python",
   "pygments_lexer": "ipython3",
   "version": "3.12.11"
  }
 },
 "nbformat": 4,
 "nbformat_minor": 2
}
