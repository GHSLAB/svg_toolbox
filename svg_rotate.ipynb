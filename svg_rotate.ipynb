{
 "cells": [
  {
   "cell_type": "code",
   "execution_count": 14,
   "id": "f7300355",
   "metadata": {},
   "outputs": [
    {
     "name": "stdout",
     "output_type": "stream",
     "text": [
      "Looking in indexes: https://mirrors.tuna.tsinghua.edu.cn/pypi/web/simple\n",
      "Requirement already satisfied: svgutils in c:\\envs\\miniforge3\\envs\\data\\lib\\site-packages (0.3.4)\n",
      "Requirement already satisfied: lxml in c:\\envs\\miniforge3\\envs\\data\\lib\\site-packages (from svgutils) (6.0.0)\n"
     ]
    }
   ],
   "source": [
    "!pip install svgutils"
   ]
  },
  {
   "cell_type": "code",
   "execution_count": 15,
   "id": "b1a5d8ad",
   "metadata": {},
   "outputs": [
    {
     "data": {
      "image/svg+xml": [
       "<svg xmlns=\"http://www.w3.org/2000/svg\" xmlns:xlink=\"http://www.w3.org/1999/xlink\" t=\"1758595976401\" class=\"icon\" viewBox=\"0 0 1024 1024\" version=\"1.1\" p-id=\"8049\" width=\"200\" height=\"200\"><path d=\"M847.314345 1023.579001h-4.341991l-166.667675-35.152932-12.613975 23.986954a20.67796 20.67796 0 0 1-19.023963 11.579977h-88.503827a21.919957 21.919957 0 0 1-19.229963-11.579977l-19.024963-36.599929h-12.199976l-19.230962 36.599929a20.67796 20.67796 0 0 1-19.023963 11.579977h-88.503827a21.919957 21.919957 0 0 1-19.229963-11.579977l-12.407975-23.986954-166.667675 35.152932a22.539956 22.539956 0 0 1-17.989965-4.341992 21.919957 21.919957 0 0 1-7.857984-16.749967v-74.441855a21.919957 21.919957 0 0 1 6.409987-15.508969l69.686864-67.824868L72.082859 877.798286a20.67796 20.67796 0 0 1-18.196964-4.342992 21.919957 21.919957 0 0 1-7.857985-16.749967v-98.428808a21.711958 21.711958 0 0 1 5.995988-15.094971L367.370282 417.083185a2144.140812 2144.140812 0 0 1 63.275877-272.334468A899.095244 899.095244 0 0 1 465.80009 48.386905C480.273062 19.436962 492.267039 0 511.705001 0s32.670936 19.437962 45.90591 48.593905a817.002404 817.002404 0 0 1 35.152931 96.154812 2075.487946 2075.487946 0 0 1 63.275877 272.334468l315.552383 326.097363a22.745956 22.745956 0 0 1 5.995989 15.094971v98.429808a20.67796 20.67796 0 0 1-8.063985 16.749967 20.67796 20.67796 0 0 1-17.989964 4.341992l-158.80969-33.499935 69.684864 67.825868a21.919957 21.919957 0 0 1 6.409987 15.508969v74.441855a20.67796 20.67796 0 0 1-20.67796 20.677959z m-278.123457-43.009916h62.034879l14.060973-26.882948a20.67796 20.67796 0 0 1 23.366954-11.165978l156.741694 33.085936v-38.875925L709.182615 823.412392a20.67796 20.67796 0 0 1 19.230962-36.393929L935.199173 830.236378v-63.275876L620.472788 442.103137a20.67796 20.67796 0 0 1-5.789989-11.579978C586.352855 252.897506 536.519952 97.18981 511.291001 52.109898c-24.606952 45.078912-74.441855 200.786608-103.391798 378.414261a22.125957 22.125957 0 0 1-5.789988 11.579978L89.038826 766.959502v63.275876l205.129599-43.217915a20.67796 20.67796 0 0 1 20.67796 36.393929l-117.039771 113.317778v38.875925l156.535694-33.085936a20.67796 20.67796 0 0 1 23.572954 11.165978l14.061972 26.881948h62.034879l19.229963-36.806928a20.67796 20.67796 0 0 1 19.024963-11.579978h38.254925a20.67796 20.67796 0 0 1 19.023963 11.579978z\" fill=\"#333333\" p-id=\"8050\"/><path d=\"M511.705001 690.864651c-56.038891 0-78.784846-33.912934-78.784847-117.453771 0-86.84883 24.606952-180.314648 78.784847-180.314648s78.990846 93.465817 78.990845 180.314648c0 83.540837-22.952955 117.453771-78.990845 117.453771z m0-254.757503c-8.478983 1.239998-35.77393 44.871912-35.773931 137.303732 0 74.442855 16.542968 74.442855 35.773931 74.442855s35.97993 0 35.979929-74.442855c0-92.431819-27.294947-136.063734-35.979929-137.303732zM423.200173 912.123219a20.67796 20.67796 0 0 1-20.677959-20.67896V762.411511a20.67796 20.67796 0 0 1 20.677959-20.67796 20.67796 20.67796 0 0 1 20.67796 20.67796v127.99975a20.67796 20.67796 0 0 1-20.67796 21.711958z m177.213654 0a20.67796 20.67796 0 0 1-20.677959-20.67896V762.411511a20.67796 20.67796 0 0 1 20.677959-20.67796 20.67796 20.67796 0 0 1 20.67796 20.67796v127.99975a20.67796 20.67796 0 0 1-20.67796 21.711958z\" fill=\"#333333\" p-id=\"8051\"/></svg>"
      ],
      "text/plain": [
       "<IPython.core.display.SVG object>"
      ]
     },
     "metadata": {},
     "output_type": "display_data"
    }
   ],
   "source": [
    "from IPython.display import SVG, display\n",
    "\n",
    "svg_file = 'assets/rotate/plane.svg'\n",
    "\n",
    "display(SVG(filename=svg_file))"
   ]
  },
  {
   "cell_type": "code",
   "execution_count": 16,
   "id": "e2ba1e7c",
   "metadata": {},
   "outputs": [],
   "source": [
    "import xml.etree.ElementTree as ET\n",
    "import os\n",
    "\n",
    "def rotate_svg(input_path, output_path, angle):\n",
    "    \"\"\"\n",
    "    将SVG文件顺时针旋转指定角度并保存到新文件，以画布中心为旋转点\n",
    "    \n",
    "    参数:\n",
    "        input_path (str): 输入SVG文件路径\n",
    "        output_path (str): 输出SVG文件路径\n",
    "        angle (float): 旋转角度（度）\n",
    "    \"\"\"\n",
    "    try:\n",
    "        # 解析SVG文件\n",
    "        tree = ET.parse(input_path)\n",
    "        root = tree.getroot()\n",
    "        \n",
    "        # 获取SVG命名空间\n",
    "        namespace = {\"svg\": \"http://www.w3.org/2000/svg\"}\n",
    "        \n",
    "        # 找到svg根元素\n",
    "        svg_element = root.find(\".\", namespaces=namespace)\n",
    "        if svg_element is None:\n",
    "            raise ValueError(\"找不到SVG根元素\")\n",
    "        \n",
    "        # 提取宽度和高度信息，优先使用viewBox\n",
    "        width, height = None, None\n",
    "        viewBox = svg_element.get(\"viewBox\")\n",
    "        \n",
    "        if viewBox:\n",
    "            # viewBox格式: x y width height\n",
    "            try:\n",
    "                vb_x, vb_y, vb_width, vb_height = map(float, viewBox.split())\n",
    "                width = vb_width\n",
    "                height = vb_height\n",
    "            except (ValueError, TypeError):\n",
    "                raise ValueError(\"viewBox格式无效\")\n",
    "        else:\n",
    "            # 从width和height属性获取尺寸\n",
    "            width_attr = svg_element.get(\"width\")\n",
    "            height_attr = svg_element.get(\"height\")\n",
    "            \n",
    "            if not width_attr or not height_attr:\n",
    "                raise ValueError(\"SVG缺少尺寸信息（width/height或viewBox）\")\n",
    "            \n",
    "            # 移除可能的单位并转换为数字\n",
    "            try:\n",
    "                width = float(width_attr.replace(\"px\", \"\")) if \"px\" in width_attr else float(width_attr)\n",
    "                height = float(height_attr.replace(\"px\", \"\")) if \"px\" in height_attr else float(height_attr)\n",
    "            except ValueError:\n",
    "                raise ValueError(\"无法解析SVG尺寸为数字\")\n",
    "        \n",
    "        # 计算画布中心点（确保是画布的几何中心）\n",
    "        center_x = width / 2\n",
    "        center_y = height / 2\n",
    "        \n",
    "        # 顺时针旋转相当于应用负角度的旋转变换\n",
    "        rotation = f\"rotate({-angle} {center_x} {center_y})\"\n",
    "        \n",
    "        # 获取现有的变换属性\n",
    "        existing_transform = svg_element.get(\"transform\", \"\")\n",
    "        \n",
    "        # 组合变换：先应用已有变换，再应用旋转变换\n",
    "        if existing_transform:\n",
    "            new_transform = f\"{existing_transform} {rotation}\"\n",
    "        else:\n",
    "            new_transform = rotation\n",
    "        \n",
    "        # 更新transform属性\n",
    "        svg_element.set(\"transform\", new_transform)\n",
    "        \n",
    "        # 保存修改后的SVG\n",
    "        # 注册命名空间以确保正确输出\n",
    "        ET.register_namespace(\"\", \"http://www.w3.org/2000/svg\")\n",
    "        tree.write(output_path, encoding=\"utf-8\", xml_declaration=True)\n",
    "        print(f\"成功将SVG旋转{angle}度并保存至: {output_path}\")\n",
    "        \n",
    "    except Exception as e:\n",
    "        print(f\"处理SVG时出错: {str(e)}\")\n"
   ]
  },
  {
   "cell_type": "code",
   "execution_count": 17,
   "id": "94dfe1b8",
   "metadata": {},
   "outputs": [
    {
     "name": "stdout",
     "output_type": "stream",
     "text": [
      "成功将SVG旋转30度并保存至: assets\\rotate\\test.svg\n"
     ]
    }
   ],
   "source": [
    "from pathlib import Path\n",
    "\n",
    "# 示例用法\n",
    "input_file = \"assets/rotate/plane.svg\"       # 输入SVG文件路径\n",
    "\n",
    "rotation_angle = 30            # 旋转角度（度）\n",
    "\n",
    "output_file = f\"rotated_{rotation_angle}.svg\"    # 输出SVG文件路径\n",
    "\n",
    "output_path = Path(input_file).parent / \"test.svg\"\n",
    "\n",
    "# 检查输入文件是否存在\n",
    "if not os.path.exists(input_file):\n",
    "    print(f\"错误: 输入文件 '{input_file}' 不存在\")\n",
    "\n",
    "# 执行旋转操作\n",
    "rotate_svg(input_file, output_path, rotation_angle)"
   ]
  },
  {
   "cell_type": "code",
   "execution_count": 18,
   "id": "e090ca6c",
   "metadata": {},
   "outputs": [
    {
     "name": "stdout",
     "output_type": "stream",
     "text": [
      "成功将SVG旋转0度并保存至: assets\\rotate\\rotated_0.svg\n",
      "已生成旋转0度的SVG文件: assets\\rotate\\rotated_0.svg\n",
      "成功将SVG旋转10度并保存至: assets\\rotate\\rotated_10.svg\n",
      "已生成旋转10度的SVG文件: assets\\rotate\\rotated_10.svg\n",
      "成功将SVG旋转20度并保存至: assets\\rotate\\rotated_20.svg\n",
      "已生成旋转20度的SVG文件: assets\\rotate\\rotated_20.svg\n",
      "成功将SVG旋转30度并保存至: assets\\rotate\\rotated_30.svg\n",
      "已生成旋转30度的SVG文件: assets\\rotate\\rotated_30.svg\n",
      "成功将SVG旋转40度并保存至: assets\\rotate\\rotated_40.svg\n",
      "已生成旋转40度的SVG文件: assets\\rotate\\rotated_40.svg\n",
      "成功将SVG旋转50度并保存至: assets\\rotate\\rotated_50.svg\n",
      "已生成旋转50度的SVG文件: assets\\rotate\\rotated_50.svg\n",
      "成功将SVG旋转60度并保存至: assets\\rotate\\rotated_60.svg\n",
      "已生成旋转60度的SVG文件: assets\\rotate\\rotated_60.svg\n",
      "成功将SVG旋转70度并保存至: assets\\rotate\\rotated_70.svg\n",
      "已生成旋转70度的SVG文件: assets\\rotate\\rotated_70.svg\n",
      "成功将SVG旋转80度并保存至: assets\\rotate\\rotated_80.svg\n",
      "已生成旋转80度的SVG文件: assets\\rotate\\rotated_80.svg\n",
      "成功将SVG旋转90度并保存至: assets\\rotate\\rotated_90.svg\n",
      "已生成旋转90度的SVG文件: assets\\rotate\\rotated_90.svg\n",
      "成功将SVG旋转100度并保存至: assets\\rotate\\rotated_100.svg\n",
      "已生成旋转100度的SVG文件: assets\\rotate\\rotated_100.svg\n",
      "成功将SVG旋转110度并保存至: assets\\rotate\\rotated_110.svg\n",
      "已生成旋转110度的SVG文件: assets\\rotate\\rotated_110.svg\n",
      "成功将SVG旋转120度并保存至: assets\\rotate\\rotated_120.svg\n",
      "已生成旋转120度的SVG文件: assets\\rotate\\rotated_120.svg\n",
      "成功将SVG旋转130度并保存至: assets\\rotate\\rotated_130.svg\n",
      "已生成旋转130度的SVG文件: assets\\rotate\\rotated_130.svg\n",
      "成功将SVG旋转140度并保存至: assets\\rotate\\rotated_140.svg\n",
      "已生成旋转140度的SVG文件: assets\\rotate\\rotated_140.svg\n",
      "成功将SVG旋转150度并保存至: assets\\rotate\\rotated_150.svg\n",
      "已生成旋转150度的SVG文件: assets\\rotate\\rotated_150.svg\n",
      "成功将SVG旋转160度并保存至: assets\\rotate\\rotated_160.svg\n",
      "已生成旋转160度的SVG文件: assets\\rotate\\rotated_160.svg\n",
      "成功将SVG旋转170度并保存至: assets\\rotate\\rotated_170.svg\n",
      "已生成旋转170度的SVG文件: assets\\rotate\\rotated_170.svg\n",
      "成功将SVG旋转180度并保存至: assets\\rotate\\rotated_180.svg\n",
      "已生成旋转180度的SVG文件: assets\\rotate\\rotated_180.svg\n",
      "成功将SVG旋转190度并保存至: assets\\rotate\\rotated_190.svg\n",
      "已生成旋转190度的SVG文件: assets\\rotate\\rotated_190.svg\n",
      "成功将SVG旋转200度并保存至: assets\\rotate\\rotated_200.svg\n",
      "已生成旋转200度的SVG文件: assets\\rotate\\rotated_200.svg\n",
      "成功将SVG旋转210度并保存至: assets\\rotate\\rotated_210.svg\n",
      "已生成旋转210度的SVG文件: assets\\rotate\\rotated_210.svg\n",
      "成功将SVG旋转220度并保存至: assets\\rotate\\rotated_220.svg\n",
      "已生成旋转220度的SVG文件: assets\\rotate\\rotated_220.svg\n",
      "成功将SVG旋转230度并保存至: assets\\rotate\\rotated_230.svg\n",
      "已生成旋转230度的SVG文件: assets\\rotate\\rotated_230.svg\n",
      "成功将SVG旋转240度并保存至: assets\\rotate\\rotated_240.svg\n",
      "已生成旋转240度的SVG文件: assets\\rotate\\rotated_240.svg\n",
      "成功将SVG旋转250度并保存至: assets\\rotate\\rotated_250.svg\n",
      "已生成旋转250度的SVG文件: assets\\rotate\\rotated_250.svg\n",
      "成功将SVG旋转260度并保存至: assets\\rotate\\rotated_260.svg\n",
      "已生成旋转260度的SVG文件: assets\\rotate\\rotated_260.svg\n",
      "成功将SVG旋转270度并保存至: assets\\rotate\\rotated_270.svg\n",
      "已生成旋转270度的SVG文件: assets\\rotate\\rotated_270.svg\n",
      "成功将SVG旋转280度并保存至: assets\\rotate\\rotated_280.svg\n",
      "已生成旋转280度的SVG文件: assets\\rotate\\rotated_280.svg\n",
      "成功将SVG旋转290度并保存至: assets\\rotate\\rotated_290.svg\n",
      "已生成旋转290度的SVG文件: assets\\rotate\\rotated_290.svg\n",
      "成功将SVG旋转300度并保存至: assets\\rotate\\rotated_300.svg\n",
      "已生成旋转300度的SVG文件: assets\\rotate\\rotated_300.svg\n",
      "成功将SVG旋转310度并保存至: assets\\rotate\\rotated_310.svg\n",
      "已生成旋转310度的SVG文件: assets\\rotate\\rotated_310.svg\n",
      "成功将SVG旋转320度并保存至: assets\\rotate\\rotated_320.svg\n",
      "已生成旋转320度的SVG文件: assets\\rotate\\rotated_320.svg\n",
      "成功将SVG旋转330度并保存至: assets\\rotate\\rotated_330.svg\n",
      "已生成旋转330度的SVG文件: assets\\rotate\\rotated_330.svg\n",
      "成功将SVG旋转340度并保存至: assets\\rotate\\rotated_340.svg\n",
      "已生成旋转340度的SVG文件: assets\\rotate\\rotated_340.svg\n",
      "成功将SVG旋转350度并保存至: assets\\rotate\\rotated_350.svg\n",
      "已生成旋转350度的SVG文件: assets\\rotate\\rotated_350.svg\n"
     ]
    }
   ],
   "source": [
    "# 从0到360度，每隔10度生成一个旋转后的SVG\n",
    "for angle in range(0, 360, 10):\n",
    "    output_file = f\"rotated_{angle}.svg\"  # 输出文件名\n",
    "    output_path = Path(input_file).parent / output_file  # 输出完整路径\n",
    "\n",
    "    # 执行旋转操作\n",
    "    rotate_svg(input_file, output_path, angle)\n",
    "    print(f\"已生成旋转{angle}度的SVG文件: {output_path}\")"
   ]
  },
  {
   "cell_type": "code",
   "execution_count": 19,
   "id": "c15ad21a",
   "metadata": {},
   "outputs": [],
   "source": [
    "import xml.etree.ElementTree as ET\n",
    "import re\n",
    "\n",
    "def parse_length(value):\n",
    "    \"\"\"解析带单位的长度值，返回数值部分\"\"\"\n",
    "    if not value:\n",
    "        return 0.0\n",
    "    # 移除所有非数字字符（保留小数点和负号）\n",
    "    num_str = re.sub(r'[^\\d.-]', '', value)\n",
    "    return float(num_str) if num_str else 0.0\n",
    "\n",
    "def get_element_bounds(element, namespace):\n",
    "    \"\"\"获取单个元素的边界框\"\"\"\n",
    "    # 处理基本形状\n",
    "    if element.tag.endswith('rect'):\n",
    "        x = parse_length(element.get('x', 0))\n",
    "        y = parse_length(element.get('y', 0))\n",
    "        width = parse_length(element.get('width', 0))\n",
    "        height = parse_length(element.get('height', 0))\n",
    "        return (x, y, x + width, y + height)\n",
    "    \n",
    "    elif element.tag.endswith('circle'):\n",
    "        cx = parse_length(element.get('cx', 0))\n",
    "        cy = parse_length(element.get('cy', 0))\n",
    "        r = parse_length(element.get('r', 0))\n",
    "        return (cx - r, cy - r, cx + r, cy + r)\n",
    "    \n",
    "    elif element.tag.endswith('ellipse'):\n",
    "        cx = parse_length(element.get('cx', 0))\n",
    "        cy = parse_length(element.get('cy', 0))\n",
    "        rx = parse_length(element.get('rx', 0))\n",
    "        ry = parse_length(element.get('ry', 0))\n",
    "        return (cx - rx, cy - ry, cx + rx, cy + ry)\n",
    "    \n",
    "    elif element.tag.endswith('line'):\n",
    "        x1 = parse_length(element.get('x1', 0))\n",
    "        y1 = parse_length(element.get('y1', 0))\n",
    "        x2 = parse_length(element.get('x2', 0))\n",
    "        y2 = parse_length(element.get('y2', 0))\n",
    "        return (min(x1, x2), min(y1, y2), max(x1, x2), max(y1, y2))\n",
    "    \n",
    "    elif element.tag.endswith('polygon') or element.tag.endswith('polyline'):\n",
    "        points = element.get('points', '')\n",
    "        if not points:\n",
    "            return (0, 0, 0, 0)\n",
    "        \n",
    "        coords = []\n",
    "        for point in points.split():\n",
    "            x, y = point.split(',')\n",
    "            coords.append((parse_length(x), parse_length(y)))\n",
    "        \n",
    "        if not coords:\n",
    "            return (0, 0, 0, 0)\n",
    "            \n",
    "        min_x = min(p[0] for p in coords)\n",
    "        min_y = min(p[1] for p in coords)\n",
    "        max_x = max(p[0] for p in coords)\n",
    "        max_y = max(p[1] for p in coords)\n",
    "        return (min_x, min_y, max_x, max_y)\n",
    "    \n",
    "    # 对于文本和路径等复杂元素，这里简化处理\n",
    "    return (0, 0, 0, 0)\n",
    "\n",
    "def get_geometric_bounds(svg_element, namespace):\n",
    "    \"\"\"计算整个SVG图形的边界框\"\"\"\n",
    "    min_x, min_y = float('inf'), float('inf')\n",
    "    max_x, max_y = float('-inf'), float('-inf')\n",
    "    \n",
    "    # 遍历所有子元素\n",
    "    for element in svg_element.findall('.//*', namespaces=namespace):\n",
    "        x1, y1, x2, y2 = get_element_bounds(element, namespace)\n",
    "        \n",
    "        if x1 < min_x:\n",
    "            min_x = x1\n",
    "        if y1 < min_y:\n",
    "            min_y = y1\n",
    "        if x2 > max_x:\n",
    "            max_x = x2\n",
    "        if y2 > max_y:\n",
    "            max_y = y2\n",
    "    \n",
    "    # 如果没有找到任何元素，使用画布尺寸\n",
    "    if min_x == float('inf'):\n",
    "        width = parse_length(svg_element.get('width', 0))\n",
    "        height = parse_length(svg_element.get('height', 0))\n",
    "        return (0, 0, width, height)\n",
    "    \n",
    "    return (min_x, min_y, max_x, max_y)\n",
    "\n",
    "def add_background(svg_element, namespace, color=\"#ffffff\"):\n",
    "    \"\"\"为SVG添加背景色\"\"\"\n",
    "    # 获取SVG的宽度和高度\n",
    "    width = parse_length(svg_element.get('width', 0))\n",
    "    height = parse_length(svg_element.get('height', 0))\n",
    "    \n",
    "    # 如果无法获取宽度和高度，使用几何边界\n",
    "    if width <= 0 or height <= 0:\n",
    "        min_x, min_y, max_x, max_y = get_geometric_bounds(svg_element, namespace)\n",
    "        width = max_x - min_x\n",
    "        height = max_y - min_y\n",
    "    \n",
    "    # 创建背景矩形元素\n",
    "    rect = ET.Element(\"{http://www.w3.org/2000/svg}rect\")\n",
    "    rect.set(\"x\", \"0\")\n",
    "    rect.set(\"y\", \"0\")\n",
    "    rect.set(\"width\", str(width))\n",
    "    rect.set(\"height\", str(height))\n",
    "    rect.set(\"fill\", color)\n",
    "    \n",
    "    # 将背景矩形添加为第一个子元素（确保在最底层）\n",
    "    if len(svg_element) > 0:\n",
    "        svg_element.insert(0, rect)\n",
    "    else:\n",
    "        svg_element.append(rect)\n",
    "    \n",
    "    return svg_element\n",
    "\n",
    "def rotate_svg_around_center(input_path, output_path, angle, background_color=\"#f0f0f0\", rotate_around_dimensions=True):\n",
    "    \"\"\"\n",
    "    将SVG文件中的图形旋转指定角度并保存，同时添加底色\n",
    "    \n",
    "    参数:\n",
    "        input_path (str): 输入SVG文件路径\n",
    "        output_path (str): 输出SVG文件路径\n",
    "        angle (float): 旋转角度（度）\n",
    "        background_color (str): 背景颜色，默认为浅灰色#f0f0f0\n",
    "        rotate_around_dimensions (bool): 是否以SVG尺寸为中心旋转，True为以尺寸为中心，False为以图形几何中心\n",
    "    \"\"\"\n",
    "    try:\n",
    "        # 解析SVG文件\n",
    "        tree = ET.parse(input_path)\n",
    "        root = tree.getroot()\n",
    "        \n",
    "        # 获取SVG命名空间\n",
    "        namespace = {\"svg\": \"http://www.w3.org/2000/svg\"}\n",
    "        \n",
    "        # 找到svg根元素\n",
    "        svg_element = root.find(\".\", namespaces=namespace)\n",
    "        if svg_element is None:\n",
    "            raise ValueError(\"找不到SVG根元素\")\n",
    "        \n",
    "        # 获取SVG的宽度和高度\n",
    "        width = parse_length(svg_element.get('width', 0))\n",
    "        height = parse_length(svg_element.get('height', 0))\n",
    "        \n",
    "        if width <= 0 or height <= 0:\n",
    "            # 如果无法获取宽度和高度，使用几何边界\n",
    "            min_x, min_y, max_x, max_y = get_geometric_bounds(svg_element, namespace)\n",
    "            width = max_x - min_x\n",
    "            height = max_y - min_y\n",
    "            # 更新SVG元素的宽高属性\n",
    "            svg_element.set('width', str(width))\n",
    "            svg_element.set('height', str(height))\n",
    "        \n",
    "        # 确定旋转中心\n",
    "        if rotate_around_dimensions:\n",
    "            # 以SVG尺寸为中心\n",
    "            center_x = width / 2\n",
    "            center_y = height / 2\n",
    "            print(f\"SVG尺寸中心: ({center_x}, {center_y}) (宽: {width}, 高: {height})\")\n",
    "        else:\n",
    "            # 以图形几何中心\n",
    "            min_x, min_y, max_x, max_y = get_geometric_bounds(svg_element, namespace)\n",
    "            center_x = (min_x + max_x) / 2\n",
    "            center_y = (min_y + max_y) / 2\n",
    "            print(f\"图形几何中心: ({center_x}, {center_y})\")\n",
    "        \n",
    "        # 顺时针旋转相当于应用负角度的旋转变换\n",
    "        rotation = f\"rotate({-angle} {center_x} {center_y})\"\n",
    "        \n",
    "        # 获取现有的变换属性\n",
    "        existing_transform = svg_element.get(\"transform\", \"\")\n",
    "        \n",
    "        # 组合变换：先应用已有变换，再应用旋转变换\n",
    "        if existing_transform:\n",
    "            new_transform = f\"{existing_transform} {rotation}\"\n",
    "        else:\n",
    "            new_transform = rotation\n",
    "        \n",
    "        # 更新transform属性\n",
    "        svg_element.set(\"transform\", new_transform)\n",
    "        \n",
    "        # 添加背景色\n",
    "        svg_element = add_background(svg_element, namespace, background_color)\n",
    "        \n",
    "        # 保存修改后的SVG\n",
    "        # 注册命名空间以确保正确输出\n",
    "        ET.register_namespace(\"\", \"http://www.w3.org/2000/svg\")\n",
    "        tree.write(output_path, encoding=\"utf-8\", xml_declaration=True)\n",
    "        print(f\"成功将SVG旋转{angle}度并添加背景色，保存至: {output_path}\")\n",
    "        \n",
    "    except Exception as e:\n",
    "        print(f\"处理SVG时出错: {str(e)}\")\n"
   ]
  },
  {
   "cell_type": "code",
   "execution_count": 20,
   "id": "b27b9b91",
   "metadata": {},
   "outputs": [
    {
     "name": "stdout",
     "output_type": "stream",
     "text": [
      "SVG尺寸中心: (100.0, 100.0) (宽: 200.0, 高: 200.0)\n",
      "成功将SVG旋转0度并添加背景色，保存至: assets\\rotate\\rotated_0.svg\n",
      "已生成旋转0度的SVG文件: assets\\rotate\\rotated_0.svg\n",
      "SVG尺寸中心: (100.0, 100.0) (宽: 200.0, 高: 200.0)\n",
      "成功将SVG旋转15度并添加背景色，保存至: assets\\rotate\\rotated_15.svg\n",
      "已生成旋转15度的SVG文件: assets\\rotate\\rotated_15.svg\n",
      "SVG尺寸中心: (100.0, 100.0) (宽: 200.0, 高: 200.0)\n",
      "成功将SVG旋转30度并添加背景色，保存至: assets\\rotate\\rotated_30.svg\n",
      "已生成旋转30度的SVG文件: assets\\rotate\\rotated_30.svg\n",
      "SVG尺寸中心: (100.0, 100.0) (宽: 200.0, 高: 200.0)\n",
      "成功将SVG旋转45度并添加背景色，保存至: assets\\rotate\\rotated_45.svg\n",
      "已生成旋转45度的SVG文件: assets\\rotate\\rotated_45.svg\n",
      "SVG尺寸中心: (100.0, 100.0) (宽: 200.0, 高: 200.0)\n",
      "成功将SVG旋转60度并添加背景色，保存至: assets\\rotate\\rotated_60.svg\n",
      "已生成旋转60度的SVG文件: assets\\rotate\\rotated_60.svg\n",
      "SVG尺寸中心: (100.0, 100.0) (宽: 200.0, 高: 200.0)\n",
      "成功将SVG旋转75度并添加背景色，保存至: assets\\rotate\\rotated_75.svg\n",
      "已生成旋转75度的SVG文件: assets\\rotate\\rotated_75.svg\n",
      "SVG尺寸中心: (100.0, 100.0) (宽: 200.0, 高: 200.0)\n",
      "成功将SVG旋转90度并添加背景色，保存至: assets\\rotate\\rotated_90.svg\n",
      "已生成旋转90度的SVG文件: assets\\rotate\\rotated_90.svg\n",
      "SVG尺寸中心: (100.0, 100.0) (宽: 200.0, 高: 200.0)\n",
      "成功将SVG旋转105度并添加背景色，保存至: assets\\rotate\\rotated_105.svg\n",
      "已生成旋转105度的SVG文件: assets\\rotate\\rotated_105.svg\n",
      "SVG尺寸中心: (100.0, 100.0) (宽: 200.0, 高: 200.0)\n",
      "成功将SVG旋转120度并添加背景色，保存至: assets\\rotate\\rotated_120.svg\n",
      "已生成旋转120度的SVG文件: assets\\rotate\\rotated_120.svg\n",
      "SVG尺寸中心: (100.0, 100.0) (宽: 200.0, 高: 200.0)\n",
      "成功将SVG旋转135度并添加背景色，保存至: assets\\rotate\\rotated_135.svg\n",
      "已生成旋转135度的SVG文件: assets\\rotate\\rotated_135.svg\n",
      "SVG尺寸中心: (100.0, 100.0) (宽: 200.0, 高: 200.0)\n",
      "成功将SVG旋转150度并添加背景色，保存至: assets\\rotate\\rotated_150.svg\n",
      "已生成旋转150度的SVG文件: assets\\rotate\\rotated_150.svg\n",
      "SVG尺寸中心: (100.0, 100.0) (宽: 200.0, 高: 200.0)\n",
      "成功将SVG旋转165度并添加背景色，保存至: assets\\rotate\\rotated_165.svg\n",
      "已生成旋转165度的SVG文件: assets\\rotate\\rotated_165.svg\n",
      "SVG尺寸中心: (100.0, 100.0) (宽: 200.0, 高: 200.0)\n",
      "成功将SVG旋转180度并添加背景色，保存至: assets\\rotate\\rotated_180.svg\n",
      "已生成旋转180度的SVG文件: assets\\rotate\\rotated_180.svg\n",
      "SVG尺寸中心: (100.0, 100.0) (宽: 200.0, 高: 200.0)\n",
      "成功将SVG旋转195度并添加背景色，保存至: assets\\rotate\\rotated_195.svg\n",
      "已生成旋转195度的SVG文件: assets\\rotate\\rotated_195.svg\n",
      "SVG尺寸中心: (100.0, 100.0) (宽: 200.0, 高: 200.0)\n",
      "成功将SVG旋转210度并添加背景色，保存至: assets\\rotate\\rotated_210.svg\n",
      "已生成旋转210度的SVG文件: assets\\rotate\\rotated_210.svg\n",
      "SVG尺寸中心: (100.0, 100.0) (宽: 200.0, 高: 200.0)\n",
      "成功将SVG旋转225度并添加背景色，保存至: assets\\rotate\\rotated_225.svg\n",
      "已生成旋转225度的SVG文件: assets\\rotate\\rotated_225.svg\n",
      "SVG尺寸中心: (100.0, 100.0) (宽: 200.0, 高: 200.0)\n",
      "成功将SVG旋转240度并添加背景色，保存至: assets\\rotate\\rotated_240.svg\n",
      "已生成旋转240度的SVG文件: assets\\rotate\\rotated_240.svg\n",
      "SVG尺寸中心: (100.0, 100.0) (宽: 200.0, 高: 200.0)\n",
      "成功将SVG旋转255度并添加背景色，保存至: assets\\rotate\\rotated_255.svg\n",
      "已生成旋转255度的SVG文件: assets\\rotate\\rotated_255.svg\n",
      "SVG尺寸中心: (100.0, 100.0) (宽: 200.0, 高: 200.0)\n",
      "成功将SVG旋转270度并添加背景色，保存至: assets\\rotate\\rotated_270.svg\n",
      "已生成旋转270度的SVG文件: assets\\rotate\\rotated_270.svg\n",
      "SVG尺寸中心: (100.0, 100.0) (宽: 200.0, 高: 200.0)\n",
      "成功将SVG旋转285度并添加背景色，保存至: assets\\rotate\\rotated_285.svg\n",
      "已生成旋转285度的SVG文件: assets\\rotate\\rotated_285.svg\n",
      "SVG尺寸中心: (100.0, 100.0) (宽: 200.0, 高: 200.0)\n",
      "成功将SVG旋转300度并添加背景色，保存至: assets\\rotate\\rotated_300.svg\n",
      "已生成旋转300度的SVG文件: assets\\rotate\\rotated_300.svg\n",
      "SVG尺寸中心: (100.0, 100.0) (宽: 200.0, 高: 200.0)\n",
      "成功将SVG旋转315度并添加背景色，保存至: assets\\rotate\\rotated_315.svg\n",
      "已生成旋转315度的SVG文件: assets\\rotate\\rotated_315.svg\n",
      "SVG尺寸中心: (100.0, 100.0) (宽: 200.0, 高: 200.0)\n",
      "成功将SVG旋转330度并添加背景色，保存至: assets\\rotate\\rotated_330.svg\n",
      "已生成旋转330度的SVG文件: assets\\rotate\\rotated_330.svg\n",
      "SVG尺寸中心: (100.0, 100.0) (宽: 200.0, 高: 200.0)\n",
      "成功将SVG旋转345度并添加背景色，保存至: assets\\rotate\\rotated_345.svg\n",
      "已生成旋转345度的SVG文件: assets\\rotate\\rotated_345.svg\n"
     ]
    }
   ],
   "source": [
    "# 从0到360度，每隔10度生成一个旋转后的SVG\n",
    "for angle in range(0, 360, 15):\n",
    "    output_file = f\"rotated_{angle}.svg\"  # 输出文件名\n",
    "    output_path = Path(input_file).parent / output_file  # 输出完整路径\n",
    "\n",
    "    # 执行旋转操作\n",
    "    rotate_svg_around_center(input_file, output_path, angle)\n",
    "    print(f\"已生成旋转{angle}度的SVG文件: {output_path}\")"
   ]
  },
  {
   "cell_type": "code",
   "execution_count": null,
   "id": "d5142860",
   "metadata": {},
   "outputs": [],
   "source": [
    "import svgpathtools\n",
    "\n",
    "# 读取原始 SVG\n",
    "svg = svgpathtools.parse_svg(\"original.svg\")\n",
    "\n",
    "# 应用 45 度旋转\n",
    "svg.transform(svgpathtools.Transform().rotate(45))\n",
    "\n",
    "# 计算并更新视口\n",
    "new_viewBox = svgpathtools.calculate_bbox(svg.d)\n",
    "svg.viewbox = new_viewBox\n",
    "\n",
    "# 保存修改后的 SVG\n",
    "svg.save(\"rotated.svg\")"
   ]
  },
  {
   "cell_type": "code",
   "execution_count": 21,
   "id": "d2dac867",
   "metadata": {},
   "outputs": [
    {
     "name": "stdout",
     "output_type": "stream",
     "text": [
      "共找到 50 个SVG文件:\n",
      "\n",
      "显示文件: plane.svg\n"
     ]
    },
    {
     "data": {
      "image/svg+xml": [
       "<svg xmlns=\"http://www.w3.org/2000/svg\" xmlns:xlink=\"http://www.w3.org/1999/xlink\" t=\"1758595976401\" class=\"icon\" viewBox=\"0 0 1024 1024\" version=\"1.1\" p-id=\"8049\" width=\"200\" height=\"200\"><path d=\"M847.314345 1023.579001h-4.341991l-166.667675-35.152932-12.613975 23.986954a20.67796 20.67796 0 0 1-19.023963 11.579977h-88.503827a21.919957 21.919957 0 0 1-19.229963-11.579977l-19.024963-36.599929h-12.199976l-19.230962 36.599929a20.67796 20.67796 0 0 1-19.023963 11.579977h-88.503827a21.919957 21.919957 0 0 1-19.229963-11.579977l-12.407975-23.986954-166.667675 35.152932a22.539956 22.539956 0 0 1-17.989965-4.341992 21.919957 21.919957 0 0 1-7.857984-16.749967v-74.441855a21.919957 21.919957 0 0 1 6.409987-15.508969l69.686864-67.824868L72.082859 877.798286a20.67796 20.67796 0 0 1-18.196964-4.342992 21.919957 21.919957 0 0 1-7.857985-16.749967v-98.428808a21.711958 21.711958 0 0 1 5.995988-15.094971L367.370282 417.083185a2144.140812 2144.140812 0 0 1 63.275877-272.334468A899.095244 899.095244 0 0 1 465.80009 48.386905C480.273062 19.436962 492.267039 0 511.705001 0s32.670936 19.437962 45.90591 48.593905a817.002404 817.002404 0 0 1 35.152931 96.154812 2075.487946 2075.487946 0 0 1 63.275877 272.334468l315.552383 326.097363a22.745956 22.745956 0 0 1 5.995989 15.094971v98.429808a20.67796 20.67796 0 0 1-8.063985 16.749967 20.67796 20.67796 0 0 1-17.989964 4.341992l-158.80969-33.499935 69.684864 67.825868a21.919957 21.919957 0 0 1 6.409987 15.508969v74.441855a20.67796 20.67796 0 0 1-20.67796 20.677959z m-278.123457-43.009916h62.034879l14.060973-26.882948a20.67796 20.67796 0 0 1 23.366954-11.165978l156.741694 33.085936v-38.875925L709.182615 823.412392a20.67796 20.67796 0 0 1 19.230962-36.393929L935.199173 830.236378v-63.275876L620.472788 442.103137a20.67796 20.67796 0 0 1-5.789989-11.579978C586.352855 252.897506 536.519952 97.18981 511.291001 52.109898c-24.606952 45.078912-74.441855 200.786608-103.391798 378.414261a22.125957 22.125957 0 0 1-5.789988 11.579978L89.038826 766.959502v63.275876l205.129599-43.217915a20.67796 20.67796 0 0 1 20.67796 36.393929l-117.039771 113.317778v38.875925l156.535694-33.085936a20.67796 20.67796 0 0 1 23.572954 11.165978l14.061972 26.881948h62.034879l19.229963-36.806928a20.67796 20.67796 0 0 1 19.024963-11.579978h38.254925a20.67796 20.67796 0 0 1 19.023963 11.579978z\" fill=\"#333333\" p-id=\"8050\"/><path d=\"M511.705001 690.864651c-56.038891 0-78.784846-33.912934-78.784847-117.453771 0-86.84883 24.606952-180.314648 78.784847-180.314648s78.990846 93.465817 78.990845 180.314648c0 83.540837-22.952955 117.453771-78.990845 117.453771z m0-254.757503c-8.478983 1.239998-35.77393 44.871912-35.773931 137.303732 0 74.442855 16.542968 74.442855 35.773931 74.442855s35.97993 0 35.979929-74.442855c0-92.431819-27.294947-136.063734-35.979929-137.303732zM423.200173 912.123219a20.67796 20.67796 0 0 1-20.677959-20.67896V762.411511a20.67796 20.67796 0 0 1 20.677959-20.67796 20.67796 20.67796 0 0 1 20.67796 20.67796v127.99975a20.67796 20.67796 0 0 1-20.67796 21.711958z m177.213654 0a20.67796 20.67796 0 0 1-20.677959-20.67896V762.411511a20.67796 20.67796 0 0 1 20.677959-20.67796 20.67796 20.67796 0 0 1 20.67796 20.67796v127.99975a20.67796 20.67796 0 0 1-20.67796 21.711958z\" fill=\"#333333\" p-id=\"8051\"/></svg>"
      ],
      "text/plain": [
       "<IPython.core.display.SVG object>"
      ]
     },
     "metadata": {},
     "output_type": "display_data"
    },
    {
     "name": "stdout",
     "output_type": "stream",
     "text": [
      "\n",
      "显示文件: rotated_0.svg\n"
     ]
    },
    {
     "data": {
      "image/svg+xml": [
       "<svg xmlns=\"http://www.w3.org/2000/svg\" t=\"1758595976401\" class=\"icon\" viewBox=\"0 0 1024 1024\" version=\"1.1\" p-id=\"8049\" width=\"200\" height=\"200\" transform=\"rotate(0 100.0 100.0)\"><rect x=\"0\" y=\"0\" width=\"200.0\" height=\"200.0\" fill=\"#f0f0f0\"/><path d=\"M847.314345 1023.579001h-4.341991l-166.667675-35.152932-12.613975 23.986954a20.67796 20.67796 0 0 1-19.023963 11.579977h-88.503827a21.919957 21.919957 0 0 1-19.229963-11.579977l-19.024963-36.599929h-12.199976l-19.230962 36.599929a20.67796 20.67796 0 0 1-19.023963 11.579977h-88.503827a21.919957 21.919957 0 0 1-19.229963-11.579977l-12.407975-23.986954-166.667675 35.152932a22.539956 22.539956 0 0 1-17.989965-4.341992 21.919957 21.919957 0 0 1-7.857984-16.749967v-74.441855a21.919957 21.919957 0 0 1 6.409987-15.508969l69.686864-67.824868L72.082859 877.798286a20.67796 20.67796 0 0 1-18.196964-4.342992 21.919957 21.919957 0 0 1-7.857985-16.749967v-98.428808a21.711958 21.711958 0 0 1 5.995988-15.094971L367.370282 417.083185a2144.140812 2144.140812 0 0 1 63.275877-272.334468A899.095244 899.095244 0 0 1 465.80009 48.386905C480.273062 19.436962 492.267039 0 511.705001 0s32.670936 19.437962 45.90591 48.593905a817.002404 817.002404 0 0 1 35.152931 96.154812 2075.487946 2075.487946 0 0 1 63.275877 272.334468l315.552383 326.097363a22.745956 22.745956 0 0 1 5.995989 15.094971v98.429808a20.67796 20.67796 0 0 1-8.063985 16.749967 20.67796 20.67796 0 0 1-17.989964 4.341992l-158.80969-33.499935 69.684864 67.825868a21.919957 21.919957 0 0 1 6.409987 15.508969v74.441855a20.67796 20.67796 0 0 1-20.67796 20.677959z m-278.123457-43.009916h62.034879l14.060973-26.882948a20.67796 20.67796 0 0 1 23.366954-11.165978l156.741694 33.085936v-38.875925L709.182615 823.412392a20.67796 20.67796 0 0 1 19.230962-36.393929L935.199173 830.236378v-63.275876L620.472788 442.103137a20.67796 20.67796 0 0 1-5.789989-11.579978C586.352855 252.897506 536.519952 97.18981 511.291001 52.109898c-24.606952 45.078912-74.441855 200.786608-103.391798 378.414261a22.125957 22.125957 0 0 1-5.789988 11.579978L89.038826 766.959502v63.275876l205.129599-43.217915a20.67796 20.67796 0 0 1 20.67796 36.393929l-117.039771 113.317778v38.875925l156.535694-33.085936a20.67796 20.67796 0 0 1 23.572954 11.165978l14.061972 26.881948h62.034879l19.229963-36.806928a20.67796 20.67796 0 0 1 19.024963-11.579978h38.254925a20.67796 20.67796 0 0 1 19.023963 11.579978z\" fill=\"#333333\" p-id=\"8050\"/><path d=\"M511.705001 690.864651c-56.038891 0-78.784846-33.912934-78.784847-117.453771 0-86.84883 24.606952-180.314648 78.784847-180.314648s78.990846 93.465817 78.990845 180.314648c0 83.540837-22.952955 117.453771-78.990845 117.453771z m0-254.757503c-8.478983 1.239998-35.77393 44.871912-35.773931 137.303732 0 74.442855 16.542968 74.442855 35.773931 74.442855s35.97993 0 35.979929-74.442855c0-92.431819-27.294947-136.063734-35.979929-137.303732zM423.200173 912.123219a20.67796 20.67796 0 0 1-20.677959-20.67896V762.411511a20.67796 20.67796 0 0 1 20.677959-20.67796 20.67796 20.67796 0 0 1 20.67796 20.67796v127.99975a20.67796 20.67796 0 0 1-20.67796 21.711958z m177.213654 0a20.67796 20.67796 0 0 1-20.677959-20.67896V762.411511a20.67796 20.67796 0 0 1 20.677959-20.67796 20.67796 20.67796 0 0 1 20.67796 20.67796v127.99975a20.67796 20.67796 0 0 1-20.67796 21.711958z\" fill=\"#333333\" p-id=\"8051\"/></svg>"
      ],
      "text/plain": [
       "<IPython.core.display.SVG object>"
      ]
     },
     "metadata": {},
     "output_type": "display_data"
    },
    {
     "name": "stdout",
     "output_type": "stream",
     "text": [
      "\n",
      "显示文件: rotated_10.svg\n"
     ]
    },
    {
     "data": {
      "image/svg+xml": [
       "<svg xmlns=\"http://www.w3.org/2000/svg\" t=\"1758595976401\" class=\"icon\" viewBox=\"0 0 1024 1024\" version=\"1.1\" p-id=\"8049\" width=\"200\" height=\"200\" transform=\"rotate(-10 512.0 512.0)\"><path d=\"M847.314345 1023.579001h-4.341991l-166.667675-35.152932-12.613975 23.986954a20.67796 20.67796 0 0 1-19.023963 11.579977h-88.503827a21.919957 21.919957 0 0 1-19.229963-11.579977l-19.024963-36.599929h-12.199976l-19.230962 36.599929a20.67796 20.67796 0 0 1-19.023963 11.579977h-88.503827a21.919957 21.919957 0 0 1-19.229963-11.579977l-12.407975-23.986954-166.667675 35.152932a22.539956 22.539956 0 0 1-17.989965-4.341992 21.919957 21.919957 0 0 1-7.857984-16.749967v-74.441855a21.919957 21.919957 0 0 1 6.409987-15.508969l69.686864-67.824868L72.082859 877.798286a20.67796 20.67796 0 0 1-18.196964-4.342992 21.919957 21.919957 0 0 1-7.857985-16.749967v-98.428808a21.711958 21.711958 0 0 1 5.995988-15.094971L367.370282 417.083185a2144.140812 2144.140812 0 0 1 63.275877-272.334468A899.095244 899.095244 0 0 1 465.80009 48.386905C480.273062 19.436962 492.267039 0 511.705001 0s32.670936 19.437962 45.90591 48.593905a817.002404 817.002404 0 0 1 35.152931 96.154812 2075.487946 2075.487946 0 0 1 63.275877 272.334468l315.552383 326.097363a22.745956 22.745956 0 0 1 5.995989 15.094971v98.429808a20.67796 20.67796 0 0 1-8.063985 16.749967 20.67796 20.67796 0 0 1-17.989964 4.341992l-158.80969-33.499935 69.684864 67.825868a21.919957 21.919957 0 0 1 6.409987 15.508969v74.441855a20.67796 20.67796 0 0 1-20.67796 20.677959z m-278.123457-43.009916h62.034879l14.060973-26.882948a20.67796 20.67796 0 0 1 23.366954-11.165978l156.741694 33.085936v-38.875925L709.182615 823.412392a20.67796 20.67796 0 0 1 19.230962-36.393929L935.199173 830.236378v-63.275876L620.472788 442.103137a20.67796 20.67796 0 0 1-5.789989-11.579978C586.352855 252.897506 536.519952 97.18981 511.291001 52.109898c-24.606952 45.078912-74.441855 200.786608-103.391798 378.414261a22.125957 22.125957 0 0 1-5.789988 11.579978L89.038826 766.959502v63.275876l205.129599-43.217915a20.67796 20.67796 0 0 1 20.67796 36.393929l-117.039771 113.317778v38.875925l156.535694-33.085936a20.67796 20.67796 0 0 1 23.572954 11.165978l14.061972 26.881948h62.034879l19.229963-36.806928a20.67796 20.67796 0 0 1 19.024963-11.579978h38.254925a20.67796 20.67796 0 0 1 19.023963 11.579978z\" fill=\"#333333\" p-id=\"8050\"/><path d=\"M511.705001 690.864651c-56.038891 0-78.784846-33.912934-78.784847-117.453771 0-86.84883 24.606952-180.314648 78.784847-180.314648s78.990846 93.465817 78.990845 180.314648c0 83.540837-22.952955 117.453771-78.990845 117.453771z m0-254.757503c-8.478983 1.239998-35.77393 44.871912-35.773931 137.303732 0 74.442855 16.542968 74.442855 35.773931 74.442855s35.97993 0 35.979929-74.442855c0-92.431819-27.294947-136.063734-35.979929-137.303732zM423.200173 912.123219a20.67796 20.67796 0 0 1-20.677959-20.67896V762.411511a20.67796 20.67796 0 0 1 20.677959-20.67796 20.67796 20.67796 0 0 1 20.67796 20.67796v127.99975a20.67796 20.67796 0 0 1-20.67796 21.711958z m177.213654 0a20.67796 20.67796 0 0 1-20.677959-20.67896V762.411511a20.67796 20.67796 0 0 1 20.677959-20.67796 20.67796 20.67796 0 0 1 20.67796 20.67796v127.99975a20.67796 20.67796 0 0 1-20.67796 21.711958z\" fill=\"#333333\" p-id=\"8051\"/></svg>"
      ],
      "text/plain": [
       "<IPython.core.display.SVG object>"
      ]
     },
     "metadata": {},
     "output_type": "display_data"
    },
    {
     "name": "stdout",
     "output_type": "stream",
     "text": [
      "\n",
      "显示文件: rotated_100.svg\n"
     ]
    },
    {
     "data": {
      "image/svg+xml": [
       "<svg xmlns=\"http://www.w3.org/2000/svg\" t=\"1758595976401\" class=\"icon\" viewBox=\"0 0 1024 1024\" version=\"1.1\" p-id=\"8049\" width=\"200\" height=\"200\" transform=\"rotate(-100 512.0 512.0)\"><path d=\"M847.314345 1023.579001h-4.341991l-166.667675-35.152932-12.613975 23.986954a20.67796 20.67796 0 0 1-19.023963 11.579977h-88.503827a21.919957 21.919957 0 0 1-19.229963-11.579977l-19.024963-36.599929h-12.199976l-19.230962 36.599929a20.67796 20.67796 0 0 1-19.023963 11.579977h-88.503827a21.919957 21.919957 0 0 1-19.229963-11.579977l-12.407975-23.986954-166.667675 35.152932a22.539956 22.539956 0 0 1-17.989965-4.341992 21.919957 21.919957 0 0 1-7.857984-16.749967v-74.441855a21.919957 21.919957 0 0 1 6.409987-15.508969l69.686864-67.824868L72.082859 877.798286a20.67796 20.67796 0 0 1-18.196964-4.342992 21.919957 21.919957 0 0 1-7.857985-16.749967v-98.428808a21.711958 21.711958 0 0 1 5.995988-15.094971L367.370282 417.083185a2144.140812 2144.140812 0 0 1 63.275877-272.334468A899.095244 899.095244 0 0 1 465.80009 48.386905C480.273062 19.436962 492.267039 0 511.705001 0s32.670936 19.437962 45.90591 48.593905a817.002404 817.002404 0 0 1 35.152931 96.154812 2075.487946 2075.487946 0 0 1 63.275877 272.334468l315.552383 326.097363a22.745956 22.745956 0 0 1 5.995989 15.094971v98.429808a20.67796 20.67796 0 0 1-8.063985 16.749967 20.67796 20.67796 0 0 1-17.989964 4.341992l-158.80969-33.499935 69.684864 67.825868a21.919957 21.919957 0 0 1 6.409987 15.508969v74.441855a20.67796 20.67796 0 0 1-20.67796 20.677959z m-278.123457-43.009916h62.034879l14.060973-26.882948a20.67796 20.67796 0 0 1 23.366954-11.165978l156.741694 33.085936v-38.875925L709.182615 823.412392a20.67796 20.67796 0 0 1 19.230962-36.393929L935.199173 830.236378v-63.275876L620.472788 442.103137a20.67796 20.67796 0 0 1-5.789989-11.579978C586.352855 252.897506 536.519952 97.18981 511.291001 52.109898c-24.606952 45.078912-74.441855 200.786608-103.391798 378.414261a22.125957 22.125957 0 0 1-5.789988 11.579978L89.038826 766.959502v63.275876l205.129599-43.217915a20.67796 20.67796 0 0 1 20.67796 36.393929l-117.039771 113.317778v38.875925l156.535694-33.085936a20.67796 20.67796 0 0 1 23.572954 11.165978l14.061972 26.881948h62.034879l19.229963-36.806928a20.67796 20.67796 0 0 1 19.024963-11.579978h38.254925a20.67796 20.67796 0 0 1 19.023963 11.579978z\" fill=\"#333333\" p-id=\"8050\"/><path d=\"M511.705001 690.864651c-56.038891 0-78.784846-33.912934-78.784847-117.453771 0-86.84883 24.606952-180.314648 78.784847-180.314648s78.990846 93.465817 78.990845 180.314648c0 83.540837-22.952955 117.453771-78.990845 117.453771z m0-254.757503c-8.478983 1.239998-35.77393 44.871912-35.773931 137.303732 0 74.442855 16.542968 74.442855 35.773931 74.442855s35.97993 0 35.979929-74.442855c0-92.431819-27.294947-136.063734-35.979929-137.303732zM423.200173 912.123219a20.67796 20.67796 0 0 1-20.677959-20.67896V762.411511a20.67796 20.67796 0 0 1 20.677959-20.67796 20.67796 20.67796 0 0 1 20.67796 20.67796v127.99975a20.67796 20.67796 0 0 1-20.67796 21.711958z m177.213654 0a20.67796 20.67796 0 0 1-20.677959-20.67896V762.411511a20.67796 20.67796 0 0 1 20.677959-20.67796 20.67796 20.67796 0 0 1 20.67796 20.67796v127.99975a20.67796 20.67796 0 0 1-20.67796 21.711958z\" fill=\"#333333\" p-id=\"8051\"/></svg>"
      ],
      "text/plain": [
       "<IPython.core.display.SVG object>"
      ]
     },
     "metadata": {},
     "output_type": "display_data"
    },
    {
     "name": "stdout",
     "output_type": "stream",
     "text": [
      "\n",
      "显示文件: rotated_105.svg\n"
     ]
    },
    {
     "data": {
      "image/svg+xml": [
       "<svg xmlns=\"http://www.w3.org/2000/svg\" t=\"1758595976401\" class=\"icon\" viewBox=\"0 0 1024 1024\" version=\"1.1\" p-id=\"8049\" width=\"200\" height=\"200\" transform=\"rotate(-105 100.0 100.0)\"><rect x=\"0\" y=\"0\" width=\"200.0\" height=\"200.0\" fill=\"#f0f0f0\"/><path d=\"M847.314345 1023.579001h-4.341991l-166.667675-35.152932-12.613975 23.986954a20.67796 20.67796 0 0 1-19.023963 11.579977h-88.503827a21.919957 21.919957 0 0 1-19.229963-11.579977l-19.024963-36.599929h-12.199976l-19.230962 36.599929a20.67796 20.67796 0 0 1-19.023963 11.579977h-88.503827a21.919957 21.919957 0 0 1-19.229963-11.579977l-12.407975-23.986954-166.667675 35.152932a22.539956 22.539956 0 0 1-17.989965-4.341992 21.919957 21.919957 0 0 1-7.857984-16.749967v-74.441855a21.919957 21.919957 0 0 1 6.409987-15.508969l69.686864-67.824868L72.082859 877.798286a20.67796 20.67796 0 0 1-18.196964-4.342992 21.919957 21.919957 0 0 1-7.857985-16.749967v-98.428808a21.711958 21.711958 0 0 1 5.995988-15.094971L367.370282 417.083185a2144.140812 2144.140812 0 0 1 63.275877-272.334468A899.095244 899.095244 0 0 1 465.80009 48.386905C480.273062 19.436962 492.267039 0 511.705001 0s32.670936 19.437962 45.90591 48.593905a817.002404 817.002404 0 0 1 35.152931 96.154812 2075.487946 2075.487946 0 0 1 63.275877 272.334468l315.552383 326.097363a22.745956 22.745956 0 0 1 5.995989 15.094971v98.429808a20.67796 20.67796 0 0 1-8.063985 16.749967 20.67796 20.67796 0 0 1-17.989964 4.341992l-158.80969-33.499935 69.684864 67.825868a21.919957 21.919957 0 0 1 6.409987 15.508969v74.441855a20.67796 20.67796 0 0 1-20.67796 20.677959z m-278.123457-43.009916h62.034879l14.060973-26.882948a20.67796 20.67796 0 0 1 23.366954-11.165978l156.741694 33.085936v-38.875925L709.182615 823.412392a20.67796 20.67796 0 0 1 19.230962-36.393929L935.199173 830.236378v-63.275876L620.472788 442.103137a20.67796 20.67796 0 0 1-5.789989-11.579978C586.352855 252.897506 536.519952 97.18981 511.291001 52.109898c-24.606952 45.078912-74.441855 200.786608-103.391798 378.414261a22.125957 22.125957 0 0 1-5.789988 11.579978L89.038826 766.959502v63.275876l205.129599-43.217915a20.67796 20.67796 0 0 1 20.67796 36.393929l-117.039771 113.317778v38.875925l156.535694-33.085936a20.67796 20.67796 0 0 1 23.572954 11.165978l14.061972 26.881948h62.034879l19.229963-36.806928a20.67796 20.67796 0 0 1 19.024963-11.579978h38.254925a20.67796 20.67796 0 0 1 19.023963 11.579978z\" fill=\"#333333\" p-id=\"8050\"/><path d=\"M511.705001 690.864651c-56.038891 0-78.784846-33.912934-78.784847-117.453771 0-86.84883 24.606952-180.314648 78.784847-180.314648s78.990846 93.465817 78.990845 180.314648c0 83.540837-22.952955 117.453771-78.990845 117.453771z m0-254.757503c-8.478983 1.239998-35.77393 44.871912-35.773931 137.303732 0 74.442855 16.542968 74.442855 35.773931 74.442855s35.97993 0 35.979929-74.442855c0-92.431819-27.294947-136.063734-35.979929-137.303732zM423.200173 912.123219a20.67796 20.67796 0 0 1-20.677959-20.67896V762.411511a20.67796 20.67796 0 0 1 20.677959-20.67796 20.67796 20.67796 0 0 1 20.67796 20.67796v127.99975a20.67796 20.67796 0 0 1-20.67796 21.711958z m177.213654 0a20.67796 20.67796 0 0 1-20.677959-20.67896V762.411511a20.67796 20.67796 0 0 1 20.677959-20.67796 20.67796 20.67796 0 0 1 20.67796 20.67796v127.99975a20.67796 20.67796 0 0 1-20.67796 21.711958z\" fill=\"#333333\" p-id=\"8051\"/></svg>"
      ],
      "text/plain": [
       "<IPython.core.display.SVG object>"
      ]
     },
     "metadata": {},
     "output_type": "display_data"
    },
    {
     "name": "stdout",
     "output_type": "stream",
     "text": [
      "\n",
      "显示文件: rotated_110.svg\n"
     ]
    },
    {
     "data": {
      "image/svg+xml": [
       "<svg xmlns=\"http://www.w3.org/2000/svg\" t=\"1758595976401\" class=\"icon\" viewBox=\"0 0 1024 1024\" version=\"1.1\" p-id=\"8049\" width=\"200\" height=\"200\" transform=\"rotate(-110 512.0 512.0)\"><path d=\"M847.314345 1023.579001h-4.341991l-166.667675-35.152932-12.613975 23.986954a20.67796 20.67796 0 0 1-19.023963 11.579977h-88.503827a21.919957 21.919957 0 0 1-19.229963-11.579977l-19.024963-36.599929h-12.199976l-19.230962 36.599929a20.67796 20.67796 0 0 1-19.023963 11.579977h-88.503827a21.919957 21.919957 0 0 1-19.229963-11.579977l-12.407975-23.986954-166.667675 35.152932a22.539956 22.539956 0 0 1-17.989965-4.341992 21.919957 21.919957 0 0 1-7.857984-16.749967v-74.441855a21.919957 21.919957 0 0 1 6.409987-15.508969l69.686864-67.824868L72.082859 877.798286a20.67796 20.67796 0 0 1-18.196964-4.342992 21.919957 21.919957 0 0 1-7.857985-16.749967v-98.428808a21.711958 21.711958 0 0 1 5.995988-15.094971L367.370282 417.083185a2144.140812 2144.140812 0 0 1 63.275877-272.334468A899.095244 899.095244 0 0 1 465.80009 48.386905C480.273062 19.436962 492.267039 0 511.705001 0s32.670936 19.437962 45.90591 48.593905a817.002404 817.002404 0 0 1 35.152931 96.154812 2075.487946 2075.487946 0 0 1 63.275877 272.334468l315.552383 326.097363a22.745956 22.745956 0 0 1 5.995989 15.094971v98.429808a20.67796 20.67796 0 0 1-8.063985 16.749967 20.67796 20.67796 0 0 1-17.989964 4.341992l-158.80969-33.499935 69.684864 67.825868a21.919957 21.919957 0 0 1 6.409987 15.508969v74.441855a20.67796 20.67796 0 0 1-20.67796 20.677959z m-278.123457-43.009916h62.034879l14.060973-26.882948a20.67796 20.67796 0 0 1 23.366954-11.165978l156.741694 33.085936v-38.875925L709.182615 823.412392a20.67796 20.67796 0 0 1 19.230962-36.393929L935.199173 830.236378v-63.275876L620.472788 442.103137a20.67796 20.67796 0 0 1-5.789989-11.579978C586.352855 252.897506 536.519952 97.18981 511.291001 52.109898c-24.606952 45.078912-74.441855 200.786608-103.391798 378.414261a22.125957 22.125957 0 0 1-5.789988 11.579978L89.038826 766.959502v63.275876l205.129599-43.217915a20.67796 20.67796 0 0 1 20.67796 36.393929l-117.039771 113.317778v38.875925l156.535694-33.085936a20.67796 20.67796 0 0 1 23.572954 11.165978l14.061972 26.881948h62.034879l19.229963-36.806928a20.67796 20.67796 0 0 1 19.024963-11.579978h38.254925a20.67796 20.67796 0 0 1 19.023963 11.579978z\" fill=\"#333333\" p-id=\"8050\"/><path d=\"M511.705001 690.864651c-56.038891 0-78.784846-33.912934-78.784847-117.453771 0-86.84883 24.606952-180.314648 78.784847-180.314648s78.990846 93.465817 78.990845 180.314648c0 83.540837-22.952955 117.453771-78.990845 117.453771z m0-254.757503c-8.478983 1.239998-35.77393 44.871912-35.773931 137.303732 0 74.442855 16.542968 74.442855 35.773931 74.442855s35.97993 0 35.979929-74.442855c0-92.431819-27.294947-136.063734-35.979929-137.303732zM423.200173 912.123219a20.67796 20.67796 0 0 1-20.677959-20.67896V762.411511a20.67796 20.67796 0 0 1 20.677959-20.67796 20.67796 20.67796 0 0 1 20.67796 20.67796v127.99975a20.67796 20.67796 0 0 1-20.67796 21.711958z m177.213654 0a20.67796 20.67796 0 0 1-20.677959-20.67896V762.411511a20.67796 20.67796 0 0 1 20.677959-20.67796 20.67796 20.67796 0 0 1 20.67796 20.67796v127.99975a20.67796 20.67796 0 0 1-20.67796 21.711958z\" fill=\"#333333\" p-id=\"8051\"/></svg>"
      ],
      "text/plain": [
       "<IPython.core.display.SVG object>"
      ]
     },
     "metadata": {},
     "output_type": "display_data"
    },
    {
     "name": "stdout",
     "output_type": "stream",
     "text": [
      "\n",
      "显示文件: rotated_120.svg\n"
     ]
    },
    {
     "data": {
      "image/svg+xml": [
       "<svg xmlns=\"http://www.w3.org/2000/svg\" t=\"1758595976401\" class=\"icon\" viewBox=\"0 0 1024 1024\" version=\"1.1\" p-id=\"8049\" width=\"200\" height=\"200\" transform=\"rotate(-120 100.0 100.0)\"><rect x=\"0\" y=\"0\" width=\"200.0\" height=\"200.0\" fill=\"#f0f0f0\"/><path d=\"M847.314345 1023.579001h-4.341991l-166.667675-35.152932-12.613975 23.986954a20.67796 20.67796 0 0 1-19.023963 11.579977h-88.503827a21.919957 21.919957 0 0 1-19.229963-11.579977l-19.024963-36.599929h-12.199976l-19.230962 36.599929a20.67796 20.67796 0 0 1-19.023963 11.579977h-88.503827a21.919957 21.919957 0 0 1-19.229963-11.579977l-12.407975-23.986954-166.667675 35.152932a22.539956 22.539956 0 0 1-17.989965-4.341992 21.919957 21.919957 0 0 1-7.857984-16.749967v-74.441855a21.919957 21.919957 0 0 1 6.409987-15.508969l69.686864-67.824868L72.082859 877.798286a20.67796 20.67796 0 0 1-18.196964-4.342992 21.919957 21.919957 0 0 1-7.857985-16.749967v-98.428808a21.711958 21.711958 0 0 1 5.995988-15.094971L367.370282 417.083185a2144.140812 2144.140812 0 0 1 63.275877-272.334468A899.095244 899.095244 0 0 1 465.80009 48.386905C480.273062 19.436962 492.267039 0 511.705001 0s32.670936 19.437962 45.90591 48.593905a817.002404 817.002404 0 0 1 35.152931 96.154812 2075.487946 2075.487946 0 0 1 63.275877 272.334468l315.552383 326.097363a22.745956 22.745956 0 0 1 5.995989 15.094971v98.429808a20.67796 20.67796 0 0 1-8.063985 16.749967 20.67796 20.67796 0 0 1-17.989964 4.341992l-158.80969-33.499935 69.684864 67.825868a21.919957 21.919957 0 0 1 6.409987 15.508969v74.441855a20.67796 20.67796 0 0 1-20.67796 20.677959z m-278.123457-43.009916h62.034879l14.060973-26.882948a20.67796 20.67796 0 0 1 23.366954-11.165978l156.741694 33.085936v-38.875925L709.182615 823.412392a20.67796 20.67796 0 0 1 19.230962-36.393929L935.199173 830.236378v-63.275876L620.472788 442.103137a20.67796 20.67796 0 0 1-5.789989-11.579978C586.352855 252.897506 536.519952 97.18981 511.291001 52.109898c-24.606952 45.078912-74.441855 200.786608-103.391798 378.414261a22.125957 22.125957 0 0 1-5.789988 11.579978L89.038826 766.959502v63.275876l205.129599-43.217915a20.67796 20.67796 0 0 1 20.67796 36.393929l-117.039771 113.317778v38.875925l156.535694-33.085936a20.67796 20.67796 0 0 1 23.572954 11.165978l14.061972 26.881948h62.034879l19.229963-36.806928a20.67796 20.67796 0 0 1 19.024963-11.579978h38.254925a20.67796 20.67796 0 0 1 19.023963 11.579978z\" fill=\"#333333\" p-id=\"8050\"/><path d=\"M511.705001 690.864651c-56.038891 0-78.784846-33.912934-78.784847-117.453771 0-86.84883 24.606952-180.314648 78.784847-180.314648s78.990846 93.465817 78.990845 180.314648c0 83.540837-22.952955 117.453771-78.990845 117.453771z m0-254.757503c-8.478983 1.239998-35.77393 44.871912-35.773931 137.303732 0 74.442855 16.542968 74.442855 35.773931 74.442855s35.97993 0 35.979929-74.442855c0-92.431819-27.294947-136.063734-35.979929-137.303732zM423.200173 912.123219a20.67796 20.67796 0 0 1-20.677959-20.67896V762.411511a20.67796 20.67796 0 0 1 20.677959-20.67796 20.67796 20.67796 0 0 1 20.67796 20.67796v127.99975a20.67796 20.67796 0 0 1-20.67796 21.711958z m177.213654 0a20.67796 20.67796 0 0 1-20.677959-20.67896V762.411511a20.67796 20.67796 0 0 1 20.677959-20.67796 20.67796 20.67796 0 0 1 20.67796 20.67796v127.99975a20.67796 20.67796 0 0 1-20.67796 21.711958z\" fill=\"#333333\" p-id=\"8051\"/></svg>"
      ],
      "text/plain": [
       "<IPython.core.display.SVG object>"
      ]
     },
     "metadata": {},
     "output_type": "display_data"
    },
    {
     "name": "stdout",
     "output_type": "stream",
     "text": [
      "\n",
      "显示文件: rotated_130.svg\n"
     ]
    },
    {
     "data": {
      "image/svg+xml": [
       "<svg xmlns=\"http://www.w3.org/2000/svg\" t=\"1758595976401\" class=\"icon\" viewBox=\"0 0 1024 1024\" version=\"1.1\" p-id=\"8049\" width=\"200\" height=\"200\" transform=\"rotate(-130 512.0 512.0)\"><path d=\"M847.314345 1023.579001h-4.341991l-166.667675-35.152932-12.613975 23.986954a20.67796 20.67796 0 0 1-19.023963 11.579977h-88.503827a21.919957 21.919957 0 0 1-19.229963-11.579977l-19.024963-36.599929h-12.199976l-19.230962 36.599929a20.67796 20.67796 0 0 1-19.023963 11.579977h-88.503827a21.919957 21.919957 0 0 1-19.229963-11.579977l-12.407975-23.986954-166.667675 35.152932a22.539956 22.539956 0 0 1-17.989965-4.341992 21.919957 21.919957 0 0 1-7.857984-16.749967v-74.441855a21.919957 21.919957 0 0 1 6.409987-15.508969l69.686864-67.824868L72.082859 877.798286a20.67796 20.67796 0 0 1-18.196964-4.342992 21.919957 21.919957 0 0 1-7.857985-16.749967v-98.428808a21.711958 21.711958 0 0 1 5.995988-15.094971L367.370282 417.083185a2144.140812 2144.140812 0 0 1 63.275877-272.334468A899.095244 899.095244 0 0 1 465.80009 48.386905C480.273062 19.436962 492.267039 0 511.705001 0s32.670936 19.437962 45.90591 48.593905a817.002404 817.002404 0 0 1 35.152931 96.154812 2075.487946 2075.487946 0 0 1 63.275877 272.334468l315.552383 326.097363a22.745956 22.745956 0 0 1 5.995989 15.094971v98.429808a20.67796 20.67796 0 0 1-8.063985 16.749967 20.67796 20.67796 0 0 1-17.989964 4.341992l-158.80969-33.499935 69.684864 67.825868a21.919957 21.919957 0 0 1 6.409987 15.508969v74.441855a20.67796 20.67796 0 0 1-20.67796 20.677959z m-278.123457-43.009916h62.034879l14.060973-26.882948a20.67796 20.67796 0 0 1 23.366954-11.165978l156.741694 33.085936v-38.875925L709.182615 823.412392a20.67796 20.67796 0 0 1 19.230962-36.393929L935.199173 830.236378v-63.275876L620.472788 442.103137a20.67796 20.67796 0 0 1-5.789989-11.579978C586.352855 252.897506 536.519952 97.18981 511.291001 52.109898c-24.606952 45.078912-74.441855 200.786608-103.391798 378.414261a22.125957 22.125957 0 0 1-5.789988 11.579978L89.038826 766.959502v63.275876l205.129599-43.217915a20.67796 20.67796 0 0 1 20.67796 36.393929l-117.039771 113.317778v38.875925l156.535694-33.085936a20.67796 20.67796 0 0 1 23.572954 11.165978l14.061972 26.881948h62.034879l19.229963-36.806928a20.67796 20.67796 0 0 1 19.024963-11.579978h38.254925a20.67796 20.67796 0 0 1 19.023963 11.579978z\" fill=\"#333333\" p-id=\"8050\"/><path d=\"M511.705001 690.864651c-56.038891 0-78.784846-33.912934-78.784847-117.453771 0-86.84883 24.606952-180.314648 78.784847-180.314648s78.990846 93.465817 78.990845 180.314648c0 83.540837-22.952955 117.453771-78.990845 117.453771z m0-254.757503c-8.478983 1.239998-35.77393 44.871912-35.773931 137.303732 0 74.442855 16.542968 74.442855 35.773931 74.442855s35.97993 0 35.979929-74.442855c0-92.431819-27.294947-136.063734-35.979929-137.303732zM423.200173 912.123219a20.67796 20.67796 0 0 1-20.677959-20.67896V762.411511a20.67796 20.67796 0 0 1 20.677959-20.67796 20.67796 20.67796 0 0 1 20.67796 20.67796v127.99975a20.67796 20.67796 0 0 1-20.67796 21.711958z m177.213654 0a20.67796 20.67796 0 0 1-20.677959-20.67896V762.411511a20.67796 20.67796 0 0 1 20.677959-20.67796 20.67796 20.67796 0 0 1 20.67796 20.67796v127.99975a20.67796 20.67796 0 0 1-20.67796 21.711958z\" fill=\"#333333\" p-id=\"8051\"/></svg>"
      ],
      "text/plain": [
       "<IPython.core.display.SVG object>"
      ]
     },
     "metadata": {},
     "output_type": "display_data"
    },
    {
     "name": "stdout",
     "output_type": "stream",
     "text": [
      "\n",
      "显示文件: rotated_135.svg\n"
     ]
    },
    {
     "data": {
      "image/svg+xml": [
       "<svg xmlns=\"http://www.w3.org/2000/svg\" t=\"1758595976401\" class=\"icon\" viewBox=\"0 0 1024 1024\" version=\"1.1\" p-id=\"8049\" width=\"200\" height=\"200\" transform=\"rotate(-135 100.0 100.0)\"><rect x=\"0\" y=\"0\" width=\"200.0\" height=\"200.0\" fill=\"#f0f0f0\"/><path d=\"M847.314345 1023.579001h-4.341991l-166.667675-35.152932-12.613975 23.986954a20.67796 20.67796 0 0 1-19.023963 11.579977h-88.503827a21.919957 21.919957 0 0 1-19.229963-11.579977l-19.024963-36.599929h-12.199976l-19.230962 36.599929a20.67796 20.67796 0 0 1-19.023963 11.579977h-88.503827a21.919957 21.919957 0 0 1-19.229963-11.579977l-12.407975-23.986954-166.667675 35.152932a22.539956 22.539956 0 0 1-17.989965-4.341992 21.919957 21.919957 0 0 1-7.857984-16.749967v-74.441855a21.919957 21.919957 0 0 1 6.409987-15.508969l69.686864-67.824868L72.082859 877.798286a20.67796 20.67796 0 0 1-18.196964-4.342992 21.919957 21.919957 0 0 1-7.857985-16.749967v-98.428808a21.711958 21.711958 0 0 1 5.995988-15.094971L367.370282 417.083185a2144.140812 2144.140812 0 0 1 63.275877-272.334468A899.095244 899.095244 0 0 1 465.80009 48.386905C480.273062 19.436962 492.267039 0 511.705001 0s32.670936 19.437962 45.90591 48.593905a817.002404 817.002404 0 0 1 35.152931 96.154812 2075.487946 2075.487946 0 0 1 63.275877 272.334468l315.552383 326.097363a22.745956 22.745956 0 0 1 5.995989 15.094971v98.429808a20.67796 20.67796 0 0 1-8.063985 16.749967 20.67796 20.67796 0 0 1-17.989964 4.341992l-158.80969-33.499935 69.684864 67.825868a21.919957 21.919957 0 0 1 6.409987 15.508969v74.441855a20.67796 20.67796 0 0 1-20.67796 20.677959z m-278.123457-43.009916h62.034879l14.060973-26.882948a20.67796 20.67796 0 0 1 23.366954-11.165978l156.741694 33.085936v-38.875925L709.182615 823.412392a20.67796 20.67796 0 0 1 19.230962-36.393929L935.199173 830.236378v-63.275876L620.472788 442.103137a20.67796 20.67796 0 0 1-5.789989-11.579978C586.352855 252.897506 536.519952 97.18981 511.291001 52.109898c-24.606952 45.078912-74.441855 200.786608-103.391798 378.414261a22.125957 22.125957 0 0 1-5.789988 11.579978L89.038826 766.959502v63.275876l205.129599-43.217915a20.67796 20.67796 0 0 1 20.67796 36.393929l-117.039771 113.317778v38.875925l156.535694-33.085936a20.67796 20.67796 0 0 1 23.572954 11.165978l14.061972 26.881948h62.034879l19.229963-36.806928a20.67796 20.67796 0 0 1 19.024963-11.579978h38.254925a20.67796 20.67796 0 0 1 19.023963 11.579978z\" fill=\"#333333\" p-id=\"8050\"/><path d=\"M511.705001 690.864651c-56.038891 0-78.784846-33.912934-78.784847-117.453771 0-86.84883 24.606952-180.314648 78.784847-180.314648s78.990846 93.465817 78.990845 180.314648c0 83.540837-22.952955 117.453771-78.990845 117.453771z m0-254.757503c-8.478983 1.239998-35.77393 44.871912-35.773931 137.303732 0 74.442855 16.542968 74.442855 35.773931 74.442855s35.97993 0 35.979929-74.442855c0-92.431819-27.294947-136.063734-35.979929-137.303732zM423.200173 912.123219a20.67796 20.67796 0 0 1-20.677959-20.67896V762.411511a20.67796 20.67796 0 0 1 20.677959-20.67796 20.67796 20.67796 0 0 1 20.67796 20.67796v127.99975a20.67796 20.67796 0 0 1-20.67796 21.711958z m177.213654 0a20.67796 20.67796 0 0 1-20.677959-20.67896V762.411511a20.67796 20.67796 0 0 1 20.677959-20.67796 20.67796 20.67796 0 0 1 20.67796 20.67796v127.99975a20.67796 20.67796 0 0 1-20.67796 21.711958z\" fill=\"#333333\" p-id=\"8051\"/></svg>"
      ],
      "text/plain": [
       "<IPython.core.display.SVG object>"
      ]
     },
     "metadata": {},
     "output_type": "display_data"
    },
    {
     "name": "stdout",
     "output_type": "stream",
     "text": [
      "\n",
      "显示文件: rotated_140.svg\n"
     ]
    },
    {
     "data": {
      "image/svg+xml": [
       "<svg xmlns=\"http://www.w3.org/2000/svg\" t=\"1758595976401\" class=\"icon\" viewBox=\"0 0 1024 1024\" version=\"1.1\" p-id=\"8049\" width=\"200\" height=\"200\" transform=\"rotate(-140 512.0 512.0)\"><path d=\"M847.314345 1023.579001h-4.341991l-166.667675-35.152932-12.613975 23.986954a20.67796 20.67796 0 0 1-19.023963 11.579977h-88.503827a21.919957 21.919957 0 0 1-19.229963-11.579977l-19.024963-36.599929h-12.199976l-19.230962 36.599929a20.67796 20.67796 0 0 1-19.023963 11.579977h-88.503827a21.919957 21.919957 0 0 1-19.229963-11.579977l-12.407975-23.986954-166.667675 35.152932a22.539956 22.539956 0 0 1-17.989965-4.341992 21.919957 21.919957 0 0 1-7.857984-16.749967v-74.441855a21.919957 21.919957 0 0 1 6.409987-15.508969l69.686864-67.824868L72.082859 877.798286a20.67796 20.67796 0 0 1-18.196964-4.342992 21.919957 21.919957 0 0 1-7.857985-16.749967v-98.428808a21.711958 21.711958 0 0 1 5.995988-15.094971L367.370282 417.083185a2144.140812 2144.140812 0 0 1 63.275877-272.334468A899.095244 899.095244 0 0 1 465.80009 48.386905C480.273062 19.436962 492.267039 0 511.705001 0s32.670936 19.437962 45.90591 48.593905a817.002404 817.002404 0 0 1 35.152931 96.154812 2075.487946 2075.487946 0 0 1 63.275877 272.334468l315.552383 326.097363a22.745956 22.745956 0 0 1 5.995989 15.094971v98.429808a20.67796 20.67796 0 0 1-8.063985 16.749967 20.67796 20.67796 0 0 1-17.989964 4.341992l-158.80969-33.499935 69.684864 67.825868a21.919957 21.919957 0 0 1 6.409987 15.508969v74.441855a20.67796 20.67796 0 0 1-20.67796 20.677959z m-278.123457-43.009916h62.034879l14.060973-26.882948a20.67796 20.67796 0 0 1 23.366954-11.165978l156.741694 33.085936v-38.875925L709.182615 823.412392a20.67796 20.67796 0 0 1 19.230962-36.393929L935.199173 830.236378v-63.275876L620.472788 442.103137a20.67796 20.67796 0 0 1-5.789989-11.579978C586.352855 252.897506 536.519952 97.18981 511.291001 52.109898c-24.606952 45.078912-74.441855 200.786608-103.391798 378.414261a22.125957 22.125957 0 0 1-5.789988 11.579978L89.038826 766.959502v63.275876l205.129599-43.217915a20.67796 20.67796 0 0 1 20.67796 36.393929l-117.039771 113.317778v38.875925l156.535694-33.085936a20.67796 20.67796 0 0 1 23.572954 11.165978l14.061972 26.881948h62.034879l19.229963-36.806928a20.67796 20.67796 0 0 1 19.024963-11.579978h38.254925a20.67796 20.67796 0 0 1 19.023963 11.579978z\" fill=\"#333333\" p-id=\"8050\"/><path d=\"M511.705001 690.864651c-56.038891 0-78.784846-33.912934-78.784847-117.453771 0-86.84883 24.606952-180.314648 78.784847-180.314648s78.990846 93.465817 78.990845 180.314648c0 83.540837-22.952955 117.453771-78.990845 117.453771z m0-254.757503c-8.478983 1.239998-35.77393 44.871912-35.773931 137.303732 0 74.442855 16.542968 74.442855 35.773931 74.442855s35.97993 0 35.979929-74.442855c0-92.431819-27.294947-136.063734-35.979929-137.303732zM423.200173 912.123219a20.67796 20.67796 0 0 1-20.677959-20.67896V762.411511a20.67796 20.67796 0 0 1 20.677959-20.67796 20.67796 20.67796 0 0 1 20.67796 20.67796v127.99975a20.67796 20.67796 0 0 1-20.67796 21.711958z m177.213654 0a20.67796 20.67796 0 0 1-20.677959-20.67896V762.411511a20.67796 20.67796 0 0 1 20.677959-20.67796 20.67796 20.67796 0 0 1 20.67796 20.67796v127.99975a20.67796 20.67796 0 0 1-20.67796 21.711958z\" fill=\"#333333\" p-id=\"8051\"/></svg>"
      ],
      "text/plain": [
       "<IPython.core.display.SVG object>"
      ]
     },
     "metadata": {},
     "output_type": "display_data"
    },
    {
     "name": "stdout",
     "output_type": "stream",
     "text": [
      "\n",
      "显示文件: rotated_15.svg\n"
     ]
    },
    {
     "data": {
      "image/svg+xml": [
       "<svg xmlns=\"http://www.w3.org/2000/svg\" t=\"1758595976401\" class=\"icon\" viewBox=\"0 0 1024 1024\" version=\"1.1\" p-id=\"8049\" width=\"200\" height=\"200\" transform=\"rotate(-15 100.0 100.0)\"><rect x=\"0\" y=\"0\" width=\"200.0\" height=\"200.0\" fill=\"#f0f0f0\"/><path d=\"M847.314345 1023.579001h-4.341991l-166.667675-35.152932-12.613975 23.986954a20.67796 20.67796 0 0 1-19.023963 11.579977h-88.503827a21.919957 21.919957 0 0 1-19.229963-11.579977l-19.024963-36.599929h-12.199976l-19.230962 36.599929a20.67796 20.67796 0 0 1-19.023963 11.579977h-88.503827a21.919957 21.919957 0 0 1-19.229963-11.579977l-12.407975-23.986954-166.667675 35.152932a22.539956 22.539956 0 0 1-17.989965-4.341992 21.919957 21.919957 0 0 1-7.857984-16.749967v-74.441855a21.919957 21.919957 0 0 1 6.409987-15.508969l69.686864-67.824868L72.082859 877.798286a20.67796 20.67796 0 0 1-18.196964-4.342992 21.919957 21.919957 0 0 1-7.857985-16.749967v-98.428808a21.711958 21.711958 0 0 1 5.995988-15.094971L367.370282 417.083185a2144.140812 2144.140812 0 0 1 63.275877-272.334468A899.095244 899.095244 0 0 1 465.80009 48.386905C480.273062 19.436962 492.267039 0 511.705001 0s32.670936 19.437962 45.90591 48.593905a817.002404 817.002404 0 0 1 35.152931 96.154812 2075.487946 2075.487946 0 0 1 63.275877 272.334468l315.552383 326.097363a22.745956 22.745956 0 0 1 5.995989 15.094971v98.429808a20.67796 20.67796 0 0 1-8.063985 16.749967 20.67796 20.67796 0 0 1-17.989964 4.341992l-158.80969-33.499935 69.684864 67.825868a21.919957 21.919957 0 0 1 6.409987 15.508969v74.441855a20.67796 20.67796 0 0 1-20.67796 20.677959z m-278.123457-43.009916h62.034879l14.060973-26.882948a20.67796 20.67796 0 0 1 23.366954-11.165978l156.741694 33.085936v-38.875925L709.182615 823.412392a20.67796 20.67796 0 0 1 19.230962-36.393929L935.199173 830.236378v-63.275876L620.472788 442.103137a20.67796 20.67796 0 0 1-5.789989-11.579978C586.352855 252.897506 536.519952 97.18981 511.291001 52.109898c-24.606952 45.078912-74.441855 200.786608-103.391798 378.414261a22.125957 22.125957 0 0 1-5.789988 11.579978L89.038826 766.959502v63.275876l205.129599-43.217915a20.67796 20.67796 0 0 1 20.67796 36.393929l-117.039771 113.317778v38.875925l156.535694-33.085936a20.67796 20.67796 0 0 1 23.572954 11.165978l14.061972 26.881948h62.034879l19.229963-36.806928a20.67796 20.67796 0 0 1 19.024963-11.579978h38.254925a20.67796 20.67796 0 0 1 19.023963 11.579978z\" fill=\"#333333\" p-id=\"8050\"/><path d=\"M511.705001 690.864651c-56.038891 0-78.784846-33.912934-78.784847-117.453771 0-86.84883 24.606952-180.314648 78.784847-180.314648s78.990846 93.465817 78.990845 180.314648c0 83.540837-22.952955 117.453771-78.990845 117.453771z m0-254.757503c-8.478983 1.239998-35.77393 44.871912-35.773931 137.303732 0 74.442855 16.542968 74.442855 35.773931 74.442855s35.97993 0 35.979929-74.442855c0-92.431819-27.294947-136.063734-35.979929-137.303732zM423.200173 912.123219a20.67796 20.67796 0 0 1-20.677959-20.67896V762.411511a20.67796 20.67796 0 0 1 20.677959-20.67796 20.67796 20.67796 0 0 1 20.67796 20.67796v127.99975a20.67796 20.67796 0 0 1-20.67796 21.711958z m177.213654 0a20.67796 20.67796 0 0 1-20.677959-20.67896V762.411511a20.67796 20.67796 0 0 1 20.677959-20.67796 20.67796 20.67796 0 0 1 20.67796 20.67796v127.99975a20.67796 20.67796 0 0 1-20.67796 21.711958z\" fill=\"#333333\" p-id=\"8051\"/></svg>"
      ],
      "text/plain": [
       "<IPython.core.display.SVG object>"
      ]
     },
     "metadata": {},
     "output_type": "display_data"
    },
    {
     "name": "stdout",
     "output_type": "stream",
     "text": [
      "\n",
      "显示文件: rotated_150.svg\n"
     ]
    },
    {
     "data": {
      "image/svg+xml": [
       "<svg xmlns=\"http://www.w3.org/2000/svg\" t=\"1758595976401\" class=\"icon\" viewBox=\"0 0 1024 1024\" version=\"1.1\" p-id=\"8049\" width=\"200\" height=\"200\" transform=\"rotate(-150 100.0 100.0)\"><rect x=\"0\" y=\"0\" width=\"200.0\" height=\"200.0\" fill=\"#f0f0f0\"/><path d=\"M847.314345 1023.579001h-4.341991l-166.667675-35.152932-12.613975 23.986954a20.67796 20.67796 0 0 1-19.023963 11.579977h-88.503827a21.919957 21.919957 0 0 1-19.229963-11.579977l-19.024963-36.599929h-12.199976l-19.230962 36.599929a20.67796 20.67796 0 0 1-19.023963 11.579977h-88.503827a21.919957 21.919957 0 0 1-19.229963-11.579977l-12.407975-23.986954-166.667675 35.152932a22.539956 22.539956 0 0 1-17.989965-4.341992 21.919957 21.919957 0 0 1-7.857984-16.749967v-74.441855a21.919957 21.919957 0 0 1 6.409987-15.508969l69.686864-67.824868L72.082859 877.798286a20.67796 20.67796 0 0 1-18.196964-4.342992 21.919957 21.919957 0 0 1-7.857985-16.749967v-98.428808a21.711958 21.711958 0 0 1 5.995988-15.094971L367.370282 417.083185a2144.140812 2144.140812 0 0 1 63.275877-272.334468A899.095244 899.095244 0 0 1 465.80009 48.386905C480.273062 19.436962 492.267039 0 511.705001 0s32.670936 19.437962 45.90591 48.593905a817.002404 817.002404 0 0 1 35.152931 96.154812 2075.487946 2075.487946 0 0 1 63.275877 272.334468l315.552383 326.097363a22.745956 22.745956 0 0 1 5.995989 15.094971v98.429808a20.67796 20.67796 0 0 1-8.063985 16.749967 20.67796 20.67796 0 0 1-17.989964 4.341992l-158.80969-33.499935 69.684864 67.825868a21.919957 21.919957 0 0 1 6.409987 15.508969v74.441855a20.67796 20.67796 0 0 1-20.67796 20.677959z m-278.123457-43.009916h62.034879l14.060973-26.882948a20.67796 20.67796 0 0 1 23.366954-11.165978l156.741694 33.085936v-38.875925L709.182615 823.412392a20.67796 20.67796 0 0 1 19.230962-36.393929L935.199173 830.236378v-63.275876L620.472788 442.103137a20.67796 20.67796 0 0 1-5.789989-11.579978C586.352855 252.897506 536.519952 97.18981 511.291001 52.109898c-24.606952 45.078912-74.441855 200.786608-103.391798 378.414261a22.125957 22.125957 0 0 1-5.789988 11.579978L89.038826 766.959502v63.275876l205.129599-43.217915a20.67796 20.67796 0 0 1 20.67796 36.393929l-117.039771 113.317778v38.875925l156.535694-33.085936a20.67796 20.67796 0 0 1 23.572954 11.165978l14.061972 26.881948h62.034879l19.229963-36.806928a20.67796 20.67796 0 0 1 19.024963-11.579978h38.254925a20.67796 20.67796 0 0 1 19.023963 11.579978z\" fill=\"#333333\" p-id=\"8050\"/><path d=\"M511.705001 690.864651c-56.038891 0-78.784846-33.912934-78.784847-117.453771 0-86.84883 24.606952-180.314648 78.784847-180.314648s78.990846 93.465817 78.990845 180.314648c0 83.540837-22.952955 117.453771-78.990845 117.453771z m0-254.757503c-8.478983 1.239998-35.77393 44.871912-35.773931 137.303732 0 74.442855 16.542968 74.442855 35.773931 74.442855s35.97993 0 35.979929-74.442855c0-92.431819-27.294947-136.063734-35.979929-137.303732zM423.200173 912.123219a20.67796 20.67796 0 0 1-20.677959-20.67896V762.411511a20.67796 20.67796 0 0 1 20.677959-20.67796 20.67796 20.67796 0 0 1 20.67796 20.67796v127.99975a20.67796 20.67796 0 0 1-20.67796 21.711958z m177.213654 0a20.67796 20.67796 0 0 1-20.677959-20.67896V762.411511a20.67796 20.67796 0 0 1 20.677959-20.67796 20.67796 20.67796 0 0 1 20.67796 20.67796v127.99975a20.67796 20.67796 0 0 1-20.67796 21.711958z\" fill=\"#333333\" p-id=\"8051\"/></svg>"
      ],
      "text/plain": [
       "<IPython.core.display.SVG object>"
      ]
     },
     "metadata": {},
     "output_type": "display_data"
    },
    {
     "name": "stdout",
     "output_type": "stream",
     "text": [
      "\n",
      "显示文件: rotated_160.svg\n"
     ]
    },
    {
     "data": {
      "image/svg+xml": [
       "<svg xmlns=\"http://www.w3.org/2000/svg\" t=\"1758595976401\" class=\"icon\" viewBox=\"0 0 1024 1024\" version=\"1.1\" p-id=\"8049\" width=\"200\" height=\"200\" transform=\"rotate(-160 512.0 512.0)\"><path d=\"M847.314345 1023.579001h-4.341991l-166.667675-35.152932-12.613975 23.986954a20.67796 20.67796 0 0 1-19.023963 11.579977h-88.503827a21.919957 21.919957 0 0 1-19.229963-11.579977l-19.024963-36.599929h-12.199976l-19.230962 36.599929a20.67796 20.67796 0 0 1-19.023963 11.579977h-88.503827a21.919957 21.919957 0 0 1-19.229963-11.579977l-12.407975-23.986954-166.667675 35.152932a22.539956 22.539956 0 0 1-17.989965-4.341992 21.919957 21.919957 0 0 1-7.857984-16.749967v-74.441855a21.919957 21.919957 0 0 1 6.409987-15.508969l69.686864-67.824868L72.082859 877.798286a20.67796 20.67796 0 0 1-18.196964-4.342992 21.919957 21.919957 0 0 1-7.857985-16.749967v-98.428808a21.711958 21.711958 0 0 1 5.995988-15.094971L367.370282 417.083185a2144.140812 2144.140812 0 0 1 63.275877-272.334468A899.095244 899.095244 0 0 1 465.80009 48.386905C480.273062 19.436962 492.267039 0 511.705001 0s32.670936 19.437962 45.90591 48.593905a817.002404 817.002404 0 0 1 35.152931 96.154812 2075.487946 2075.487946 0 0 1 63.275877 272.334468l315.552383 326.097363a22.745956 22.745956 0 0 1 5.995989 15.094971v98.429808a20.67796 20.67796 0 0 1-8.063985 16.749967 20.67796 20.67796 0 0 1-17.989964 4.341992l-158.80969-33.499935 69.684864 67.825868a21.919957 21.919957 0 0 1 6.409987 15.508969v74.441855a20.67796 20.67796 0 0 1-20.67796 20.677959z m-278.123457-43.009916h62.034879l14.060973-26.882948a20.67796 20.67796 0 0 1 23.366954-11.165978l156.741694 33.085936v-38.875925L709.182615 823.412392a20.67796 20.67796 0 0 1 19.230962-36.393929L935.199173 830.236378v-63.275876L620.472788 442.103137a20.67796 20.67796 0 0 1-5.789989-11.579978C586.352855 252.897506 536.519952 97.18981 511.291001 52.109898c-24.606952 45.078912-74.441855 200.786608-103.391798 378.414261a22.125957 22.125957 0 0 1-5.789988 11.579978L89.038826 766.959502v63.275876l205.129599-43.217915a20.67796 20.67796 0 0 1 20.67796 36.393929l-117.039771 113.317778v38.875925l156.535694-33.085936a20.67796 20.67796 0 0 1 23.572954 11.165978l14.061972 26.881948h62.034879l19.229963-36.806928a20.67796 20.67796 0 0 1 19.024963-11.579978h38.254925a20.67796 20.67796 0 0 1 19.023963 11.579978z\" fill=\"#333333\" p-id=\"8050\"/><path d=\"M511.705001 690.864651c-56.038891 0-78.784846-33.912934-78.784847-117.453771 0-86.84883 24.606952-180.314648 78.784847-180.314648s78.990846 93.465817 78.990845 180.314648c0 83.540837-22.952955 117.453771-78.990845 117.453771z m0-254.757503c-8.478983 1.239998-35.77393 44.871912-35.773931 137.303732 0 74.442855 16.542968 74.442855 35.773931 74.442855s35.97993 0 35.979929-74.442855c0-92.431819-27.294947-136.063734-35.979929-137.303732zM423.200173 912.123219a20.67796 20.67796 0 0 1-20.677959-20.67896V762.411511a20.67796 20.67796 0 0 1 20.677959-20.67796 20.67796 20.67796 0 0 1 20.67796 20.67796v127.99975a20.67796 20.67796 0 0 1-20.67796 21.711958z m177.213654 0a20.67796 20.67796 0 0 1-20.677959-20.67896V762.411511a20.67796 20.67796 0 0 1 20.677959-20.67796 20.67796 20.67796 0 0 1 20.67796 20.67796v127.99975a20.67796 20.67796 0 0 1-20.67796 21.711958z\" fill=\"#333333\" p-id=\"8051\"/></svg>"
      ],
      "text/plain": [
       "<IPython.core.display.SVG object>"
      ]
     },
     "metadata": {},
     "output_type": "display_data"
    },
    {
     "name": "stdout",
     "output_type": "stream",
     "text": [
      "\n",
      "显示文件: rotated_165.svg\n"
     ]
    },
    {
     "data": {
      "image/svg+xml": [
       "<svg xmlns=\"http://www.w3.org/2000/svg\" t=\"1758595976401\" class=\"icon\" viewBox=\"0 0 1024 1024\" version=\"1.1\" p-id=\"8049\" width=\"200\" height=\"200\" transform=\"rotate(-165 100.0 100.0)\"><rect x=\"0\" y=\"0\" width=\"200.0\" height=\"200.0\" fill=\"#f0f0f0\"/><path d=\"M847.314345 1023.579001h-4.341991l-166.667675-35.152932-12.613975 23.986954a20.67796 20.67796 0 0 1-19.023963 11.579977h-88.503827a21.919957 21.919957 0 0 1-19.229963-11.579977l-19.024963-36.599929h-12.199976l-19.230962 36.599929a20.67796 20.67796 0 0 1-19.023963 11.579977h-88.503827a21.919957 21.919957 0 0 1-19.229963-11.579977l-12.407975-23.986954-166.667675 35.152932a22.539956 22.539956 0 0 1-17.989965-4.341992 21.919957 21.919957 0 0 1-7.857984-16.749967v-74.441855a21.919957 21.919957 0 0 1 6.409987-15.508969l69.686864-67.824868L72.082859 877.798286a20.67796 20.67796 0 0 1-18.196964-4.342992 21.919957 21.919957 0 0 1-7.857985-16.749967v-98.428808a21.711958 21.711958 0 0 1 5.995988-15.094971L367.370282 417.083185a2144.140812 2144.140812 0 0 1 63.275877-272.334468A899.095244 899.095244 0 0 1 465.80009 48.386905C480.273062 19.436962 492.267039 0 511.705001 0s32.670936 19.437962 45.90591 48.593905a817.002404 817.002404 0 0 1 35.152931 96.154812 2075.487946 2075.487946 0 0 1 63.275877 272.334468l315.552383 326.097363a22.745956 22.745956 0 0 1 5.995989 15.094971v98.429808a20.67796 20.67796 0 0 1-8.063985 16.749967 20.67796 20.67796 0 0 1-17.989964 4.341992l-158.80969-33.499935 69.684864 67.825868a21.919957 21.919957 0 0 1 6.409987 15.508969v74.441855a20.67796 20.67796 0 0 1-20.67796 20.677959z m-278.123457-43.009916h62.034879l14.060973-26.882948a20.67796 20.67796 0 0 1 23.366954-11.165978l156.741694 33.085936v-38.875925L709.182615 823.412392a20.67796 20.67796 0 0 1 19.230962-36.393929L935.199173 830.236378v-63.275876L620.472788 442.103137a20.67796 20.67796 0 0 1-5.789989-11.579978C586.352855 252.897506 536.519952 97.18981 511.291001 52.109898c-24.606952 45.078912-74.441855 200.786608-103.391798 378.414261a22.125957 22.125957 0 0 1-5.789988 11.579978L89.038826 766.959502v63.275876l205.129599-43.217915a20.67796 20.67796 0 0 1 20.67796 36.393929l-117.039771 113.317778v38.875925l156.535694-33.085936a20.67796 20.67796 0 0 1 23.572954 11.165978l14.061972 26.881948h62.034879l19.229963-36.806928a20.67796 20.67796 0 0 1 19.024963-11.579978h38.254925a20.67796 20.67796 0 0 1 19.023963 11.579978z\" fill=\"#333333\" p-id=\"8050\"/><path d=\"M511.705001 690.864651c-56.038891 0-78.784846-33.912934-78.784847-117.453771 0-86.84883 24.606952-180.314648 78.784847-180.314648s78.990846 93.465817 78.990845 180.314648c0 83.540837-22.952955 117.453771-78.990845 117.453771z m0-254.757503c-8.478983 1.239998-35.77393 44.871912-35.773931 137.303732 0 74.442855 16.542968 74.442855 35.773931 74.442855s35.97993 0 35.979929-74.442855c0-92.431819-27.294947-136.063734-35.979929-137.303732zM423.200173 912.123219a20.67796 20.67796 0 0 1-20.677959-20.67896V762.411511a20.67796 20.67796 0 0 1 20.677959-20.67796 20.67796 20.67796 0 0 1 20.67796 20.67796v127.99975a20.67796 20.67796 0 0 1-20.67796 21.711958z m177.213654 0a20.67796 20.67796 0 0 1-20.677959-20.67896V762.411511a20.67796 20.67796 0 0 1 20.677959-20.67796 20.67796 20.67796 0 0 1 20.67796 20.67796v127.99975a20.67796 20.67796 0 0 1-20.67796 21.711958z\" fill=\"#333333\" p-id=\"8051\"/></svg>"
      ],
      "text/plain": [
       "<IPython.core.display.SVG object>"
      ]
     },
     "metadata": {},
     "output_type": "display_data"
    },
    {
     "name": "stdout",
     "output_type": "stream",
     "text": [
      "\n",
      "显示文件: rotated_170.svg\n"
     ]
    },
    {
     "data": {
      "image/svg+xml": [
       "<svg xmlns=\"http://www.w3.org/2000/svg\" t=\"1758595976401\" class=\"icon\" viewBox=\"0 0 1024 1024\" version=\"1.1\" p-id=\"8049\" width=\"200\" height=\"200\" transform=\"rotate(-170 512.0 512.0)\"><path d=\"M847.314345 1023.579001h-4.341991l-166.667675-35.152932-12.613975 23.986954a20.67796 20.67796 0 0 1-19.023963 11.579977h-88.503827a21.919957 21.919957 0 0 1-19.229963-11.579977l-19.024963-36.599929h-12.199976l-19.230962 36.599929a20.67796 20.67796 0 0 1-19.023963 11.579977h-88.503827a21.919957 21.919957 0 0 1-19.229963-11.579977l-12.407975-23.986954-166.667675 35.152932a22.539956 22.539956 0 0 1-17.989965-4.341992 21.919957 21.919957 0 0 1-7.857984-16.749967v-74.441855a21.919957 21.919957 0 0 1 6.409987-15.508969l69.686864-67.824868L72.082859 877.798286a20.67796 20.67796 0 0 1-18.196964-4.342992 21.919957 21.919957 0 0 1-7.857985-16.749967v-98.428808a21.711958 21.711958 0 0 1 5.995988-15.094971L367.370282 417.083185a2144.140812 2144.140812 0 0 1 63.275877-272.334468A899.095244 899.095244 0 0 1 465.80009 48.386905C480.273062 19.436962 492.267039 0 511.705001 0s32.670936 19.437962 45.90591 48.593905a817.002404 817.002404 0 0 1 35.152931 96.154812 2075.487946 2075.487946 0 0 1 63.275877 272.334468l315.552383 326.097363a22.745956 22.745956 0 0 1 5.995989 15.094971v98.429808a20.67796 20.67796 0 0 1-8.063985 16.749967 20.67796 20.67796 0 0 1-17.989964 4.341992l-158.80969-33.499935 69.684864 67.825868a21.919957 21.919957 0 0 1 6.409987 15.508969v74.441855a20.67796 20.67796 0 0 1-20.67796 20.677959z m-278.123457-43.009916h62.034879l14.060973-26.882948a20.67796 20.67796 0 0 1 23.366954-11.165978l156.741694 33.085936v-38.875925L709.182615 823.412392a20.67796 20.67796 0 0 1 19.230962-36.393929L935.199173 830.236378v-63.275876L620.472788 442.103137a20.67796 20.67796 0 0 1-5.789989-11.579978C586.352855 252.897506 536.519952 97.18981 511.291001 52.109898c-24.606952 45.078912-74.441855 200.786608-103.391798 378.414261a22.125957 22.125957 0 0 1-5.789988 11.579978L89.038826 766.959502v63.275876l205.129599-43.217915a20.67796 20.67796 0 0 1 20.67796 36.393929l-117.039771 113.317778v38.875925l156.535694-33.085936a20.67796 20.67796 0 0 1 23.572954 11.165978l14.061972 26.881948h62.034879l19.229963-36.806928a20.67796 20.67796 0 0 1 19.024963-11.579978h38.254925a20.67796 20.67796 0 0 1 19.023963 11.579978z\" fill=\"#333333\" p-id=\"8050\"/><path d=\"M511.705001 690.864651c-56.038891 0-78.784846-33.912934-78.784847-117.453771 0-86.84883 24.606952-180.314648 78.784847-180.314648s78.990846 93.465817 78.990845 180.314648c0 83.540837-22.952955 117.453771-78.990845 117.453771z m0-254.757503c-8.478983 1.239998-35.77393 44.871912-35.773931 137.303732 0 74.442855 16.542968 74.442855 35.773931 74.442855s35.97993 0 35.979929-74.442855c0-92.431819-27.294947-136.063734-35.979929-137.303732zM423.200173 912.123219a20.67796 20.67796 0 0 1-20.677959-20.67896V762.411511a20.67796 20.67796 0 0 1 20.677959-20.67796 20.67796 20.67796 0 0 1 20.67796 20.67796v127.99975a20.67796 20.67796 0 0 1-20.67796 21.711958z m177.213654 0a20.67796 20.67796 0 0 1-20.677959-20.67896V762.411511a20.67796 20.67796 0 0 1 20.677959-20.67796 20.67796 20.67796 0 0 1 20.67796 20.67796v127.99975a20.67796 20.67796 0 0 1-20.67796 21.711958z\" fill=\"#333333\" p-id=\"8051\"/></svg>"
      ],
      "text/plain": [
       "<IPython.core.display.SVG object>"
      ]
     },
     "metadata": {},
     "output_type": "display_data"
    },
    {
     "name": "stdout",
     "output_type": "stream",
     "text": [
      "\n",
      "显示文件: rotated_180.svg\n"
     ]
    },
    {
     "data": {
      "image/svg+xml": [
       "<svg xmlns=\"http://www.w3.org/2000/svg\" t=\"1758595976401\" class=\"icon\" viewBox=\"0 0 1024 1024\" version=\"1.1\" p-id=\"8049\" width=\"200\" height=\"200\" transform=\"rotate(-180 100.0 100.0)\"><rect x=\"0\" y=\"0\" width=\"200.0\" height=\"200.0\" fill=\"#f0f0f0\"/><path d=\"M847.314345 1023.579001h-4.341991l-166.667675-35.152932-12.613975 23.986954a20.67796 20.67796 0 0 1-19.023963 11.579977h-88.503827a21.919957 21.919957 0 0 1-19.229963-11.579977l-19.024963-36.599929h-12.199976l-19.230962 36.599929a20.67796 20.67796 0 0 1-19.023963 11.579977h-88.503827a21.919957 21.919957 0 0 1-19.229963-11.579977l-12.407975-23.986954-166.667675 35.152932a22.539956 22.539956 0 0 1-17.989965-4.341992 21.919957 21.919957 0 0 1-7.857984-16.749967v-74.441855a21.919957 21.919957 0 0 1 6.409987-15.508969l69.686864-67.824868L72.082859 877.798286a20.67796 20.67796 0 0 1-18.196964-4.342992 21.919957 21.919957 0 0 1-7.857985-16.749967v-98.428808a21.711958 21.711958 0 0 1 5.995988-15.094971L367.370282 417.083185a2144.140812 2144.140812 0 0 1 63.275877-272.334468A899.095244 899.095244 0 0 1 465.80009 48.386905C480.273062 19.436962 492.267039 0 511.705001 0s32.670936 19.437962 45.90591 48.593905a817.002404 817.002404 0 0 1 35.152931 96.154812 2075.487946 2075.487946 0 0 1 63.275877 272.334468l315.552383 326.097363a22.745956 22.745956 0 0 1 5.995989 15.094971v98.429808a20.67796 20.67796 0 0 1-8.063985 16.749967 20.67796 20.67796 0 0 1-17.989964 4.341992l-158.80969-33.499935 69.684864 67.825868a21.919957 21.919957 0 0 1 6.409987 15.508969v74.441855a20.67796 20.67796 0 0 1-20.67796 20.677959z m-278.123457-43.009916h62.034879l14.060973-26.882948a20.67796 20.67796 0 0 1 23.366954-11.165978l156.741694 33.085936v-38.875925L709.182615 823.412392a20.67796 20.67796 0 0 1 19.230962-36.393929L935.199173 830.236378v-63.275876L620.472788 442.103137a20.67796 20.67796 0 0 1-5.789989-11.579978C586.352855 252.897506 536.519952 97.18981 511.291001 52.109898c-24.606952 45.078912-74.441855 200.786608-103.391798 378.414261a22.125957 22.125957 0 0 1-5.789988 11.579978L89.038826 766.959502v63.275876l205.129599-43.217915a20.67796 20.67796 0 0 1 20.67796 36.393929l-117.039771 113.317778v38.875925l156.535694-33.085936a20.67796 20.67796 0 0 1 23.572954 11.165978l14.061972 26.881948h62.034879l19.229963-36.806928a20.67796 20.67796 0 0 1 19.024963-11.579978h38.254925a20.67796 20.67796 0 0 1 19.023963 11.579978z\" fill=\"#333333\" p-id=\"8050\"/><path d=\"M511.705001 690.864651c-56.038891 0-78.784846-33.912934-78.784847-117.453771 0-86.84883 24.606952-180.314648 78.784847-180.314648s78.990846 93.465817 78.990845 180.314648c0 83.540837-22.952955 117.453771-78.990845 117.453771z m0-254.757503c-8.478983 1.239998-35.77393 44.871912-35.773931 137.303732 0 74.442855 16.542968 74.442855 35.773931 74.442855s35.97993 0 35.979929-74.442855c0-92.431819-27.294947-136.063734-35.979929-137.303732zM423.200173 912.123219a20.67796 20.67796 0 0 1-20.677959-20.67896V762.411511a20.67796 20.67796 0 0 1 20.677959-20.67796 20.67796 20.67796 0 0 1 20.67796 20.67796v127.99975a20.67796 20.67796 0 0 1-20.67796 21.711958z m177.213654 0a20.67796 20.67796 0 0 1-20.677959-20.67896V762.411511a20.67796 20.67796 0 0 1 20.677959-20.67796 20.67796 20.67796 0 0 1 20.67796 20.67796v127.99975a20.67796 20.67796 0 0 1-20.67796 21.711958z\" fill=\"#333333\" p-id=\"8051\"/></svg>"
      ],
      "text/plain": [
       "<IPython.core.display.SVG object>"
      ]
     },
     "metadata": {},
     "output_type": "display_data"
    },
    {
     "name": "stdout",
     "output_type": "stream",
     "text": [
      "\n",
      "显示文件: rotated_190.svg\n"
     ]
    },
    {
     "data": {
      "image/svg+xml": [
       "<svg xmlns=\"http://www.w3.org/2000/svg\" t=\"1758595976401\" class=\"icon\" viewBox=\"0 0 1024 1024\" version=\"1.1\" p-id=\"8049\" width=\"200\" height=\"200\" transform=\"rotate(-190 512.0 512.0)\"><path d=\"M847.314345 1023.579001h-4.341991l-166.667675-35.152932-12.613975 23.986954a20.67796 20.67796 0 0 1-19.023963 11.579977h-88.503827a21.919957 21.919957 0 0 1-19.229963-11.579977l-19.024963-36.599929h-12.199976l-19.230962 36.599929a20.67796 20.67796 0 0 1-19.023963 11.579977h-88.503827a21.919957 21.919957 0 0 1-19.229963-11.579977l-12.407975-23.986954-166.667675 35.152932a22.539956 22.539956 0 0 1-17.989965-4.341992 21.919957 21.919957 0 0 1-7.857984-16.749967v-74.441855a21.919957 21.919957 0 0 1 6.409987-15.508969l69.686864-67.824868L72.082859 877.798286a20.67796 20.67796 0 0 1-18.196964-4.342992 21.919957 21.919957 0 0 1-7.857985-16.749967v-98.428808a21.711958 21.711958 0 0 1 5.995988-15.094971L367.370282 417.083185a2144.140812 2144.140812 0 0 1 63.275877-272.334468A899.095244 899.095244 0 0 1 465.80009 48.386905C480.273062 19.436962 492.267039 0 511.705001 0s32.670936 19.437962 45.90591 48.593905a817.002404 817.002404 0 0 1 35.152931 96.154812 2075.487946 2075.487946 0 0 1 63.275877 272.334468l315.552383 326.097363a22.745956 22.745956 0 0 1 5.995989 15.094971v98.429808a20.67796 20.67796 0 0 1-8.063985 16.749967 20.67796 20.67796 0 0 1-17.989964 4.341992l-158.80969-33.499935 69.684864 67.825868a21.919957 21.919957 0 0 1 6.409987 15.508969v74.441855a20.67796 20.67796 0 0 1-20.67796 20.677959z m-278.123457-43.009916h62.034879l14.060973-26.882948a20.67796 20.67796 0 0 1 23.366954-11.165978l156.741694 33.085936v-38.875925L709.182615 823.412392a20.67796 20.67796 0 0 1 19.230962-36.393929L935.199173 830.236378v-63.275876L620.472788 442.103137a20.67796 20.67796 0 0 1-5.789989-11.579978C586.352855 252.897506 536.519952 97.18981 511.291001 52.109898c-24.606952 45.078912-74.441855 200.786608-103.391798 378.414261a22.125957 22.125957 0 0 1-5.789988 11.579978L89.038826 766.959502v63.275876l205.129599-43.217915a20.67796 20.67796 0 0 1 20.67796 36.393929l-117.039771 113.317778v38.875925l156.535694-33.085936a20.67796 20.67796 0 0 1 23.572954 11.165978l14.061972 26.881948h62.034879l19.229963-36.806928a20.67796 20.67796 0 0 1 19.024963-11.579978h38.254925a20.67796 20.67796 0 0 1 19.023963 11.579978z\" fill=\"#333333\" p-id=\"8050\"/><path d=\"M511.705001 690.864651c-56.038891 0-78.784846-33.912934-78.784847-117.453771 0-86.84883 24.606952-180.314648 78.784847-180.314648s78.990846 93.465817 78.990845 180.314648c0 83.540837-22.952955 117.453771-78.990845 117.453771z m0-254.757503c-8.478983 1.239998-35.77393 44.871912-35.773931 137.303732 0 74.442855 16.542968 74.442855 35.773931 74.442855s35.97993 0 35.979929-74.442855c0-92.431819-27.294947-136.063734-35.979929-137.303732zM423.200173 912.123219a20.67796 20.67796 0 0 1-20.677959-20.67896V762.411511a20.67796 20.67796 0 0 1 20.677959-20.67796 20.67796 20.67796 0 0 1 20.67796 20.67796v127.99975a20.67796 20.67796 0 0 1-20.67796 21.711958z m177.213654 0a20.67796 20.67796 0 0 1-20.677959-20.67896V762.411511a20.67796 20.67796 0 0 1 20.677959-20.67796 20.67796 20.67796 0 0 1 20.67796 20.67796v127.99975a20.67796 20.67796 0 0 1-20.67796 21.711958z\" fill=\"#333333\" p-id=\"8051\"/></svg>"
      ],
      "text/plain": [
       "<IPython.core.display.SVG object>"
      ]
     },
     "metadata": {},
     "output_type": "display_data"
    },
    {
     "name": "stdout",
     "output_type": "stream",
     "text": [
      "\n",
      "显示文件: rotated_195.svg\n"
     ]
    },
    {
     "data": {
      "image/svg+xml": [
       "<svg xmlns=\"http://www.w3.org/2000/svg\" t=\"1758595976401\" class=\"icon\" viewBox=\"0 0 1024 1024\" version=\"1.1\" p-id=\"8049\" width=\"200\" height=\"200\" transform=\"rotate(-195 100.0 100.0)\"><rect x=\"0\" y=\"0\" width=\"200.0\" height=\"200.0\" fill=\"#f0f0f0\"/><path d=\"M847.314345 1023.579001h-4.341991l-166.667675-35.152932-12.613975 23.986954a20.67796 20.67796 0 0 1-19.023963 11.579977h-88.503827a21.919957 21.919957 0 0 1-19.229963-11.579977l-19.024963-36.599929h-12.199976l-19.230962 36.599929a20.67796 20.67796 0 0 1-19.023963 11.579977h-88.503827a21.919957 21.919957 0 0 1-19.229963-11.579977l-12.407975-23.986954-166.667675 35.152932a22.539956 22.539956 0 0 1-17.989965-4.341992 21.919957 21.919957 0 0 1-7.857984-16.749967v-74.441855a21.919957 21.919957 0 0 1 6.409987-15.508969l69.686864-67.824868L72.082859 877.798286a20.67796 20.67796 0 0 1-18.196964-4.342992 21.919957 21.919957 0 0 1-7.857985-16.749967v-98.428808a21.711958 21.711958 0 0 1 5.995988-15.094971L367.370282 417.083185a2144.140812 2144.140812 0 0 1 63.275877-272.334468A899.095244 899.095244 0 0 1 465.80009 48.386905C480.273062 19.436962 492.267039 0 511.705001 0s32.670936 19.437962 45.90591 48.593905a817.002404 817.002404 0 0 1 35.152931 96.154812 2075.487946 2075.487946 0 0 1 63.275877 272.334468l315.552383 326.097363a22.745956 22.745956 0 0 1 5.995989 15.094971v98.429808a20.67796 20.67796 0 0 1-8.063985 16.749967 20.67796 20.67796 0 0 1-17.989964 4.341992l-158.80969-33.499935 69.684864 67.825868a21.919957 21.919957 0 0 1 6.409987 15.508969v74.441855a20.67796 20.67796 0 0 1-20.67796 20.677959z m-278.123457-43.009916h62.034879l14.060973-26.882948a20.67796 20.67796 0 0 1 23.366954-11.165978l156.741694 33.085936v-38.875925L709.182615 823.412392a20.67796 20.67796 0 0 1 19.230962-36.393929L935.199173 830.236378v-63.275876L620.472788 442.103137a20.67796 20.67796 0 0 1-5.789989-11.579978C586.352855 252.897506 536.519952 97.18981 511.291001 52.109898c-24.606952 45.078912-74.441855 200.786608-103.391798 378.414261a22.125957 22.125957 0 0 1-5.789988 11.579978L89.038826 766.959502v63.275876l205.129599-43.217915a20.67796 20.67796 0 0 1 20.67796 36.393929l-117.039771 113.317778v38.875925l156.535694-33.085936a20.67796 20.67796 0 0 1 23.572954 11.165978l14.061972 26.881948h62.034879l19.229963-36.806928a20.67796 20.67796 0 0 1 19.024963-11.579978h38.254925a20.67796 20.67796 0 0 1 19.023963 11.579978z\" fill=\"#333333\" p-id=\"8050\"/><path d=\"M511.705001 690.864651c-56.038891 0-78.784846-33.912934-78.784847-117.453771 0-86.84883 24.606952-180.314648 78.784847-180.314648s78.990846 93.465817 78.990845 180.314648c0 83.540837-22.952955 117.453771-78.990845 117.453771z m0-254.757503c-8.478983 1.239998-35.77393 44.871912-35.773931 137.303732 0 74.442855 16.542968 74.442855 35.773931 74.442855s35.97993 0 35.979929-74.442855c0-92.431819-27.294947-136.063734-35.979929-137.303732zM423.200173 912.123219a20.67796 20.67796 0 0 1-20.677959-20.67896V762.411511a20.67796 20.67796 0 0 1 20.677959-20.67796 20.67796 20.67796 0 0 1 20.67796 20.67796v127.99975a20.67796 20.67796 0 0 1-20.67796 21.711958z m177.213654 0a20.67796 20.67796 0 0 1-20.677959-20.67896V762.411511a20.67796 20.67796 0 0 1 20.677959-20.67796 20.67796 20.67796 0 0 1 20.67796 20.67796v127.99975a20.67796 20.67796 0 0 1-20.67796 21.711958z\" fill=\"#333333\" p-id=\"8051\"/></svg>"
      ],
      "text/plain": [
       "<IPython.core.display.SVG object>"
      ]
     },
     "metadata": {},
     "output_type": "display_data"
    },
    {
     "name": "stdout",
     "output_type": "stream",
     "text": [
      "\n",
      "显示文件: rotated_20.svg\n"
     ]
    },
    {
     "data": {
      "image/svg+xml": [
       "<svg xmlns=\"http://www.w3.org/2000/svg\" t=\"1758595976401\" class=\"icon\" viewBox=\"0 0 1024 1024\" version=\"1.1\" p-id=\"8049\" width=\"200\" height=\"200\" transform=\"rotate(-20 512.0 512.0)\"><path d=\"M847.314345 1023.579001h-4.341991l-166.667675-35.152932-12.613975 23.986954a20.67796 20.67796 0 0 1-19.023963 11.579977h-88.503827a21.919957 21.919957 0 0 1-19.229963-11.579977l-19.024963-36.599929h-12.199976l-19.230962 36.599929a20.67796 20.67796 0 0 1-19.023963 11.579977h-88.503827a21.919957 21.919957 0 0 1-19.229963-11.579977l-12.407975-23.986954-166.667675 35.152932a22.539956 22.539956 0 0 1-17.989965-4.341992 21.919957 21.919957 0 0 1-7.857984-16.749967v-74.441855a21.919957 21.919957 0 0 1 6.409987-15.508969l69.686864-67.824868L72.082859 877.798286a20.67796 20.67796 0 0 1-18.196964-4.342992 21.919957 21.919957 0 0 1-7.857985-16.749967v-98.428808a21.711958 21.711958 0 0 1 5.995988-15.094971L367.370282 417.083185a2144.140812 2144.140812 0 0 1 63.275877-272.334468A899.095244 899.095244 0 0 1 465.80009 48.386905C480.273062 19.436962 492.267039 0 511.705001 0s32.670936 19.437962 45.90591 48.593905a817.002404 817.002404 0 0 1 35.152931 96.154812 2075.487946 2075.487946 0 0 1 63.275877 272.334468l315.552383 326.097363a22.745956 22.745956 0 0 1 5.995989 15.094971v98.429808a20.67796 20.67796 0 0 1-8.063985 16.749967 20.67796 20.67796 0 0 1-17.989964 4.341992l-158.80969-33.499935 69.684864 67.825868a21.919957 21.919957 0 0 1 6.409987 15.508969v74.441855a20.67796 20.67796 0 0 1-20.67796 20.677959z m-278.123457-43.009916h62.034879l14.060973-26.882948a20.67796 20.67796 0 0 1 23.366954-11.165978l156.741694 33.085936v-38.875925L709.182615 823.412392a20.67796 20.67796 0 0 1 19.230962-36.393929L935.199173 830.236378v-63.275876L620.472788 442.103137a20.67796 20.67796 0 0 1-5.789989-11.579978C586.352855 252.897506 536.519952 97.18981 511.291001 52.109898c-24.606952 45.078912-74.441855 200.786608-103.391798 378.414261a22.125957 22.125957 0 0 1-5.789988 11.579978L89.038826 766.959502v63.275876l205.129599-43.217915a20.67796 20.67796 0 0 1 20.67796 36.393929l-117.039771 113.317778v38.875925l156.535694-33.085936a20.67796 20.67796 0 0 1 23.572954 11.165978l14.061972 26.881948h62.034879l19.229963-36.806928a20.67796 20.67796 0 0 1 19.024963-11.579978h38.254925a20.67796 20.67796 0 0 1 19.023963 11.579978z\" fill=\"#333333\" p-id=\"8050\"/><path d=\"M511.705001 690.864651c-56.038891 0-78.784846-33.912934-78.784847-117.453771 0-86.84883 24.606952-180.314648 78.784847-180.314648s78.990846 93.465817 78.990845 180.314648c0 83.540837-22.952955 117.453771-78.990845 117.453771z m0-254.757503c-8.478983 1.239998-35.77393 44.871912-35.773931 137.303732 0 74.442855 16.542968 74.442855 35.773931 74.442855s35.97993 0 35.979929-74.442855c0-92.431819-27.294947-136.063734-35.979929-137.303732zM423.200173 912.123219a20.67796 20.67796 0 0 1-20.677959-20.67896V762.411511a20.67796 20.67796 0 0 1 20.677959-20.67796 20.67796 20.67796 0 0 1 20.67796 20.67796v127.99975a20.67796 20.67796 0 0 1-20.67796 21.711958z m177.213654 0a20.67796 20.67796 0 0 1-20.677959-20.67896V762.411511a20.67796 20.67796 0 0 1 20.677959-20.67796 20.67796 20.67796 0 0 1 20.67796 20.67796v127.99975a20.67796 20.67796 0 0 1-20.67796 21.711958z\" fill=\"#333333\" p-id=\"8051\"/></svg>"
      ],
      "text/plain": [
       "<IPython.core.display.SVG object>"
      ]
     },
     "metadata": {},
     "output_type": "display_data"
    },
    {
     "name": "stdout",
     "output_type": "stream",
     "text": [
      "\n",
      "显示文件: rotated_200.svg\n"
     ]
    },
    {
     "data": {
      "image/svg+xml": [
       "<svg xmlns=\"http://www.w3.org/2000/svg\" t=\"1758595976401\" class=\"icon\" viewBox=\"0 0 1024 1024\" version=\"1.1\" p-id=\"8049\" width=\"200\" height=\"200\" transform=\"rotate(-200 512.0 512.0)\"><path d=\"M847.314345 1023.579001h-4.341991l-166.667675-35.152932-12.613975 23.986954a20.67796 20.67796 0 0 1-19.023963 11.579977h-88.503827a21.919957 21.919957 0 0 1-19.229963-11.579977l-19.024963-36.599929h-12.199976l-19.230962 36.599929a20.67796 20.67796 0 0 1-19.023963 11.579977h-88.503827a21.919957 21.919957 0 0 1-19.229963-11.579977l-12.407975-23.986954-166.667675 35.152932a22.539956 22.539956 0 0 1-17.989965-4.341992 21.919957 21.919957 0 0 1-7.857984-16.749967v-74.441855a21.919957 21.919957 0 0 1 6.409987-15.508969l69.686864-67.824868L72.082859 877.798286a20.67796 20.67796 0 0 1-18.196964-4.342992 21.919957 21.919957 0 0 1-7.857985-16.749967v-98.428808a21.711958 21.711958 0 0 1 5.995988-15.094971L367.370282 417.083185a2144.140812 2144.140812 0 0 1 63.275877-272.334468A899.095244 899.095244 0 0 1 465.80009 48.386905C480.273062 19.436962 492.267039 0 511.705001 0s32.670936 19.437962 45.90591 48.593905a817.002404 817.002404 0 0 1 35.152931 96.154812 2075.487946 2075.487946 0 0 1 63.275877 272.334468l315.552383 326.097363a22.745956 22.745956 0 0 1 5.995989 15.094971v98.429808a20.67796 20.67796 0 0 1-8.063985 16.749967 20.67796 20.67796 0 0 1-17.989964 4.341992l-158.80969-33.499935 69.684864 67.825868a21.919957 21.919957 0 0 1 6.409987 15.508969v74.441855a20.67796 20.67796 0 0 1-20.67796 20.677959z m-278.123457-43.009916h62.034879l14.060973-26.882948a20.67796 20.67796 0 0 1 23.366954-11.165978l156.741694 33.085936v-38.875925L709.182615 823.412392a20.67796 20.67796 0 0 1 19.230962-36.393929L935.199173 830.236378v-63.275876L620.472788 442.103137a20.67796 20.67796 0 0 1-5.789989-11.579978C586.352855 252.897506 536.519952 97.18981 511.291001 52.109898c-24.606952 45.078912-74.441855 200.786608-103.391798 378.414261a22.125957 22.125957 0 0 1-5.789988 11.579978L89.038826 766.959502v63.275876l205.129599-43.217915a20.67796 20.67796 0 0 1 20.67796 36.393929l-117.039771 113.317778v38.875925l156.535694-33.085936a20.67796 20.67796 0 0 1 23.572954 11.165978l14.061972 26.881948h62.034879l19.229963-36.806928a20.67796 20.67796 0 0 1 19.024963-11.579978h38.254925a20.67796 20.67796 0 0 1 19.023963 11.579978z\" fill=\"#333333\" p-id=\"8050\"/><path d=\"M511.705001 690.864651c-56.038891 0-78.784846-33.912934-78.784847-117.453771 0-86.84883 24.606952-180.314648 78.784847-180.314648s78.990846 93.465817 78.990845 180.314648c0 83.540837-22.952955 117.453771-78.990845 117.453771z m0-254.757503c-8.478983 1.239998-35.77393 44.871912-35.773931 137.303732 0 74.442855 16.542968 74.442855 35.773931 74.442855s35.97993 0 35.979929-74.442855c0-92.431819-27.294947-136.063734-35.979929-137.303732zM423.200173 912.123219a20.67796 20.67796 0 0 1-20.677959-20.67896V762.411511a20.67796 20.67796 0 0 1 20.677959-20.67796 20.67796 20.67796 0 0 1 20.67796 20.67796v127.99975a20.67796 20.67796 0 0 1-20.67796 21.711958z m177.213654 0a20.67796 20.67796 0 0 1-20.677959-20.67896V762.411511a20.67796 20.67796 0 0 1 20.677959-20.67796 20.67796 20.67796 0 0 1 20.67796 20.67796v127.99975a20.67796 20.67796 0 0 1-20.67796 21.711958z\" fill=\"#333333\" p-id=\"8051\"/></svg>"
      ],
      "text/plain": [
       "<IPython.core.display.SVG object>"
      ]
     },
     "metadata": {},
     "output_type": "display_data"
    },
    {
     "name": "stdout",
     "output_type": "stream",
     "text": [
      "\n",
      "显示文件: rotated_210.svg\n"
     ]
    },
    {
     "data": {
      "image/svg+xml": [
       "<svg xmlns=\"http://www.w3.org/2000/svg\" t=\"1758595976401\" class=\"icon\" viewBox=\"0 0 1024 1024\" version=\"1.1\" p-id=\"8049\" width=\"200\" height=\"200\" transform=\"rotate(-210 100.0 100.0)\"><rect x=\"0\" y=\"0\" width=\"200.0\" height=\"200.0\" fill=\"#f0f0f0\"/><path d=\"M847.314345 1023.579001h-4.341991l-166.667675-35.152932-12.613975 23.986954a20.67796 20.67796 0 0 1-19.023963 11.579977h-88.503827a21.919957 21.919957 0 0 1-19.229963-11.579977l-19.024963-36.599929h-12.199976l-19.230962 36.599929a20.67796 20.67796 0 0 1-19.023963 11.579977h-88.503827a21.919957 21.919957 0 0 1-19.229963-11.579977l-12.407975-23.986954-166.667675 35.152932a22.539956 22.539956 0 0 1-17.989965-4.341992 21.919957 21.919957 0 0 1-7.857984-16.749967v-74.441855a21.919957 21.919957 0 0 1 6.409987-15.508969l69.686864-67.824868L72.082859 877.798286a20.67796 20.67796 0 0 1-18.196964-4.342992 21.919957 21.919957 0 0 1-7.857985-16.749967v-98.428808a21.711958 21.711958 0 0 1 5.995988-15.094971L367.370282 417.083185a2144.140812 2144.140812 0 0 1 63.275877-272.334468A899.095244 899.095244 0 0 1 465.80009 48.386905C480.273062 19.436962 492.267039 0 511.705001 0s32.670936 19.437962 45.90591 48.593905a817.002404 817.002404 0 0 1 35.152931 96.154812 2075.487946 2075.487946 0 0 1 63.275877 272.334468l315.552383 326.097363a22.745956 22.745956 0 0 1 5.995989 15.094971v98.429808a20.67796 20.67796 0 0 1-8.063985 16.749967 20.67796 20.67796 0 0 1-17.989964 4.341992l-158.80969-33.499935 69.684864 67.825868a21.919957 21.919957 0 0 1 6.409987 15.508969v74.441855a20.67796 20.67796 0 0 1-20.67796 20.677959z m-278.123457-43.009916h62.034879l14.060973-26.882948a20.67796 20.67796 0 0 1 23.366954-11.165978l156.741694 33.085936v-38.875925L709.182615 823.412392a20.67796 20.67796 0 0 1 19.230962-36.393929L935.199173 830.236378v-63.275876L620.472788 442.103137a20.67796 20.67796 0 0 1-5.789989-11.579978C586.352855 252.897506 536.519952 97.18981 511.291001 52.109898c-24.606952 45.078912-74.441855 200.786608-103.391798 378.414261a22.125957 22.125957 0 0 1-5.789988 11.579978L89.038826 766.959502v63.275876l205.129599-43.217915a20.67796 20.67796 0 0 1 20.67796 36.393929l-117.039771 113.317778v38.875925l156.535694-33.085936a20.67796 20.67796 0 0 1 23.572954 11.165978l14.061972 26.881948h62.034879l19.229963-36.806928a20.67796 20.67796 0 0 1 19.024963-11.579978h38.254925a20.67796 20.67796 0 0 1 19.023963 11.579978z\" fill=\"#333333\" p-id=\"8050\"/><path d=\"M511.705001 690.864651c-56.038891 0-78.784846-33.912934-78.784847-117.453771 0-86.84883 24.606952-180.314648 78.784847-180.314648s78.990846 93.465817 78.990845 180.314648c0 83.540837-22.952955 117.453771-78.990845 117.453771z m0-254.757503c-8.478983 1.239998-35.77393 44.871912-35.773931 137.303732 0 74.442855 16.542968 74.442855 35.773931 74.442855s35.97993 0 35.979929-74.442855c0-92.431819-27.294947-136.063734-35.979929-137.303732zM423.200173 912.123219a20.67796 20.67796 0 0 1-20.677959-20.67896V762.411511a20.67796 20.67796 0 0 1 20.677959-20.67796 20.67796 20.67796 0 0 1 20.67796 20.67796v127.99975a20.67796 20.67796 0 0 1-20.67796 21.711958z m177.213654 0a20.67796 20.67796 0 0 1-20.677959-20.67896V762.411511a20.67796 20.67796 0 0 1 20.677959-20.67796 20.67796 20.67796 0 0 1 20.67796 20.67796v127.99975a20.67796 20.67796 0 0 1-20.67796 21.711958z\" fill=\"#333333\" p-id=\"8051\"/></svg>"
      ],
      "text/plain": [
       "<IPython.core.display.SVG object>"
      ]
     },
     "metadata": {},
     "output_type": "display_data"
    },
    {
     "name": "stdout",
     "output_type": "stream",
     "text": [
      "\n",
      "显示文件: rotated_220.svg\n"
     ]
    },
    {
     "data": {
      "image/svg+xml": [
       "<svg xmlns=\"http://www.w3.org/2000/svg\" t=\"1758595976401\" class=\"icon\" viewBox=\"0 0 1024 1024\" version=\"1.1\" p-id=\"8049\" width=\"200\" height=\"200\" transform=\"rotate(-220 512.0 512.0)\"><path d=\"M847.314345 1023.579001h-4.341991l-166.667675-35.152932-12.613975 23.986954a20.67796 20.67796 0 0 1-19.023963 11.579977h-88.503827a21.919957 21.919957 0 0 1-19.229963-11.579977l-19.024963-36.599929h-12.199976l-19.230962 36.599929a20.67796 20.67796 0 0 1-19.023963 11.579977h-88.503827a21.919957 21.919957 0 0 1-19.229963-11.579977l-12.407975-23.986954-166.667675 35.152932a22.539956 22.539956 0 0 1-17.989965-4.341992 21.919957 21.919957 0 0 1-7.857984-16.749967v-74.441855a21.919957 21.919957 0 0 1 6.409987-15.508969l69.686864-67.824868L72.082859 877.798286a20.67796 20.67796 0 0 1-18.196964-4.342992 21.919957 21.919957 0 0 1-7.857985-16.749967v-98.428808a21.711958 21.711958 0 0 1 5.995988-15.094971L367.370282 417.083185a2144.140812 2144.140812 0 0 1 63.275877-272.334468A899.095244 899.095244 0 0 1 465.80009 48.386905C480.273062 19.436962 492.267039 0 511.705001 0s32.670936 19.437962 45.90591 48.593905a817.002404 817.002404 0 0 1 35.152931 96.154812 2075.487946 2075.487946 0 0 1 63.275877 272.334468l315.552383 326.097363a22.745956 22.745956 0 0 1 5.995989 15.094971v98.429808a20.67796 20.67796 0 0 1-8.063985 16.749967 20.67796 20.67796 0 0 1-17.989964 4.341992l-158.80969-33.499935 69.684864 67.825868a21.919957 21.919957 0 0 1 6.409987 15.508969v74.441855a20.67796 20.67796 0 0 1-20.67796 20.677959z m-278.123457-43.009916h62.034879l14.060973-26.882948a20.67796 20.67796 0 0 1 23.366954-11.165978l156.741694 33.085936v-38.875925L709.182615 823.412392a20.67796 20.67796 0 0 1 19.230962-36.393929L935.199173 830.236378v-63.275876L620.472788 442.103137a20.67796 20.67796 0 0 1-5.789989-11.579978C586.352855 252.897506 536.519952 97.18981 511.291001 52.109898c-24.606952 45.078912-74.441855 200.786608-103.391798 378.414261a22.125957 22.125957 0 0 1-5.789988 11.579978L89.038826 766.959502v63.275876l205.129599-43.217915a20.67796 20.67796 0 0 1 20.67796 36.393929l-117.039771 113.317778v38.875925l156.535694-33.085936a20.67796 20.67796 0 0 1 23.572954 11.165978l14.061972 26.881948h62.034879l19.229963-36.806928a20.67796 20.67796 0 0 1 19.024963-11.579978h38.254925a20.67796 20.67796 0 0 1 19.023963 11.579978z\" fill=\"#333333\" p-id=\"8050\"/><path d=\"M511.705001 690.864651c-56.038891 0-78.784846-33.912934-78.784847-117.453771 0-86.84883 24.606952-180.314648 78.784847-180.314648s78.990846 93.465817 78.990845 180.314648c0 83.540837-22.952955 117.453771-78.990845 117.453771z m0-254.757503c-8.478983 1.239998-35.77393 44.871912-35.773931 137.303732 0 74.442855 16.542968 74.442855 35.773931 74.442855s35.97993 0 35.979929-74.442855c0-92.431819-27.294947-136.063734-35.979929-137.303732zM423.200173 912.123219a20.67796 20.67796 0 0 1-20.677959-20.67896V762.411511a20.67796 20.67796 0 0 1 20.677959-20.67796 20.67796 20.67796 0 0 1 20.67796 20.67796v127.99975a20.67796 20.67796 0 0 1-20.67796 21.711958z m177.213654 0a20.67796 20.67796 0 0 1-20.677959-20.67896V762.411511a20.67796 20.67796 0 0 1 20.677959-20.67796 20.67796 20.67796 0 0 1 20.67796 20.67796v127.99975a20.67796 20.67796 0 0 1-20.67796 21.711958z\" fill=\"#333333\" p-id=\"8051\"/></svg>"
      ],
      "text/plain": [
       "<IPython.core.display.SVG object>"
      ]
     },
     "metadata": {},
     "output_type": "display_data"
    },
    {
     "name": "stdout",
     "output_type": "stream",
     "text": [
      "\n",
      "显示文件: rotated_225.svg\n"
     ]
    },
    {
     "data": {
      "image/svg+xml": [
       "<svg xmlns=\"http://www.w3.org/2000/svg\" t=\"1758595976401\" class=\"icon\" viewBox=\"0 0 1024 1024\" version=\"1.1\" p-id=\"8049\" width=\"200\" height=\"200\" transform=\"rotate(-225 100.0 100.0)\"><rect x=\"0\" y=\"0\" width=\"200.0\" height=\"200.0\" fill=\"#f0f0f0\"/><path d=\"M847.314345 1023.579001h-4.341991l-166.667675-35.152932-12.613975 23.986954a20.67796 20.67796 0 0 1-19.023963 11.579977h-88.503827a21.919957 21.919957 0 0 1-19.229963-11.579977l-19.024963-36.599929h-12.199976l-19.230962 36.599929a20.67796 20.67796 0 0 1-19.023963 11.579977h-88.503827a21.919957 21.919957 0 0 1-19.229963-11.579977l-12.407975-23.986954-166.667675 35.152932a22.539956 22.539956 0 0 1-17.989965-4.341992 21.919957 21.919957 0 0 1-7.857984-16.749967v-74.441855a21.919957 21.919957 0 0 1 6.409987-15.508969l69.686864-67.824868L72.082859 877.798286a20.67796 20.67796 0 0 1-18.196964-4.342992 21.919957 21.919957 0 0 1-7.857985-16.749967v-98.428808a21.711958 21.711958 0 0 1 5.995988-15.094971L367.370282 417.083185a2144.140812 2144.140812 0 0 1 63.275877-272.334468A899.095244 899.095244 0 0 1 465.80009 48.386905C480.273062 19.436962 492.267039 0 511.705001 0s32.670936 19.437962 45.90591 48.593905a817.002404 817.002404 0 0 1 35.152931 96.154812 2075.487946 2075.487946 0 0 1 63.275877 272.334468l315.552383 326.097363a22.745956 22.745956 0 0 1 5.995989 15.094971v98.429808a20.67796 20.67796 0 0 1-8.063985 16.749967 20.67796 20.67796 0 0 1-17.989964 4.341992l-158.80969-33.499935 69.684864 67.825868a21.919957 21.919957 0 0 1 6.409987 15.508969v74.441855a20.67796 20.67796 0 0 1-20.67796 20.677959z m-278.123457-43.009916h62.034879l14.060973-26.882948a20.67796 20.67796 0 0 1 23.366954-11.165978l156.741694 33.085936v-38.875925L709.182615 823.412392a20.67796 20.67796 0 0 1 19.230962-36.393929L935.199173 830.236378v-63.275876L620.472788 442.103137a20.67796 20.67796 0 0 1-5.789989-11.579978C586.352855 252.897506 536.519952 97.18981 511.291001 52.109898c-24.606952 45.078912-74.441855 200.786608-103.391798 378.414261a22.125957 22.125957 0 0 1-5.789988 11.579978L89.038826 766.959502v63.275876l205.129599-43.217915a20.67796 20.67796 0 0 1 20.67796 36.393929l-117.039771 113.317778v38.875925l156.535694-33.085936a20.67796 20.67796 0 0 1 23.572954 11.165978l14.061972 26.881948h62.034879l19.229963-36.806928a20.67796 20.67796 0 0 1 19.024963-11.579978h38.254925a20.67796 20.67796 0 0 1 19.023963 11.579978z\" fill=\"#333333\" p-id=\"8050\"/><path d=\"M511.705001 690.864651c-56.038891 0-78.784846-33.912934-78.784847-117.453771 0-86.84883 24.606952-180.314648 78.784847-180.314648s78.990846 93.465817 78.990845 180.314648c0 83.540837-22.952955 117.453771-78.990845 117.453771z m0-254.757503c-8.478983 1.239998-35.77393 44.871912-35.773931 137.303732 0 74.442855 16.542968 74.442855 35.773931 74.442855s35.97993 0 35.979929-74.442855c0-92.431819-27.294947-136.063734-35.979929-137.303732zM423.200173 912.123219a20.67796 20.67796 0 0 1-20.677959-20.67896V762.411511a20.67796 20.67796 0 0 1 20.677959-20.67796 20.67796 20.67796 0 0 1 20.67796 20.67796v127.99975a20.67796 20.67796 0 0 1-20.67796 21.711958z m177.213654 0a20.67796 20.67796 0 0 1-20.677959-20.67896V762.411511a20.67796 20.67796 0 0 1 20.677959-20.67796 20.67796 20.67796 0 0 1 20.67796 20.67796v127.99975a20.67796 20.67796 0 0 1-20.67796 21.711958z\" fill=\"#333333\" p-id=\"8051\"/></svg>"
      ],
      "text/plain": [
       "<IPython.core.display.SVG object>"
      ]
     },
     "metadata": {},
     "output_type": "display_data"
    },
    {
     "name": "stdout",
     "output_type": "stream",
     "text": [
      "\n",
      "显示文件: rotated_230.svg\n"
     ]
    },
    {
     "data": {
      "image/svg+xml": [
       "<svg xmlns=\"http://www.w3.org/2000/svg\" t=\"1758595976401\" class=\"icon\" viewBox=\"0 0 1024 1024\" version=\"1.1\" p-id=\"8049\" width=\"200\" height=\"200\" transform=\"rotate(-230 512.0 512.0)\"><path d=\"M847.314345 1023.579001h-4.341991l-166.667675-35.152932-12.613975 23.986954a20.67796 20.67796 0 0 1-19.023963 11.579977h-88.503827a21.919957 21.919957 0 0 1-19.229963-11.579977l-19.024963-36.599929h-12.199976l-19.230962 36.599929a20.67796 20.67796 0 0 1-19.023963 11.579977h-88.503827a21.919957 21.919957 0 0 1-19.229963-11.579977l-12.407975-23.986954-166.667675 35.152932a22.539956 22.539956 0 0 1-17.989965-4.341992 21.919957 21.919957 0 0 1-7.857984-16.749967v-74.441855a21.919957 21.919957 0 0 1 6.409987-15.508969l69.686864-67.824868L72.082859 877.798286a20.67796 20.67796 0 0 1-18.196964-4.342992 21.919957 21.919957 0 0 1-7.857985-16.749967v-98.428808a21.711958 21.711958 0 0 1 5.995988-15.094971L367.370282 417.083185a2144.140812 2144.140812 0 0 1 63.275877-272.334468A899.095244 899.095244 0 0 1 465.80009 48.386905C480.273062 19.436962 492.267039 0 511.705001 0s32.670936 19.437962 45.90591 48.593905a817.002404 817.002404 0 0 1 35.152931 96.154812 2075.487946 2075.487946 0 0 1 63.275877 272.334468l315.552383 326.097363a22.745956 22.745956 0 0 1 5.995989 15.094971v98.429808a20.67796 20.67796 0 0 1-8.063985 16.749967 20.67796 20.67796 0 0 1-17.989964 4.341992l-158.80969-33.499935 69.684864 67.825868a21.919957 21.919957 0 0 1 6.409987 15.508969v74.441855a20.67796 20.67796 0 0 1-20.67796 20.677959z m-278.123457-43.009916h62.034879l14.060973-26.882948a20.67796 20.67796 0 0 1 23.366954-11.165978l156.741694 33.085936v-38.875925L709.182615 823.412392a20.67796 20.67796 0 0 1 19.230962-36.393929L935.199173 830.236378v-63.275876L620.472788 442.103137a20.67796 20.67796 0 0 1-5.789989-11.579978C586.352855 252.897506 536.519952 97.18981 511.291001 52.109898c-24.606952 45.078912-74.441855 200.786608-103.391798 378.414261a22.125957 22.125957 0 0 1-5.789988 11.579978L89.038826 766.959502v63.275876l205.129599-43.217915a20.67796 20.67796 0 0 1 20.67796 36.393929l-117.039771 113.317778v38.875925l156.535694-33.085936a20.67796 20.67796 0 0 1 23.572954 11.165978l14.061972 26.881948h62.034879l19.229963-36.806928a20.67796 20.67796 0 0 1 19.024963-11.579978h38.254925a20.67796 20.67796 0 0 1 19.023963 11.579978z\" fill=\"#333333\" p-id=\"8050\"/><path d=\"M511.705001 690.864651c-56.038891 0-78.784846-33.912934-78.784847-117.453771 0-86.84883 24.606952-180.314648 78.784847-180.314648s78.990846 93.465817 78.990845 180.314648c0 83.540837-22.952955 117.453771-78.990845 117.453771z m0-254.757503c-8.478983 1.239998-35.77393 44.871912-35.773931 137.303732 0 74.442855 16.542968 74.442855 35.773931 74.442855s35.97993 0 35.979929-74.442855c0-92.431819-27.294947-136.063734-35.979929-137.303732zM423.200173 912.123219a20.67796 20.67796 0 0 1-20.677959-20.67896V762.411511a20.67796 20.67796 0 0 1 20.677959-20.67796 20.67796 20.67796 0 0 1 20.67796 20.67796v127.99975a20.67796 20.67796 0 0 1-20.67796 21.711958z m177.213654 0a20.67796 20.67796 0 0 1-20.677959-20.67896V762.411511a20.67796 20.67796 0 0 1 20.677959-20.67796 20.67796 20.67796 0 0 1 20.67796 20.67796v127.99975a20.67796 20.67796 0 0 1-20.67796 21.711958z\" fill=\"#333333\" p-id=\"8051\"/></svg>"
      ],
      "text/plain": [
       "<IPython.core.display.SVG object>"
      ]
     },
     "metadata": {},
     "output_type": "display_data"
    },
    {
     "name": "stdout",
     "output_type": "stream",
     "text": [
      "\n",
      "显示文件: rotated_240.svg\n"
     ]
    },
    {
     "data": {
      "image/svg+xml": [
       "<svg xmlns=\"http://www.w3.org/2000/svg\" t=\"1758595976401\" class=\"icon\" viewBox=\"0 0 1024 1024\" version=\"1.1\" p-id=\"8049\" width=\"200\" height=\"200\" transform=\"rotate(-240 100.0 100.0)\"><rect x=\"0\" y=\"0\" width=\"200.0\" height=\"200.0\" fill=\"#f0f0f0\"/><path d=\"M847.314345 1023.579001h-4.341991l-166.667675-35.152932-12.613975 23.986954a20.67796 20.67796 0 0 1-19.023963 11.579977h-88.503827a21.919957 21.919957 0 0 1-19.229963-11.579977l-19.024963-36.599929h-12.199976l-19.230962 36.599929a20.67796 20.67796 0 0 1-19.023963 11.579977h-88.503827a21.919957 21.919957 0 0 1-19.229963-11.579977l-12.407975-23.986954-166.667675 35.152932a22.539956 22.539956 0 0 1-17.989965-4.341992 21.919957 21.919957 0 0 1-7.857984-16.749967v-74.441855a21.919957 21.919957 0 0 1 6.409987-15.508969l69.686864-67.824868L72.082859 877.798286a20.67796 20.67796 0 0 1-18.196964-4.342992 21.919957 21.919957 0 0 1-7.857985-16.749967v-98.428808a21.711958 21.711958 0 0 1 5.995988-15.094971L367.370282 417.083185a2144.140812 2144.140812 0 0 1 63.275877-272.334468A899.095244 899.095244 0 0 1 465.80009 48.386905C480.273062 19.436962 492.267039 0 511.705001 0s32.670936 19.437962 45.90591 48.593905a817.002404 817.002404 0 0 1 35.152931 96.154812 2075.487946 2075.487946 0 0 1 63.275877 272.334468l315.552383 326.097363a22.745956 22.745956 0 0 1 5.995989 15.094971v98.429808a20.67796 20.67796 0 0 1-8.063985 16.749967 20.67796 20.67796 0 0 1-17.989964 4.341992l-158.80969-33.499935 69.684864 67.825868a21.919957 21.919957 0 0 1 6.409987 15.508969v74.441855a20.67796 20.67796 0 0 1-20.67796 20.677959z m-278.123457-43.009916h62.034879l14.060973-26.882948a20.67796 20.67796 0 0 1 23.366954-11.165978l156.741694 33.085936v-38.875925L709.182615 823.412392a20.67796 20.67796 0 0 1 19.230962-36.393929L935.199173 830.236378v-63.275876L620.472788 442.103137a20.67796 20.67796 0 0 1-5.789989-11.579978C586.352855 252.897506 536.519952 97.18981 511.291001 52.109898c-24.606952 45.078912-74.441855 200.786608-103.391798 378.414261a22.125957 22.125957 0 0 1-5.789988 11.579978L89.038826 766.959502v63.275876l205.129599-43.217915a20.67796 20.67796 0 0 1 20.67796 36.393929l-117.039771 113.317778v38.875925l156.535694-33.085936a20.67796 20.67796 0 0 1 23.572954 11.165978l14.061972 26.881948h62.034879l19.229963-36.806928a20.67796 20.67796 0 0 1 19.024963-11.579978h38.254925a20.67796 20.67796 0 0 1 19.023963 11.579978z\" fill=\"#333333\" p-id=\"8050\"/><path d=\"M511.705001 690.864651c-56.038891 0-78.784846-33.912934-78.784847-117.453771 0-86.84883 24.606952-180.314648 78.784847-180.314648s78.990846 93.465817 78.990845 180.314648c0 83.540837-22.952955 117.453771-78.990845 117.453771z m0-254.757503c-8.478983 1.239998-35.77393 44.871912-35.773931 137.303732 0 74.442855 16.542968 74.442855 35.773931 74.442855s35.97993 0 35.979929-74.442855c0-92.431819-27.294947-136.063734-35.979929-137.303732zM423.200173 912.123219a20.67796 20.67796 0 0 1-20.677959-20.67896V762.411511a20.67796 20.67796 0 0 1 20.677959-20.67796 20.67796 20.67796 0 0 1 20.67796 20.67796v127.99975a20.67796 20.67796 0 0 1-20.67796 21.711958z m177.213654 0a20.67796 20.67796 0 0 1-20.677959-20.67896V762.411511a20.67796 20.67796 0 0 1 20.677959-20.67796 20.67796 20.67796 0 0 1 20.67796 20.67796v127.99975a20.67796 20.67796 0 0 1-20.67796 21.711958z\" fill=\"#333333\" p-id=\"8051\"/></svg>"
      ],
      "text/plain": [
       "<IPython.core.display.SVG object>"
      ]
     },
     "metadata": {},
     "output_type": "display_data"
    },
    {
     "name": "stdout",
     "output_type": "stream",
     "text": [
      "\n",
      "显示文件: rotated_250.svg\n"
     ]
    },
    {
     "data": {
      "image/svg+xml": [
       "<svg xmlns=\"http://www.w3.org/2000/svg\" t=\"1758595976401\" class=\"icon\" viewBox=\"0 0 1024 1024\" version=\"1.1\" p-id=\"8049\" width=\"200\" height=\"200\" transform=\"rotate(-250 512.0 512.0)\"><path d=\"M847.314345 1023.579001h-4.341991l-166.667675-35.152932-12.613975 23.986954a20.67796 20.67796 0 0 1-19.023963 11.579977h-88.503827a21.919957 21.919957 0 0 1-19.229963-11.579977l-19.024963-36.599929h-12.199976l-19.230962 36.599929a20.67796 20.67796 0 0 1-19.023963 11.579977h-88.503827a21.919957 21.919957 0 0 1-19.229963-11.579977l-12.407975-23.986954-166.667675 35.152932a22.539956 22.539956 0 0 1-17.989965-4.341992 21.919957 21.919957 0 0 1-7.857984-16.749967v-74.441855a21.919957 21.919957 0 0 1 6.409987-15.508969l69.686864-67.824868L72.082859 877.798286a20.67796 20.67796 0 0 1-18.196964-4.342992 21.919957 21.919957 0 0 1-7.857985-16.749967v-98.428808a21.711958 21.711958 0 0 1 5.995988-15.094971L367.370282 417.083185a2144.140812 2144.140812 0 0 1 63.275877-272.334468A899.095244 899.095244 0 0 1 465.80009 48.386905C480.273062 19.436962 492.267039 0 511.705001 0s32.670936 19.437962 45.90591 48.593905a817.002404 817.002404 0 0 1 35.152931 96.154812 2075.487946 2075.487946 0 0 1 63.275877 272.334468l315.552383 326.097363a22.745956 22.745956 0 0 1 5.995989 15.094971v98.429808a20.67796 20.67796 0 0 1-8.063985 16.749967 20.67796 20.67796 0 0 1-17.989964 4.341992l-158.80969-33.499935 69.684864 67.825868a21.919957 21.919957 0 0 1 6.409987 15.508969v74.441855a20.67796 20.67796 0 0 1-20.67796 20.677959z m-278.123457-43.009916h62.034879l14.060973-26.882948a20.67796 20.67796 0 0 1 23.366954-11.165978l156.741694 33.085936v-38.875925L709.182615 823.412392a20.67796 20.67796 0 0 1 19.230962-36.393929L935.199173 830.236378v-63.275876L620.472788 442.103137a20.67796 20.67796 0 0 1-5.789989-11.579978C586.352855 252.897506 536.519952 97.18981 511.291001 52.109898c-24.606952 45.078912-74.441855 200.786608-103.391798 378.414261a22.125957 22.125957 0 0 1-5.789988 11.579978L89.038826 766.959502v63.275876l205.129599-43.217915a20.67796 20.67796 0 0 1 20.67796 36.393929l-117.039771 113.317778v38.875925l156.535694-33.085936a20.67796 20.67796 0 0 1 23.572954 11.165978l14.061972 26.881948h62.034879l19.229963-36.806928a20.67796 20.67796 0 0 1 19.024963-11.579978h38.254925a20.67796 20.67796 0 0 1 19.023963 11.579978z\" fill=\"#333333\" p-id=\"8050\"/><path d=\"M511.705001 690.864651c-56.038891 0-78.784846-33.912934-78.784847-117.453771 0-86.84883 24.606952-180.314648 78.784847-180.314648s78.990846 93.465817 78.990845 180.314648c0 83.540837-22.952955 117.453771-78.990845 117.453771z m0-254.757503c-8.478983 1.239998-35.77393 44.871912-35.773931 137.303732 0 74.442855 16.542968 74.442855 35.773931 74.442855s35.97993 0 35.979929-74.442855c0-92.431819-27.294947-136.063734-35.979929-137.303732zM423.200173 912.123219a20.67796 20.67796 0 0 1-20.677959-20.67896V762.411511a20.67796 20.67796 0 0 1 20.677959-20.67796 20.67796 20.67796 0 0 1 20.67796 20.67796v127.99975a20.67796 20.67796 0 0 1-20.67796 21.711958z m177.213654 0a20.67796 20.67796 0 0 1-20.677959-20.67896V762.411511a20.67796 20.67796 0 0 1 20.677959-20.67796 20.67796 20.67796 0 0 1 20.67796 20.67796v127.99975a20.67796 20.67796 0 0 1-20.67796 21.711958z\" fill=\"#333333\" p-id=\"8051\"/></svg>"
      ],
      "text/plain": [
       "<IPython.core.display.SVG object>"
      ]
     },
     "metadata": {},
     "output_type": "display_data"
    },
    {
     "name": "stdout",
     "output_type": "stream",
     "text": [
      "\n",
      "显示文件: rotated_255.svg\n"
     ]
    },
    {
     "data": {
      "image/svg+xml": [
       "<svg xmlns=\"http://www.w3.org/2000/svg\" t=\"1758595976401\" class=\"icon\" viewBox=\"0 0 1024 1024\" version=\"1.1\" p-id=\"8049\" width=\"200\" height=\"200\" transform=\"rotate(-255 100.0 100.0)\"><rect x=\"0\" y=\"0\" width=\"200.0\" height=\"200.0\" fill=\"#f0f0f0\"/><path d=\"M847.314345 1023.579001h-4.341991l-166.667675-35.152932-12.613975 23.986954a20.67796 20.67796 0 0 1-19.023963 11.579977h-88.503827a21.919957 21.919957 0 0 1-19.229963-11.579977l-19.024963-36.599929h-12.199976l-19.230962 36.599929a20.67796 20.67796 0 0 1-19.023963 11.579977h-88.503827a21.919957 21.919957 0 0 1-19.229963-11.579977l-12.407975-23.986954-166.667675 35.152932a22.539956 22.539956 0 0 1-17.989965-4.341992 21.919957 21.919957 0 0 1-7.857984-16.749967v-74.441855a21.919957 21.919957 0 0 1 6.409987-15.508969l69.686864-67.824868L72.082859 877.798286a20.67796 20.67796 0 0 1-18.196964-4.342992 21.919957 21.919957 0 0 1-7.857985-16.749967v-98.428808a21.711958 21.711958 0 0 1 5.995988-15.094971L367.370282 417.083185a2144.140812 2144.140812 0 0 1 63.275877-272.334468A899.095244 899.095244 0 0 1 465.80009 48.386905C480.273062 19.436962 492.267039 0 511.705001 0s32.670936 19.437962 45.90591 48.593905a817.002404 817.002404 0 0 1 35.152931 96.154812 2075.487946 2075.487946 0 0 1 63.275877 272.334468l315.552383 326.097363a22.745956 22.745956 0 0 1 5.995989 15.094971v98.429808a20.67796 20.67796 0 0 1-8.063985 16.749967 20.67796 20.67796 0 0 1-17.989964 4.341992l-158.80969-33.499935 69.684864 67.825868a21.919957 21.919957 0 0 1 6.409987 15.508969v74.441855a20.67796 20.67796 0 0 1-20.67796 20.677959z m-278.123457-43.009916h62.034879l14.060973-26.882948a20.67796 20.67796 0 0 1 23.366954-11.165978l156.741694 33.085936v-38.875925L709.182615 823.412392a20.67796 20.67796 0 0 1 19.230962-36.393929L935.199173 830.236378v-63.275876L620.472788 442.103137a20.67796 20.67796 0 0 1-5.789989-11.579978C586.352855 252.897506 536.519952 97.18981 511.291001 52.109898c-24.606952 45.078912-74.441855 200.786608-103.391798 378.414261a22.125957 22.125957 0 0 1-5.789988 11.579978L89.038826 766.959502v63.275876l205.129599-43.217915a20.67796 20.67796 0 0 1 20.67796 36.393929l-117.039771 113.317778v38.875925l156.535694-33.085936a20.67796 20.67796 0 0 1 23.572954 11.165978l14.061972 26.881948h62.034879l19.229963-36.806928a20.67796 20.67796 0 0 1 19.024963-11.579978h38.254925a20.67796 20.67796 0 0 1 19.023963 11.579978z\" fill=\"#333333\" p-id=\"8050\"/><path d=\"M511.705001 690.864651c-56.038891 0-78.784846-33.912934-78.784847-117.453771 0-86.84883 24.606952-180.314648 78.784847-180.314648s78.990846 93.465817 78.990845 180.314648c0 83.540837-22.952955 117.453771-78.990845 117.453771z m0-254.757503c-8.478983 1.239998-35.77393 44.871912-35.773931 137.303732 0 74.442855 16.542968 74.442855 35.773931 74.442855s35.97993 0 35.979929-74.442855c0-92.431819-27.294947-136.063734-35.979929-137.303732zM423.200173 912.123219a20.67796 20.67796 0 0 1-20.677959-20.67896V762.411511a20.67796 20.67796 0 0 1 20.677959-20.67796 20.67796 20.67796 0 0 1 20.67796 20.67796v127.99975a20.67796 20.67796 0 0 1-20.67796 21.711958z m177.213654 0a20.67796 20.67796 0 0 1-20.677959-20.67896V762.411511a20.67796 20.67796 0 0 1 20.677959-20.67796 20.67796 20.67796 0 0 1 20.67796 20.67796v127.99975a20.67796 20.67796 0 0 1-20.67796 21.711958z\" fill=\"#333333\" p-id=\"8051\"/></svg>"
      ],
      "text/plain": [
       "<IPython.core.display.SVG object>"
      ]
     },
     "metadata": {},
     "output_type": "display_data"
    },
    {
     "name": "stdout",
     "output_type": "stream",
     "text": [
      "\n",
      "显示文件: rotated_260.svg\n"
     ]
    },
    {
     "data": {
      "image/svg+xml": [
       "<svg xmlns=\"http://www.w3.org/2000/svg\" t=\"1758595976401\" class=\"icon\" viewBox=\"0 0 1024 1024\" version=\"1.1\" p-id=\"8049\" width=\"200\" height=\"200\" transform=\"rotate(-260 512.0 512.0)\"><path d=\"M847.314345 1023.579001h-4.341991l-166.667675-35.152932-12.613975 23.986954a20.67796 20.67796 0 0 1-19.023963 11.579977h-88.503827a21.919957 21.919957 0 0 1-19.229963-11.579977l-19.024963-36.599929h-12.199976l-19.230962 36.599929a20.67796 20.67796 0 0 1-19.023963 11.579977h-88.503827a21.919957 21.919957 0 0 1-19.229963-11.579977l-12.407975-23.986954-166.667675 35.152932a22.539956 22.539956 0 0 1-17.989965-4.341992 21.919957 21.919957 0 0 1-7.857984-16.749967v-74.441855a21.919957 21.919957 0 0 1 6.409987-15.508969l69.686864-67.824868L72.082859 877.798286a20.67796 20.67796 0 0 1-18.196964-4.342992 21.919957 21.919957 0 0 1-7.857985-16.749967v-98.428808a21.711958 21.711958 0 0 1 5.995988-15.094971L367.370282 417.083185a2144.140812 2144.140812 0 0 1 63.275877-272.334468A899.095244 899.095244 0 0 1 465.80009 48.386905C480.273062 19.436962 492.267039 0 511.705001 0s32.670936 19.437962 45.90591 48.593905a817.002404 817.002404 0 0 1 35.152931 96.154812 2075.487946 2075.487946 0 0 1 63.275877 272.334468l315.552383 326.097363a22.745956 22.745956 0 0 1 5.995989 15.094971v98.429808a20.67796 20.67796 0 0 1-8.063985 16.749967 20.67796 20.67796 0 0 1-17.989964 4.341992l-158.80969-33.499935 69.684864 67.825868a21.919957 21.919957 0 0 1 6.409987 15.508969v74.441855a20.67796 20.67796 0 0 1-20.67796 20.677959z m-278.123457-43.009916h62.034879l14.060973-26.882948a20.67796 20.67796 0 0 1 23.366954-11.165978l156.741694 33.085936v-38.875925L709.182615 823.412392a20.67796 20.67796 0 0 1 19.230962-36.393929L935.199173 830.236378v-63.275876L620.472788 442.103137a20.67796 20.67796 0 0 1-5.789989-11.579978C586.352855 252.897506 536.519952 97.18981 511.291001 52.109898c-24.606952 45.078912-74.441855 200.786608-103.391798 378.414261a22.125957 22.125957 0 0 1-5.789988 11.579978L89.038826 766.959502v63.275876l205.129599-43.217915a20.67796 20.67796 0 0 1 20.67796 36.393929l-117.039771 113.317778v38.875925l156.535694-33.085936a20.67796 20.67796 0 0 1 23.572954 11.165978l14.061972 26.881948h62.034879l19.229963-36.806928a20.67796 20.67796 0 0 1 19.024963-11.579978h38.254925a20.67796 20.67796 0 0 1 19.023963 11.579978z\" fill=\"#333333\" p-id=\"8050\"/><path d=\"M511.705001 690.864651c-56.038891 0-78.784846-33.912934-78.784847-117.453771 0-86.84883 24.606952-180.314648 78.784847-180.314648s78.990846 93.465817 78.990845 180.314648c0 83.540837-22.952955 117.453771-78.990845 117.453771z m0-254.757503c-8.478983 1.239998-35.77393 44.871912-35.773931 137.303732 0 74.442855 16.542968 74.442855 35.773931 74.442855s35.97993 0 35.979929-74.442855c0-92.431819-27.294947-136.063734-35.979929-137.303732zM423.200173 912.123219a20.67796 20.67796 0 0 1-20.677959-20.67896V762.411511a20.67796 20.67796 0 0 1 20.677959-20.67796 20.67796 20.67796 0 0 1 20.67796 20.67796v127.99975a20.67796 20.67796 0 0 1-20.67796 21.711958z m177.213654 0a20.67796 20.67796 0 0 1-20.677959-20.67896V762.411511a20.67796 20.67796 0 0 1 20.677959-20.67796 20.67796 20.67796 0 0 1 20.67796 20.67796v127.99975a20.67796 20.67796 0 0 1-20.67796 21.711958z\" fill=\"#333333\" p-id=\"8051\"/></svg>"
      ],
      "text/plain": [
       "<IPython.core.display.SVG object>"
      ]
     },
     "metadata": {},
     "output_type": "display_data"
    },
    {
     "name": "stdout",
     "output_type": "stream",
     "text": [
      "\n",
      "显示文件: rotated_270.svg\n"
     ]
    },
    {
     "data": {
      "image/svg+xml": [
       "<svg xmlns=\"http://www.w3.org/2000/svg\" t=\"1758595976401\" class=\"icon\" viewBox=\"0 0 1024 1024\" version=\"1.1\" p-id=\"8049\" width=\"200\" height=\"200\" transform=\"rotate(-270 100.0 100.0)\"><rect x=\"0\" y=\"0\" width=\"200.0\" height=\"200.0\" fill=\"#f0f0f0\"/><path d=\"M847.314345 1023.579001h-4.341991l-166.667675-35.152932-12.613975 23.986954a20.67796 20.67796 0 0 1-19.023963 11.579977h-88.503827a21.919957 21.919957 0 0 1-19.229963-11.579977l-19.024963-36.599929h-12.199976l-19.230962 36.599929a20.67796 20.67796 0 0 1-19.023963 11.579977h-88.503827a21.919957 21.919957 0 0 1-19.229963-11.579977l-12.407975-23.986954-166.667675 35.152932a22.539956 22.539956 0 0 1-17.989965-4.341992 21.919957 21.919957 0 0 1-7.857984-16.749967v-74.441855a21.919957 21.919957 0 0 1 6.409987-15.508969l69.686864-67.824868L72.082859 877.798286a20.67796 20.67796 0 0 1-18.196964-4.342992 21.919957 21.919957 0 0 1-7.857985-16.749967v-98.428808a21.711958 21.711958 0 0 1 5.995988-15.094971L367.370282 417.083185a2144.140812 2144.140812 0 0 1 63.275877-272.334468A899.095244 899.095244 0 0 1 465.80009 48.386905C480.273062 19.436962 492.267039 0 511.705001 0s32.670936 19.437962 45.90591 48.593905a817.002404 817.002404 0 0 1 35.152931 96.154812 2075.487946 2075.487946 0 0 1 63.275877 272.334468l315.552383 326.097363a22.745956 22.745956 0 0 1 5.995989 15.094971v98.429808a20.67796 20.67796 0 0 1-8.063985 16.749967 20.67796 20.67796 0 0 1-17.989964 4.341992l-158.80969-33.499935 69.684864 67.825868a21.919957 21.919957 0 0 1 6.409987 15.508969v74.441855a20.67796 20.67796 0 0 1-20.67796 20.677959z m-278.123457-43.009916h62.034879l14.060973-26.882948a20.67796 20.67796 0 0 1 23.366954-11.165978l156.741694 33.085936v-38.875925L709.182615 823.412392a20.67796 20.67796 0 0 1 19.230962-36.393929L935.199173 830.236378v-63.275876L620.472788 442.103137a20.67796 20.67796 0 0 1-5.789989-11.579978C586.352855 252.897506 536.519952 97.18981 511.291001 52.109898c-24.606952 45.078912-74.441855 200.786608-103.391798 378.414261a22.125957 22.125957 0 0 1-5.789988 11.579978L89.038826 766.959502v63.275876l205.129599-43.217915a20.67796 20.67796 0 0 1 20.67796 36.393929l-117.039771 113.317778v38.875925l156.535694-33.085936a20.67796 20.67796 0 0 1 23.572954 11.165978l14.061972 26.881948h62.034879l19.229963-36.806928a20.67796 20.67796 0 0 1 19.024963-11.579978h38.254925a20.67796 20.67796 0 0 1 19.023963 11.579978z\" fill=\"#333333\" p-id=\"8050\"/><path d=\"M511.705001 690.864651c-56.038891 0-78.784846-33.912934-78.784847-117.453771 0-86.84883 24.606952-180.314648 78.784847-180.314648s78.990846 93.465817 78.990845 180.314648c0 83.540837-22.952955 117.453771-78.990845 117.453771z m0-254.757503c-8.478983 1.239998-35.77393 44.871912-35.773931 137.303732 0 74.442855 16.542968 74.442855 35.773931 74.442855s35.97993 0 35.979929-74.442855c0-92.431819-27.294947-136.063734-35.979929-137.303732zM423.200173 912.123219a20.67796 20.67796 0 0 1-20.677959-20.67896V762.411511a20.67796 20.67796 0 0 1 20.677959-20.67796 20.67796 20.67796 0 0 1 20.67796 20.67796v127.99975a20.67796 20.67796 0 0 1-20.67796 21.711958z m177.213654 0a20.67796 20.67796 0 0 1-20.677959-20.67896V762.411511a20.67796 20.67796 0 0 1 20.677959-20.67796 20.67796 20.67796 0 0 1 20.67796 20.67796v127.99975a20.67796 20.67796 0 0 1-20.67796 21.711958z\" fill=\"#333333\" p-id=\"8051\"/></svg>"
      ],
      "text/plain": [
       "<IPython.core.display.SVG object>"
      ]
     },
     "metadata": {},
     "output_type": "display_data"
    },
    {
     "name": "stdout",
     "output_type": "stream",
     "text": [
      "\n",
      "显示文件: rotated_280.svg\n"
     ]
    },
    {
     "data": {
      "image/svg+xml": [
       "<svg xmlns=\"http://www.w3.org/2000/svg\" t=\"1758595976401\" class=\"icon\" viewBox=\"0 0 1024 1024\" version=\"1.1\" p-id=\"8049\" width=\"200\" height=\"200\" transform=\"rotate(-280 512.0 512.0)\"><path d=\"M847.314345 1023.579001h-4.341991l-166.667675-35.152932-12.613975 23.986954a20.67796 20.67796 0 0 1-19.023963 11.579977h-88.503827a21.919957 21.919957 0 0 1-19.229963-11.579977l-19.024963-36.599929h-12.199976l-19.230962 36.599929a20.67796 20.67796 0 0 1-19.023963 11.579977h-88.503827a21.919957 21.919957 0 0 1-19.229963-11.579977l-12.407975-23.986954-166.667675 35.152932a22.539956 22.539956 0 0 1-17.989965-4.341992 21.919957 21.919957 0 0 1-7.857984-16.749967v-74.441855a21.919957 21.919957 0 0 1 6.409987-15.508969l69.686864-67.824868L72.082859 877.798286a20.67796 20.67796 0 0 1-18.196964-4.342992 21.919957 21.919957 0 0 1-7.857985-16.749967v-98.428808a21.711958 21.711958 0 0 1 5.995988-15.094971L367.370282 417.083185a2144.140812 2144.140812 0 0 1 63.275877-272.334468A899.095244 899.095244 0 0 1 465.80009 48.386905C480.273062 19.436962 492.267039 0 511.705001 0s32.670936 19.437962 45.90591 48.593905a817.002404 817.002404 0 0 1 35.152931 96.154812 2075.487946 2075.487946 0 0 1 63.275877 272.334468l315.552383 326.097363a22.745956 22.745956 0 0 1 5.995989 15.094971v98.429808a20.67796 20.67796 0 0 1-8.063985 16.749967 20.67796 20.67796 0 0 1-17.989964 4.341992l-158.80969-33.499935 69.684864 67.825868a21.919957 21.919957 0 0 1 6.409987 15.508969v74.441855a20.67796 20.67796 0 0 1-20.67796 20.677959z m-278.123457-43.009916h62.034879l14.060973-26.882948a20.67796 20.67796 0 0 1 23.366954-11.165978l156.741694 33.085936v-38.875925L709.182615 823.412392a20.67796 20.67796 0 0 1 19.230962-36.393929L935.199173 830.236378v-63.275876L620.472788 442.103137a20.67796 20.67796 0 0 1-5.789989-11.579978C586.352855 252.897506 536.519952 97.18981 511.291001 52.109898c-24.606952 45.078912-74.441855 200.786608-103.391798 378.414261a22.125957 22.125957 0 0 1-5.789988 11.579978L89.038826 766.959502v63.275876l205.129599-43.217915a20.67796 20.67796 0 0 1 20.67796 36.393929l-117.039771 113.317778v38.875925l156.535694-33.085936a20.67796 20.67796 0 0 1 23.572954 11.165978l14.061972 26.881948h62.034879l19.229963-36.806928a20.67796 20.67796 0 0 1 19.024963-11.579978h38.254925a20.67796 20.67796 0 0 1 19.023963 11.579978z\" fill=\"#333333\" p-id=\"8050\"/><path d=\"M511.705001 690.864651c-56.038891 0-78.784846-33.912934-78.784847-117.453771 0-86.84883 24.606952-180.314648 78.784847-180.314648s78.990846 93.465817 78.990845 180.314648c0 83.540837-22.952955 117.453771-78.990845 117.453771z m0-254.757503c-8.478983 1.239998-35.77393 44.871912-35.773931 137.303732 0 74.442855 16.542968 74.442855 35.773931 74.442855s35.97993 0 35.979929-74.442855c0-92.431819-27.294947-136.063734-35.979929-137.303732zM423.200173 912.123219a20.67796 20.67796 0 0 1-20.677959-20.67896V762.411511a20.67796 20.67796 0 0 1 20.677959-20.67796 20.67796 20.67796 0 0 1 20.67796 20.67796v127.99975a20.67796 20.67796 0 0 1-20.67796 21.711958z m177.213654 0a20.67796 20.67796 0 0 1-20.677959-20.67896V762.411511a20.67796 20.67796 0 0 1 20.677959-20.67796 20.67796 20.67796 0 0 1 20.67796 20.67796v127.99975a20.67796 20.67796 0 0 1-20.67796 21.711958z\" fill=\"#333333\" p-id=\"8051\"/></svg>"
      ],
      "text/plain": [
       "<IPython.core.display.SVG object>"
      ]
     },
     "metadata": {},
     "output_type": "display_data"
    },
    {
     "name": "stdout",
     "output_type": "stream",
     "text": [
      "\n",
      "显示文件: rotated_285.svg\n"
     ]
    },
    {
     "data": {
      "image/svg+xml": [
       "<svg xmlns=\"http://www.w3.org/2000/svg\" t=\"1758595976401\" class=\"icon\" viewBox=\"0 0 1024 1024\" version=\"1.1\" p-id=\"8049\" width=\"200\" height=\"200\" transform=\"rotate(-285 100.0 100.0)\"><rect x=\"0\" y=\"0\" width=\"200.0\" height=\"200.0\" fill=\"#f0f0f0\"/><path d=\"M847.314345 1023.579001h-4.341991l-166.667675-35.152932-12.613975 23.986954a20.67796 20.67796 0 0 1-19.023963 11.579977h-88.503827a21.919957 21.919957 0 0 1-19.229963-11.579977l-19.024963-36.599929h-12.199976l-19.230962 36.599929a20.67796 20.67796 0 0 1-19.023963 11.579977h-88.503827a21.919957 21.919957 0 0 1-19.229963-11.579977l-12.407975-23.986954-166.667675 35.152932a22.539956 22.539956 0 0 1-17.989965-4.341992 21.919957 21.919957 0 0 1-7.857984-16.749967v-74.441855a21.919957 21.919957 0 0 1 6.409987-15.508969l69.686864-67.824868L72.082859 877.798286a20.67796 20.67796 0 0 1-18.196964-4.342992 21.919957 21.919957 0 0 1-7.857985-16.749967v-98.428808a21.711958 21.711958 0 0 1 5.995988-15.094971L367.370282 417.083185a2144.140812 2144.140812 0 0 1 63.275877-272.334468A899.095244 899.095244 0 0 1 465.80009 48.386905C480.273062 19.436962 492.267039 0 511.705001 0s32.670936 19.437962 45.90591 48.593905a817.002404 817.002404 0 0 1 35.152931 96.154812 2075.487946 2075.487946 0 0 1 63.275877 272.334468l315.552383 326.097363a22.745956 22.745956 0 0 1 5.995989 15.094971v98.429808a20.67796 20.67796 0 0 1-8.063985 16.749967 20.67796 20.67796 0 0 1-17.989964 4.341992l-158.80969-33.499935 69.684864 67.825868a21.919957 21.919957 0 0 1 6.409987 15.508969v74.441855a20.67796 20.67796 0 0 1-20.67796 20.677959z m-278.123457-43.009916h62.034879l14.060973-26.882948a20.67796 20.67796 0 0 1 23.366954-11.165978l156.741694 33.085936v-38.875925L709.182615 823.412392a20.67796 20.67796 0 0 1 19.230962-36.393929L935.199173 830.236378v-63.275876L620.472788 442.103137a20.67796 20.67796 0 0 1-5.789989-11.579978C586.352855 252.897506 536.519952 97.18981 511.291001 52.109898c-24.606952 45.078912-74.441855 200.786608-103.391798 378.414261a22.125957 22.125957 0 0 1-5.789988 11.579978L89.038826 766.959502v63.275876l205.129599-43.217915a20.67796 20.67796 0 0 1 20.67796 36.393929l-117.039771 113.317778v38.875925l156.535694-33.085936a20.67796 20.67796 0 0 1 23.572954 11.165978l14.061972 26.881948h62.034879l19.229963-36.806928a20.67796 20.67796 0 0 1 19.024963-11.579978h38.254925a20.67796 20.67796 0 0 1 19.023963 11.579978z\" fill=\"#333333\" p-id=\"8050\"/><path d=\"M511.705001 690.864651c-56.038891 0-78.784846-33.912934-78.784847-117.453771 0-86.84883 24.606952-180.314648 78.784847-180.314648s78.990846 93.465817 78.990845 180.314648c0 83.540837-22.952955 117.453771-78.990845 117.453771z m0-254.757503c-8.478983 1.239998-35.77393 44.871912-35.773931 137.303732 0 74.442855 16.542968 74.442855 35.773931 74.442855s35.97993 0 35.979929-74.442855c0-92.431819-27.294947-136.063734-35.979929-137.303732zM423.200173 912.123219a20.67796 20.67796 0 0 1-20.677959-20.67896V762.411511a20.67796 20.67796 0 0 1 20.677959-20.67796 20.67796 20.67796 0 0 1 20.67796 20.67796v127.99975a20.67796 20.67796 0 0 1-20.67796 21.711958z m177.213654 0a20.67796 20.67796 0 0 1-20.677959-20.67896V762.411511a20.67796 20.67796 0 0 1 20.677959-20.67796 20.67796 20.67796 0 0 1 20.67796 20.67796v127.99975a20.67796 20.67796 0 0 1-20.67796 21.711958z\" fill=\"#333333\" p-id=\"8051\"/></svg>"
      ],
      "text/plain": [
       "<IPython.core.display.SVG object>"
      ]
     },
     "metadata": {},
     "output_type": "display_data"
    },
    {
     "name": "stdout",
     "output_type": "stream",
     "text": [
      "\n",
      "显示文件: rotated_290.svg\n"
     ]
    },
    {
     "data": {
      "image/svg+xml": [
       "<svg xmlns=\"http://www.w3.org/2000/svg\" t=\"1758595976401\" class=\"icon\" viewBox=\"0 0 1024 1024\" version=\"1.1\" p-id=\"8049\" width=\"200\" height=\"200\" transform=\"rotate(-290 512.0 512.0)\"><path d=\"M847.314345 1023.579001h-4.341991l-166.667675-35.152932-12.613975 23.986954a20.67796 20.67796 0 0 1-19.023963 11.579977h-88.503827a21.919957 21.919957 0 0 1-19.229963-11.579977l-19.024963-36.599929h-12.199976l-19.230962 36.599929a20.67796 20.67796 0 0 1-19.023963 11.579977h-88.503827a21.919957 21.919957 0 0 1-19.229963-11.579977l-12.407975-23.986954-166.667675 35.152932a22.539956 22.539956 0 0 1-17.989965-4.341992 21.919957 21.919957 0 0 1-7.857984-16.749967v-74.441855a21.919957 21.919957 0 0 1 6.409987-15.508969l69.686864-67.824868L72.082859 877.798286a20.67796 20.67796 0 0 1-18.196964-4.342992 21.919957 21.919957 0 0 1-7.857985-16.749967v-98.428808a21.711958 21.711958 0 0 1 5.995988-15.094971L367.370282 417.083185a2144.140812 2144.140812 0 0 1 63.275877-272.334468A899.095244 899.095244 0 0 1 465.80009 48.386905C480.273062 19.436962 492.267039 0 511.705001 0s32.670936 19.437962 45.90591 48.593905a817.002404 817.002404 0 0 1 35.152931 96.154812 2075.487946 2075.487946 0 0 1 63.275877 272.334468l315.552383 326.097363a22.745956 22.745956 0 0 1 5.995989 15.094971v98.429808a20.67796 20.67796 0 0 1-8.063985 16.749967 20.67796 20.67796 0 0 1-17.989964 4.341992l-158.80969-33.499935 69.684864 67.825868a21.919957 21.919957 0 0 1 6.409987 15.508969v74.441855a20.67796 20.67796 0 0 1-20.67796 20.677959z m-278.123457-43.009916h62.034879l14.060973-26.882948a20.67796 20.67796 0 0 1 23.366954-11.165978l156.741694 33.085936v-38.875925L709.182615 823.412392a20.67796 20.67796 0 0 1 19.230962-36.393929L935.199173 830.236378v-63.275876L620.472788 442.103137a20.67796 20.67796 0 0 1-5.789989-11.579978C586.352855 252.897506 536.519952 97.18981 511.291001 52.109898c-24.606952 45.078912-74.441855 200.786608-103.391798 378.414261a22.125957 22.125957 0 0 1-5.789988 11.579978L89.038826 766.959502v63.275876l205.129599-43.217915a20.67796 20.67796 0 0 1 20.67796 36.393929l-117.039771 113.317778v38.875925l156.535694-33.085936a20.67796 20.67796 0 0 1 23.572954 11.165978l14.061972 26.881948h62.034879l19.229963-36.806928a20.67796 20.67796 0 0 1 19.024963-11.579978h38.254925a20.67796 20.67796 0 0 1 19.023963 11.579978z\" fill=\"#333333\" p-id=\"8050\"/><path d=\"M511.705001 690.864651c-56.038891 0-78.784846-33.912934-78.784847-117.453771 0-86.84883 24.606952-180.314648 78.784847-180.314648s78.990846 93.465817 78.990845 180.314648c0 83.540837-22.952955 117.453771-78.990845 117.453771z m0-254.757503c-8.478983 1.239998-35.77393 44.871912-35.773931 137.303732 0 74.442855 16.542968 74.442855 35.773931 74.442855s35.97993 0 35.979929-74.442855c0-92.431819-27.294947-136.063734-35.979929-137.303732zM423.200173 912.123219a20.67796 20.67796 0 0 1-20.677959-20.67896V762.411511a20.67796 20.67796 0 0 1 20.677959-20.67796 20.67796 20.67796 0 0 1 20.67796 20.67796v127.99975a20.67796 20.67796 0 0 1-20.67796 21.711958z m177.213654 0a20.67796 20.67796 0 0 1-20.677959-20.67896V762.411511a20.67796 20.67796 0 0 1 20.677959-20.67796 20.67796 20.67796 0 0 1 20.67796 20.67796v127.99975a20.67796 20.67796 0 0 1-20.67796 21.711958z\" fill=\"#333333\" p-id=\"8051\"/></svg>"
      ],
      "text/plain": [
       "<IPython.core.display.SVG object>"
      ]
     },
     "metadata": {},
     "output_type": "display_data"
    },
    {
     "name": "stdout",
     "output_type": "stream",
     "text": [
      "\n",
      "显示文件: rotated_30.svg\n"
     ]
    },
    {
     "data": {
      "image/svg+xml": [
       "<svg xmlns=\"http://www.w3.org/2000/svg\" t=\"1758595976401\" class=\"icon\" viewBox=\"0 0 1024 1024\" version=\"1.1\" p-id=\"8049\" width=\"200\" height=\"200\" transform=\"rotate(-30 100.0 100.0)\"><rect x=\"0\" y=\"0\" width=\"200.0\" height=\"200.0\" fill=\"#f0f0f0\"/><path d=\"M847.314345 1023.579001h-4.341991l-166.667675-35.152932-12.613975 23.986954a20.67796 20.67796 0 0 1-19.023963 11.579977h-88.503827a21.919957 21.919957 0 0 1-19.229963-11.579977l-19.024963-36.599929h-12.199976l-19.230962 36.599929a20.67796 20.67796 0 0 1-19.023963 11.579977h-88.503827a21.919957 21.919957 0 0 1-19.229963-11.579977l-12.407975-23.986954-166.667675 35.152932a22.539956 22.539956 0 0 1-17.989965-4.341992 21.919957 21.919957 0 0 1-7.857984-16.749967v-74.441855a21.919957 21.919957 0 0 1 6.409987-15.508969l69.686864-67.824868L72.082859 877.798286a20.67796 20.67796 0 0 1-18.196964-4.342992 21.919957 21.919957 0 0 1-7.857985-16.749967v-98.428808a21.711958 21.711958 0 0 1 5.995988-15.094971L367.370282 417.083185a2144.140812 2144.140812 0 0 1 63.275877-272.334468A899.095244 899.095244 0 0 1 465.80009 48.386905C480.273062 19.436962 492.267039 0 511.705001 0s32.670936 19.437962 45.90591 48.593905a817.002404 817.002404 0 0 1 35.152931 96.154812 2075.487946 2075.487946 0 0 1 63.275877 272.334468l315.552383 326.097363a22.745956 22.745956 0 0 1 5.995989 15.094971v98.429808a20.67796 20.67796 0 0 1-8.063985 16.749967 20.67796 20.67796 0 0 1-17.989964 4.341992l-158.80969-33.499935 69.684864 67.825868a21.919957 21.919957 0 0 1 6.409987 15.508969v74.441855a20.67796 20.67796 0 0 1-20.67796 20.677959z m-278.123457-43.009916h62.034879l14.060973-26.882948a20.67796 20.67796 0 0 1 23.366954-11.165978l156.741694 33.085936v-38.875925L709.182615 823.412392a20.67796 20.67796 0 0 1 19.230962-36.393929L935.199173 830.236378v-63.275876L620.472788 442.103137a20.67796 20.67796 0 0 1-5.789989-11.579978C586.352855 252.897506 536.519952 97.18981 511.291001 52.109898c-24.606952 45.078912-74.441855 200.786608-103.391798 378.414261a22.125957 22.125957 0 0 1-5.789988 11.579978L89.038826 766.959502v63.275876l205.129599-43.217915a20.67796 20.67796 0 0 1 20.67796 36.393929l-117.039771 113.317778v38.875925l156.535694-33.085936a20.67796 20.67796 0 0 1 23.572954 11.165978l14.061972 26.881948h62.034879l19.229963-36.806928a20.67796 20.67796 0 0 1 19.024963-11.579978h38.254925a20.67796 20.67796 0 0 1 19.023963 11.579978z\" fill=\"#333333\" p-id=\"8050\"/><path d=\"M511.705001 690.864651c-56.038891 0-78.784846-33.912934-78.784847-117.453771 0-86.84883 24.606952-180.314648 78.784847-180.314648s78.990846 93.465817 78.990845 180.314648c0 83.540837-22.952955 117.453771-78.990845 117.453771z m0-254.757503c-8.478983 1.239998-35.77393 44.871912-35.773931 137.303732 0 74.442855 16.542968 74.442855 35.773931 74.442855s35.97993 0 35.979929-74.442855c0-92.431819-27.294947-136.063734-35.979929-137.303732zM423.200173 912.123219a20.67796 20.67796 0 0 1-20.677959-20.67896V762.411511a20.67796 20.67796 0 0 1 20.677959-20.67796 20.67796 20.67796 0 0 1 20.67796 20.67796v127.99975a20.67796 20.67796 0 0 1-20.67796 21.711958z m177.213654 0a20.67796 20.67796 0 0 1-20.677959-20.67896V762.411511a20.67796 20.67796 0 0 1 20.677959-20.67796 20.67796 20.67796 0 0 1 20.67796 20.67796v127.99975a20.67796 20.67796 0 0 1-20.67796 21.711958z\" fill=\"#333333\" p-id=\"8051\"/></svg>"
      ],
      "text/plain": [
       "<IPython.core.display.SVG object>"
      ]
     },
     "metadata": {},
     "output_type": "display_data"
    },
    {
     "name": "stdout",
     "output_type": "stream",
     "text": [
      "\n",
      "显示文件: rotated_300.svg\n"
     ]
    },
    {
     "data": {
      "image/svg+xml": [
       "<svg xmlns=\"http://www.w3.org/2000/svg\" t=\"1758595976401\" class=\"icon\" viewBox=\"0 0 1024 1024\" version=\"1.1\" p-id=\"8049\" width=\"200\" height=\"200\" transform=\"rotate(-300 100.0 100.0)\"><rect x=\"0\" y=\"0\" width=\"200.0\" height=\"200.0\" fill=\"#f0f0f0\"/><path d=\"M847.314345 1023.579001h-4.341991l-166.667675-35.152932-12.613975 23.986954a20.67796 20.67796 0 0 1-19.023963 11.579977h-88.503827a21.919957 21.919957 0 0 1-19.229963-11.579977l-19.024963-36.599929h-12.199976l-19.230962 36.599929a20.67796 20.67796 0 0 1-19.023963 11.579977h-88.503827a21.919957 21.919957 0 0 1-19.229963-11.579977l-12.407975-23.986954-166.667675 35.152932a22.539956 22.539956 0 0 1-17.989965-4.341992 21.919957 21.919957 0 0 1-7.857984-16.749967v-74.441855a21.919957 21.919957 0 0 1 6.409987-15.508969l69.686864-67.824868L72.082859 877.798286a20.67796 20.67796 0 0 1-18.196964-4.342992 21.919957 21.919957 0 0 1-7.857985-16.749967v-98.428808a21.711958 21.711958 0 0 1 5.995988-15.094971L367.370282 417.083185a2144.140812 2144.140812 0 0 1 63.275877-272.334468A899.095244 899.095244 0 0 1 465.80009 48.386905C480.273062 19.436962 492.267039 0 511.705001 0s32.670936 19.437962 45.90591 48.593905a817.002404 817.002404 0 0 1 35.152931 96.154812 2075.487946 2075.487946 0 0 1 63.275877 272.334468l315.552383 326.097363a22.745956 22.745956 0 0 1 5.995989 15.094971v98.429808a20.67796 20.67796 0 0 1-8.063985 16.749967 20.67796 20.67796 0 0 1-17.989964 4.341992l-158.80969-33.499935 69.684864 67.825868a21.919957 21.919957 0 0 1 6.409987 15.508969v74.441855a20.67796 20.67796 0 0 1-20.67796 20.677959z m-278.123457-43.009916h62.034879l14.060973-26.882948a20.67796 20.67796 0 0 1 23.366954-11.165978l156.741694 33.085936v-38.875925L709.182615 823.412392a20.67796 20.67796 0 0 1 19.230962-36.393929L935.199173 830.236378v-63.275876L620.472788 442.103137a20.67796 20.67796 0 0 1-5.789989-11.579978C586.352855 252.897506 536.519952 97.18981 511.291001 52.109898c-24.606952 45.078912-74.441855 200.786608-103.391798 378.414261a22.125957 22.125957 0 0 1-5.789988 11.579978L89.038826 766.959502v63.275876l205.129599-43.217915a20.67796 20.67796 0 0 1 20.67796 36.393929l-117.039771 113.317778v38.875925l156.535694-33.085936a20.67796 20.67796 0 0 1 23.572954 11.165978l14.061972 26.881948h62.034879l19.229963-36.806928a20.67796 20.67796 0 0 1 19.024963-11.579978h38.254925a20.67796 20.67796 0 0 1 19.023963 11.579978z\" fill=\"#333333\" p-id=\"8050\"/><path d=\"M511.705001 690.864651c-56.038891 0-78.784846-33.912934-78.784847-117.453771 0-86.84883 24.606952-180.314648 78.784847-180.314648s78.990846 93.465817 78.990845 180.314648c0 83.540837-22.952955 117.453771-78.990845 117.453771z m0-254.757503c-8.478983 1.239998-35.77393 44.871912-35.773931 137.303732 0 74.442855 16.542968 74.442855 35.773931 74.442855s35.97993 0 35.979929-74.442855c0-92.431819-27.294947-136.063734-35.979929-137.303732zM423.200173 912.123219a20.67796 20.67796 0 0 1-20.677959-20.67896V762.411511a20.67796 20.67796 0 0 1 20.677959-20.67796 20.67796 20.67796 0 0 1 20.67796 20.67796v127.99975a20.67796 20.67796 0 0 1-20.67796 21.711958z m177.213654 0a20.67796 20.67796 0 0 1-20.677959-20.67896V762.411511a20.67796 20.67796 0 0 1 20.677959-20.67796 20.67796 20.67796 0 0 1 20.67796 20.67796v127.99975a20.67796 20.67796 0 0 1-20.67796 21.711958z\" fill=\"#333333\" p-id=\"8051\"/></svg>"
      ],
      "text/plain": [
       "<IPython.core.display.SVG object>"
      ]
     },
     "metadata": {},
     "output_type": "display_data"
    },
    {
     "name": "stdout",
     "output_type": "stream",
     "text": [
      "\n",
      "显示文件: rotated_310.svg\n"
     ]
    },
    {
     "data": {
      "image/svg+xml": [
       "<svg xmlns=\"http://www.w3.org/2000/svg\" t=\"1758595976401\" class=\"icon\" viewBox=\"0 0 1024 1024\" version=\"1.1\" p-id=\"8049\" width=\"200\" height=\"200\" transform=\"rotate(-310 512.0 512.0)\"><path d=\"M847.314345 1023.579001h-4.341991l-166.667675-35.152932-12.613975 23.986954a20.67796 20.67796 0 0 1-19.023963 11.579977h-88.503827a21.919957 21.919957 0 0 1-19.229963-11.579977l-19.024963-36.599929h-12.199976l-19.230962 36.599929a20.67796 20.67796 0 0 1-19.023963 11.579977h-88.503827a21.919957 21.919957 0 0 1-19.229963-11.579977l-12.407975-23.986954-166.667675 35.152932a22.539956 22.539956 0 0 1-17.989965-4.341992 21.919957 21.919957 0 0 1-7.857984-16.749967v-74.441855a21.919957 21.919957 0 0 1 6.409987-15.508969l69.686864-67.824868L72.082859 877.798286a20.67796 20.67796 0 0 1-18.196964-4.342992 21.919957 21.919957 0 0 1-7.857985-16.749967v-98.428808a21.711958 21.711958 0 0 1 5.995988-15.094971L367.370282 417.083185a2144.140812 2144.140812 0 0 1 63.275877-272.334468A899.095244 899.095244 0 0 1 465.80009 48.386905C480.273062 19.436962 492.267039 0 511.705001 0s32.670936 19.437962 45.90591 48.593905a817.002404 817.002404 0 0 1 35.152931 96.154812 2075.487946 2075.487946 0 0 1 63.275877 272.334468l315.552383 326.097363a22.745956 22.745956 0 0 1 5.995989 15.094971v98.429808a20.67796 20.67796 0 0 1-8.063985 16.749967 20.67796 20.67796 0 0 1-17.989964 4.341992l-158.80969-33.499935 69.684864 67.825868a21.919957 21.919957 0 0 1 6.409987 15.508969v74.441855a20.67796 20.67796 0 0 1-20.67796 20.677959z m-278.123457-43.009916h62.034879l14.060973-26.882948a20.67796 20.67796 0 0 1 23.366954-11.165978l156.741694 33.085936v-38.875925L709.182615 823.412392a20.67796 20.67796 0 0 1 19.230962-36.393929L935.199173 830.236378v-63.275876L620.472788 442.103137a20.67796 20.67796 0 0 1-5.789989-11.579978C586.352855 252.897506 536.519952 97.18981 511.291001 52.109898c-24.606952 45.078912-74.441855 200.786608-103.391798 378.414261a22.125957 22.125957 0 0 1-5.789988 11.579978L89.038826 766.959502v63.275876l205.129599-43.217915a20.67796 20.67796 0 0 1 20.67796 36.393929l-117.039771 113.317778v38.875925l156.535694-33.085936a20.67796 20.67796 0 0 1 23.572954 11.165978l14.061972 26.881948h62.034879l19.229963-36.806928a20.67796 20.67796 0 0 1 19.024963-11.579978h38.254925a20.67796 20.67796 0 0 1 19.023963 11.579978z\" fill=\"#333333\" p-id=\"8050\"/><path d=\"M511.705001 690.864651c-56.038891 0-78.784846-33.912934-78.784847-117.453771 0-86.84883 24.606952-180.314648 78.784847-180.314648s78.990846 93.465817 78.990845 180.314648c0 83.540837-22.952955 117.453771-78.990845 117.453771z m0-254.757503c-8.478983 1.239998-35.77393 44.871912-35.773931 137.303732 0 74.442855 16.542968 74.442855 35.773931 74.442855s35.97993 0 35.979929-74.442855c0-92.431819-27.294947-136.063734-35.979929-137.303732zM423.200173 912.123219a20.67796 20.67796 0 0 1-20.677959-20.67896V762.411511a20.67796 20.67796 0 0 1 20.677959-20.67796 20.67796 20.67796 0 0 1 20.67796 20.67796v127.99975a20.67796 20.67796 0 0 1-20.67796 21.711958z m177.213654 0a20.67796 20.67796 0 0 1-20.677959-20.67896V762.411511a20.67796 20.67796 0 0 1 20.677959-20.67796 20.67796 20.67796 0 0 1 20.67796 20.67796v127.99975a20.67796 20.67796 0 0 1-20.67796 21.711958z\" fill=\"#333333\" p-id=\"8051\"/></svg>"
      ],
      "text/plain": [
       "<IPython.core.display.SVG object>"
      ]
     },
     "metadata": {},
     "output_type": "display_data"
    },
    {
     "name": "stdout",
     "output_type": "stream",
     "text": [
      "\n",
      "显示文件: rotated_315.svg\n"
     ]
    },
    {
     "data": {
      "image/svg+xml": [
       "<svg xmlns=\"http://www.w3.org/2000/svg\" t=\"1758595976401\" class=\"icon\" viewBox=\"0 0 1024 1024\" version=\"1.1\" p-id=\"8049\" width=\"200\" height=\"200\" transform=\"rotate(-315 100.0 100.0)\"><rect x=\"0\" y=\"0\" width=\"200.0\" height=\"200.0\" fill=\"#f0f0f0\"/><path d=\"M847.314345 1023.579001h-4.341991l-166.667675-35.152932-12.613975 23.986954a20.67796 20.67796 0 0 1-19.023963 11.579977h-88.503827a21.919957 21.919957 0 0 1-19.229963-11.579977l-19.024963-36.599929h-12.199976l-19.230962 36.599929a20.67796 20.67796 0 0 1-19.023963 11.579977h-88.503827a21.919957 21.919957 0 0 1-19.229963-11.579977l-12.407975-23.986954-166.667675 35.152932a22.539956 22.539956 0 0 1-17.989965-4.341992 21.919957 21.919957 0 0 1-7.857984-16.749967v-74.441855a21.919957 21.919957 0 0 1 6.409987-15.508969l69.686864-67.824868L72.082859 877.798286a20.67796 20.67796 0 0 1-18.196964-4.342992 21.919957 21.919957 0 0 1-7.857985-16.749967v-98.428808a21.711958 21.711958 0 0 1 5.995988-15.094971L367.370282 417.083185a2144.140812 2144.140812 0 0 1 63.275877-272.334468A899.095244 899.095244 0 0 1 465.80009 48.386905C480.273062 19.436962 492.267039 0 511.705001 0s32.670936 19.437962 45.90591 48.593905a817.002404 817.002404 0 0 1 35.152931 96.154812 2075.487946 2075.487946 0 0 1 63.275877 272.334468l315.552383 326.097363a22.745956 22.745956 0 0 1 5.995989 15.094971v98.429808a20.67796 20.67796 0 0 1-8.063985 16.749967 20.67796 20.67796 0 0 1-17.989964 4.341992l-158.80969-33.499935 69.684864 67.825868a21.919957 21.919957 0 0 1 6.409987 15.508969v74.441855a20.67796 20.67796 0 0 1-20.67796 20.677959z m-278.123457-43.009916h62.034879l14.060973-26.882948a20.67796 20.67796 0 0 1 23.366954-11.165978l156.741694 33.085936v-38.875925L709.182615 823.412392a20.67796 20.67796 0 0 1 19.230962-36.393929L935.199173 830.236378v-63.275876L620.472788 442.103137a20.67796 20.67796 0 0 1-5.789989-11.579978C586.352855 252.897506 536.519952 97.18981 511.291001 52.109898c-24.606952 45.078912-74.441855 200.786608-103.391798 378.414261a22.125957 22.125957 0 0 1-5.789988 11.579978L89.038826 766.959502v63.275876l205.129599-43.217915a20.67796 20.67796 0 0 1 20.67796 36.393929l-117.039771 113.317778v38.875925l156.535694-33.085936a20.67796 20.67796 0 0 1 23.572954 11.165978l14.061972 26.881948h62.034879l19.229963-36.806928a20.67796 20.67796 0 0 1 19.024963-11.579978h38.254925a20.67796 20.67796 0 0 1 19.023963 11.579978z\" fill=\"#333333\" p-id=\"8050\"/><path d=\"M511.705001 690.864651c-56.038891 0-78.784846-33.912934-78.784847-117.453771 0-86.84883 24.606952-180.314648 78.784847-180.314648s78.990846 93.465817 78.990845 180.314648c0 83.540837-22.952955 117.453771-78.990845 117.453771z m0-254.757503c-8.478983 1.239998-35.77393 44.871912-35.773931 137.303732 0 74.442855 16.542968 74.442855 35.773931 74.442855s35.97993 0 35.979929-74.442855c0-92.431819-27.294947-136.063734-35.979929-137.303732zM423.200173 912.123219a20.67796 20.67796 0 0 1-20.677959-20.67896V762.411511a20.67796 20.67796 0 0 1 20.677959-20.67796 20.67796 20.67796 0 0 1 20.67796 20.67796v127.99975a20.67796 20.67796 0 0 1-20.67796 21.711958z m177.213654 0a20.67796 20.67796 0 0 1-20.677959-20.67896V762.411511a20.67796 20.67796 0 0 1 20.677959-20.67796 20.67796 20.67796 0 0 1 20.67796 20.67796v127.99975a20.67796 20.67796 0 0 1-20.67796 21.711958z\" fill=\"#333333\" p-id=\"8051\"/></svg>"
      ],
      "text/plain": [
       "<IPython.core.display.SVG object>"
      ]
     },
     "metadata": {},
     "output_type": "display_data"
    },
    {
     "name": "stdout",
     "output_type": "stream",
     "text": [
      "\n",
      "显示文件: rotated_320.svg\n"
     ]
    },
    {
     "data": {
      "image/svg+xml": [
       "<svg xmlns=\"http://www.w3.org/2000/svg\" t=\"1758595976401\" class=\"icon\" viewBox=\"0 0 1024 1024\" version=\"1.1\" p-id=\"8049\" width=\"200\" height=\"200\" transform=\"rotate(-320 512.0 512.0)\"><path d=\"M847.314345 1023.579001h-4.341991l-166.667675-35.152932-12.613975 23.986954a20.67796 20.67796 0 0 1-19.023963 11.579977h-88.503827a21.919957 21.919957 0 0 1-19.229963-11.579977l-19.024963-36.599929h-12.199976l-19.230962 36.599929a20.67796 20.67796 0 0 1-19.023963 11.579977h-88.503827a21.919957 21.919957 0 0 1-19.229963-11.579977l-12.407975-23.986954-166.667675 35.152932a22.539956 22.539956 0 0 1-17.989965-4.341992 21.919957 21.919957 0 0 1-7.857984-16.749967v-74.441855a21.919957 21.919957 0 0 1 6.409987-15.508969l69.686864-67.824868L72.082859 877.798286a20.67796 20.67796 0 0 1-18.196964-4.342992 21.919957 21.919957 0 0 1-7.857985-16.749967v-98.428808a21.711958 21.711958 0 0 1 5.995988-15.094971L367.370282 417.083185a2144.140812 2144.140812 0 0 1 63.275877-272.334468A899.095244 899.095244 0 0 1 465.80009 48.386905C480.273062 19.436962 492.267039 0 511.705001 0s32.670936 19.437962 45.90591 48.593905a817.002404 817.002404 0 0 1 35.152931 96.154812 2075.487946 2075.487946 0 0 1 63.275877 272.334468l315.552383 326.097363a22.745956 22.745956 0 0 1 5.995989 15.094971v98.429808a20.67796 20.67796 0 0 1-8.063985 16.749967 20.67796 20.67796 0 0 1-17.989964 4.341992l-158.80969-33.499935 69.684864 67.825868a21.919957 21.919957 0 0 1 6.409987 15.508969v74.441855a20.67796 20.67796 0 0 1-20.67796 20.677959z m-278.123457-43.009916h62.034879l14.060973-26.882948a20.67796 20.67796 0 0 1 23.366954-11.165978l156.741694 33.085936v-38.875925L709.182615 823.412392a20.67796 20.67796 0 0 1 19.230962-36.393929L935.199173 830.236378v-63.275876L620.472788 442.103137a20.67796 20.67796 0 0 1-5.789989-11.579978C586.352855 252.897506 536.519952 97.18981 511.291001 52.109898c-24.606952 45.078912-74.441855 200.786608-103.391798 378.414261a22.125957 22.125957 0 0 1-5.789988 11.579978L89.038826 766.959502v63.275876l205.129599-43.217915a20.67796 20.67796 0 0 1 20.67796 36.393929l-117.039771 113.317778v38.875925l156.535694-33.085936a20.67796 20.67796 0 0 1 23.572954 11.165978l14.061972 26.881948h62.034879l19.229963-36.806928a20.67796 20.67796 0 0 1 19.024963-11.579978h38.254925a20.67796 20.67796 0 0 1 19.023963 11.579978z\" fill=\"#333333\" p-id=\"8050\"/><path d=\"M511.705001 690.864651c-56.038891 0-78.784846-33.912934-78.784847-117.453771 0-86.84883 24.606952-180.314648 78.784847-180.314648s78.990846 93.465817 78.990845 180.314648c0 83.540837-22.952955 117.453771-78.990845 117.453771z m0-254.757503c-8.478983 1.239998-35.77393 44.871912-35.773931 137.303732 0 74.442855 16.542968 74.442855 35.773931 74.442855s35.97993 0 35.979929-74.442855c0-92.431819-27.294947-136.063734-35.979929-137.303732zM423.200173 912.123219a20.67796 20.67796 0 0 1-20.677959-20.67896V762.411511a20.67796 20.67796 0 0 1 20.677959-20.67796 20.67796 20.67796 0 0 1 20.67796 20.67796v127.99975a20.67796 20.67796 0 0 1-20.67796 21.711958z m177.213654 0a20.67796 20.67796 0 0 1-20.677959-20.67896V762.411511a20.67796 20.67796 0 0 1 20.677959-20.67796 20.67796 20.67796 0 0 1 20.67796 20.67796v127.99975a20.67796 20.67796 0 0 1-20.67796 21.711958z\" fill=\"#333333\" p-id=\"8051\"/></svg>"
      ],
      "text/plain": [
       "<IPython.core.display.SVG object>"
      ]
     },
     "metadata": {},
     "output_type": "display_data"
    },
    {
     "name": "stdout",
     "output_type": "stream",
     "text": [
      "\n",
      "显示文件: rotated_330.svg\n"
     ]
    },
    {
     "data": {
      "image/svg+xml": [
       "<svg xmlns=\"http://www.w3.org/2000/svg\" t=\"1758595976401\" class=\"icon\" viewBox=\"0 0 1024 1024\" version=\"1.1\" p-id=\"8049\" width=\"200\" height=\"200\" transform=\"rotate(-330 100.0 100.0)\"><rect x=\"0\" y=\"0\" width=\"200.0\" height=\"200.0\" fill=\"#f0f0f0\"/><path d=\"M847.314345 1023.579001h-4.341991l-166.667675-35.152932-12.613975 23.986954a20.67796 20.67796 0 0 1-19.023963 11.579977h-88.503827a21.919957 21.919957 0 0 1-19.229963-11.579977l-19.024963-36.599929h-12.199976l-19.230962 36.599929a20.67796 20.67796 0 0 1-19.023963 11.579977h-88.503827a21.919957 21.919957 0 0 1-19.229963-11.579977l-12.407975-23.986954-166.667675 35.152932a22.539956 22.539956 0 0 1-17.989965-4.341992 21.919957 21.919957 0 0 1-7.857984-16.749967v-74.441855a21.919957 21.919957 0 0 1 6.409987-15.508969l69.686864-67.824868L72.082859 877.798286a20.67796 20.67796 0 0 1-18.196964-4.342992 21.919957 21.919957 0 0 1-7.857985-16.749967v-98.428808a21.711958 21.711958 0 0 1 5.995988-15.094971L367.370282 417.083185a2144.140812 2144.140812 0 0 1 63.275877-272.334468A899.095244 899.095244 0 0 1 465.80009 48.386905C480.273062 19.436962 492.267039 0 511.705001 0s32.670936 19.437962 45.90591 48.593905a817.002404 817.002404 0 0 1 35.152931 96.154812 2075.487946 2075.487946 0 0 1 63.275877 272.334468l315.552383 326.097363a22.745956 22.745956 0 0 1 5.995989 15.094971v98.429808a20.67796 20.67796 0 0 1-8.063985 16.749967 20.67796 20.67796 0 0 1-17.989964 4.341992l-158.80969-33.499935 69.684864 67.825868a21.919957 21.919957 0 0 1 6.409987 15.508969v74.441855a20.67796 20.67796 0 0 1-20.67796 20.677959z m-278.123457-43.009916h62.034879l14.060973-26.882948a20.67796 20.67796 0 0 1 23.366954-11.165978l156.741694 33.085936v-38.875925L709.182615 823.412392a20.67796 20.67796 0 0 1 19.230962-36.393929L935.199173 830.236378v-63.275876L620.472788 442.103137a20.67796 20.67796 0 0 1-5.789989-11.579978C586.352855 252.897506 536.519952 97.18981 511.291001 52.109898c-24.606952 45.078912-74.441855 200.786608-103.391798 378.414261a22.125957 22.125957 0 0 1-5.789988 11.579978L89.038826 766.959502v63.275876l205.129599-43.217915a20.67796 20.67796 0 0 1 20.67796 36.393929l-117.039771 113.317778v38.875925l156.535694-33.085936a20.67796 20.67796 0 0 1 23.572954 11.165978l14.061972 26.881948h62.034879l19.229963-36.806928a20.67796 20.67796 0 0 1 19.024963-11.579978h38.254925a20.67796 20.67796 0 0 1 19.023963 11.579978z\" fill=\"#333333\" p-id=\"8050\"/><path d=\"M511.705001 690.864651c-56.038891 0-78.784846-33.912934-78.784847-117.453771 0-86.84883 24.606952-180.314648 78.784847-180.314648s78.990846 93.465817 78.990845 180.314648c0 83.540837-22.952955 117.453771-78.990845 117.453771z m0-254.757503c-8.478983 1.239998-35.77393 44.871912-35.773931 137.303732 0 74.442855 16.542968 74.442855 35.773931 74.442855s35.97993 0 35.979929-74.442855c0-92.431819-27.294947-136.063734-35.979929-137.303732zM423.200173 912.123219a20.67796 20.67796 0 0 1-20.677959-20.67896V762.411511a20.67796 20.67796 0 0 1 20.677959-20.67796 20.67796 20.67796 0 0 1 20.67796 20.67796v127.99975a20.67796 20.67796 0 0 1-20.67796 21.711958z m177.213654 0a20.67796 20.67796 0 0 1-20.677959-20.67896V762.411511a20.67796 20.67796 0 0 1 20.677959-20.67796 20.67796 20.67796 0 0 1 20.67796 20.67796v127.99975a20.67796 20.67796 0 0 1-20.67796 21.711958z\" fill=\"#333333\" p-id=\"8051\"/></svg>"
      ],
      "text/plain": [
       "<IPython.core.display.SVG object>"
      ]
     },
     "metadata": {},
     "output_type": "display_data"
    },
    {
     "name": "stdout",
     "output_type": "stream",
     "text": [
      "\n",
      "显示文件: rotated_340.svg\n"
     ]
    },
    {
     "data": {
      "image/svg+xml": [
       "<svg xmlns=\"http://www.w3.org/2000/svg\" t=\"1758595976401\" class=\"icon\" viewBox=\"0 0 1024 1024\" version=\"1.1\" p-id=\"8049\" width=\"200\" height=\"200\" transform=\"rotate(-340 512.0 512.0)\"><path d=\"M847.314345 1023.579001h-4.341991l-166.667675-35.152932-12.613975 23.986954a20.67796 20.67796 0 0 1-19.023963 11.579977h-88.503827a21.919957 21.919957 0 0 1-19.229963-11.579977l-19.024963-36.599929h-12.199976l-19.230962 36.599929a20.67796 20.67796 0 0 1-19.023963 11.579977h-88.503827a21.919957 21.919957 0 0 1-19.229963-11.579977l-12.407975-23.986954-166.667675 35.152932a22.539956 22.539956 0 0 1-17.989965-4.341992 21.919957 21.919957 0 0 1-7.857984-16.749967v-74.441855a21.919957 21.919957 0 0 1 6.409987-15.508969l69.686864-67.824868L72.082859 877.798286a20.67796 20.67796 0 0 1-18.196964-4.342992 21.919957 21.919957 0 0 1-7.857985-16.749967v-98.428808a21.711958 21.711958 0 0 1 5.995988-15.094971L367.370282 417.083185a2144.140812 2144.140812 0 0 1 63.275877-272.334468A899.095244 899.095244 0 0 1 465.80009 48.386905C480.273062 19.436962 492.267039 0 511.705001 0s32.670936 19.437962 45.90591 48.593905a817.002404 817.002404 0 0 1 35.152931 96.154812 2075.487946 2075.487946 0 0 1 63.275877 272.334468l315.552383 326.097363a22.745956 22.745956 0 0 1 5.995989 15.094971v98.429808a20.67796 20.67796 0 0 1-8.063985 16.749967 20.67796 20.67796 0 0 1-17.989964 4.341992l-158.80969-33.499935 69.684864 67.825868a21.919957 21.919957 0 0 1 6.409987 15.508969v74.441855a20.67796 20.67796 0 0 1-20.67796 20.677959z m-278.123457-43.009916h62.034879l14.060973-26.882948a20.67796 20.67796 0 0 1 23.366954-11.165978l156.741694 33.085936v-38.875925L709.182615 823.412392a20.67796 20.67796 0 0 1 19.230962-36.393929L935.199173 830.236378v-63.275876L620.472788 442.103137a20.67796 20.67796 0 0 1-5.789989-11.579978C586.352855 252.897506 536.519952 97.18981 511.291001 52.109898c-24.606952 45.078912-74.441855 200.786608-103.391798 378.414261a22.125957 22.125957 0 0 1-5.789988 11.579978L89.038826 766.959502v63.275876l205.129599-43.217915a20.67796 20.67796 0 0 1 20.67796 36.393929l-117.039771 113.317778v38.875925l156.535694-33.085936a20.67796 20.67796 0 0 1 23.572954 11.165978l14.061972 26.881948h62.034879l19.229963-36.806928a20.67796 20.67796 0 0 1 19.024963-11.579978h38.254925a20.67796 20.67796 0 0 1 19.023963 11.579978z\" fill=\"#333333\" p-id=\"8050\"/><path d=\"M511.705001 690.864651c-56.038891 0-78.784846-33.912934-78.784847-117.453771 0-86.84883 24.606952-180.314648 78.784847-180.314648s78.990846 93.465817 78.990845 180.314648c0 83.540837-22.952955 117.453771-78.990845 117.453771z m0-254.757503c-8.478983 1.239998-35.77393 44.871912-35.773931 137.303732 0 74.442855 16.542968 74.442855 35.773931 74.442855s35.97993 0 35.979929-74.442855c0-92.431819-27.294947-136.063734-35.979929-137.303732zM423.200173 912.123219a20.67796 20.67796 0 0 1-20.677959-20.67896V762.411511a20.67796 20.67796 0 0 1 20.677959-20.67796 20.67796 20.67796 0 0 1 20.67796 20.67796v127.99975a20.67796 20.67796 0 0 1-20.67796 21.711958z m177.213654 0a20.67796 20.67796 0 0 1-20.677959-20.67896V762.411511a20.67796 20.67796 0 0 1 20.677959-20.67796 20.67796 20.67796 0 0 1 20.67796 20.67796v127.99975a20.67796 20.67796 0 0 1-20.67796 21.711958z\" fill=\"#333333\" p-id=\"8051\"/></svg>"
      ],
      "text/plain": [
       "<IPython.core.display.SVG object>"
      ]
     },
     "metadata": {},
     "output_type": "display_data"
    },
    {
     "name": "stdout",
     "output_type": "stream",
     "text": [
      "\n",
      "显示文件: rotated_345.svg\n"
     ]
    },
    {
     "data": {
      "image/svg+xml": [
       "<svg xmlns=\"http://www.w3.org/2000/svg\" t=\"1758595976401\" class=\"icon\" viewBox=\"0 0 1024 1024\" version=\"1.1\" p-id=\"8049\" width=\"200\" height=\"200\" transform=\"rotate(-345 100.0 100.0)\"><rect x=\"0\" y=\"0\" width=\"200.0\" height=\"200.0\" fill=\"#f0f0f0\"/><path d=\"M847.314345 1023.579001h-4.341991l-166.667675-35.152932-12.613975 23.986954a20.67796 20.67796 0 0 1-19.023963 11.579977h-88.503827a21.919957 21.919957 0 0 1-19.229963-11.579977l-19.024963-36.599929h-12.199976l-19.230962 36.599929a20.67796 20.67796 0 0 1-19.023963 11.579977h-88.503827a21.919957 21.919957 0 0 1-19.229963-11.579977l-12.407975-23.986954-166.667675 35.152932a22.539956 22.539956 0 0 1-17.989965-4.341992 21.919957 21.919957 0 0 1-7.857984-16.749967v-74.441855a21.919957 21.919957 0 0 1 6.409987-15.508969l69.686864-67.824868L72.082859 877.798286a20.67796 20.67796 0 0 1-18.196964-4.342992 21.919957 21.919957 0 0 1-7.857985-16.749967v-98.428808a21.711958 21.711958 0 0 1 5.995988-15.094971L367.370282 417.083185a2144.140812 2144.140812 0 0 1 63.275877-272.334468A899.095244 899.095244 0 0 1 465.80009 48.386905C480.273062 19.436962 492.267039 0 511.705001 0s32.670936 19.437962 45.90591 48.593905a817.002404 817.002404 0 0 1 35.152931 96.154812 2075.487946 2075.487946 0 0 1 63.275877 272.334468l315.552383 326.097363a22.745956 22.745956 0 0 1 5.995989 15.094971v98.429808a20.67796 20.67796 0 0 1-8.063985 16.749967 20.67796 20.67796 0 0 1-17.989964 4.341992l-158.80969-33.499935 69.684864 67.825868a21.919957 21.919957 0 0 1 6.409987 15.508969v74.441855a20.67796 20.67796 0 0 1-20.67796 20.677959z m-278.123457-43.009916h62.034879l14.060973-26.882948a20.67796 20.67796 0 0 1 23.366954-11.165978l156.741694 33.085936v-38.875925L709.182615 823.412392a20.67796 20.67796 0 0 1 19.230962-36.393929L935.199173 830.236378v-63.275876L620.472788 442.103137a20.67796 20.67796 0 0 1-5.789989-11.579978C586.352855 252.897506 536.519952 97.18981 511.291001 52.109898c-24.606952 45.078912-74.441855 200.786608-103.391798 378.414261a22.125957 22.125957 0 0 1-5.789988 11.579978L89.038826 766.959502v63.275876l205.129599-43.217915a20.67796 20.67796 0 0 1 20.67796 36.393929l-117.039771 113.317778v38.875925l156.535694-33.085936a20.67796 20.67796 0 0 1 23.572954 11.165978l14.061972 26.881948h62.034879l19.229963-36.806928a20.67796 20.67796 0 0 1 19.024963-11.579978h38.254925a20.67796 20.67796 0 0 1 19.023963 11.579978z\" fill=\"#333333\" p-id=\"8050\"/><path d=\"M511.705001 690.864651c-56.038891 0-78.784846-33.912934-78.784847-117.453771 0-86.84883 24.606952-180.314648 78.784847-180.314648s78.990846 93.465817 78.990845 180.314648c0 83.540837-22.952955 117.453771-78.990845 117.453771z m0-254.757503c-8.478983 1.239998-35.77393 44.871912-35.773931 137.303732 0 74.442855 16.542968 74.442855 35.773931 74.442855s35.97993 0 35.979929-74.442855c0-92.431819-27.294947-136.063734-35.979929-137.303732zM423.200173 912.123219a20.67796 20.67796 0 0 1-20.677959-20.67896V762.411511a20.67796 20.67796 0 0 1 20.677959-20.67796 20.67796 20.67796 0 0 1 20.67796 20.67796v127.99975a20.67796 20.67796 0 0 1-20.67796 21.711958z m177.213654 0a20.67796 20.67796 0 0 1-20.677959-20.67896V762.411511a20.67796 20.67796 0 0 1 20.677959-20.67796 20.67796 20.67796 0 0 1 20.67796 20.67796v127.99975a20.67796 20.67796 0 0 1-20.67796 21.711958z\" fill=\"#333333\" p-id=\"8051\"/></svg>"
      ],
      "text/plain": [
       "<IPython.core.display.SVG object>"
      ]
     },
     "metadata": {},
     "output_type": "display_data"
    },
    {
     "name": "stdout",
     "output_type": "stream",
     "text": [
      "\n",
      "显示文件: rotated_350.svg\n"
     ]
    },
    {
     "data": {
      "image/svg+xml": [
       "<svg xmlns=\"http://www.w3.org/2000/svg\" t=\"1758595976401\" class=\"icon\" viewBox=\"0 0 1024 1024\" version=\"1.1\" p-id=\"8049\" width=\"200\" height=\"200\" transform=\"rotate(-350 512.0 512.0)\"><path d=\"M847.314345 1023.579001h-4.341991l-166.667675-35.152932-12.613975 23.986954a20.67796 20.67796 0 0 1-19.023963 11.579977h-88.503827a21.919957 21.919957 0 0 1-19.229963-11.579977l-19.024963-36.599929h-12.199976l-19.230962 36.599929a20.67796 20.67796 0 0 1-19.023963 11.579977h-88.503827a21.919957 21.919957 0 0 1-19.229963-11.579977l-12.407975-23.986954-166.667675 35.152932a22.539956 22.539956 0 0 1-17.989965-4.341992 21.919957 21.919957 0 0 1-7.857984-16.749967v-74.441855a21.919957 21.919957 0 0 1 6.409987-15.508969l69.686864-67.824868L72.082859 877.798286a20.67796 20.67796 0 0 1-18.196964-4.342992 21.919957 21.919957 0 0 1-7.857985-16.749967v-98.428808a21.711958 21.711958 0 0 1 5.995988-15.094971L367.370282 417.083185a2144.140812 2144.140812 0 0 1 63.275877-272.334468A899.095244 899.095244 0 0 1 465.80009 48.386905C480.273062 19.436962 492.267039 0 511.705001 0s32.670936 19.437962 45.90591 48.593905a817.002404 817.002404 0 0 1 35.152931 96.154812 2075.487946 2075.487946 0 0 1 63.275877 272.334468l315.552383 326.097363a22.745956 22.745956 0 0 1 5.995989 15.094971v98.429808a20.67796 20.67796 0 0 1-8.063985 16.749967 20.67796 20.67796 0 0 1-17.989964 4.341992l-158.80969-33.499935 69.684864 67.825868a21.919957 21.919957 0 0 1 6.409987 15.508969v74.441855a20.67796 20.67796 0 0 1-20.67796 20.677959z m-278.123457-43.009916h62.034879l14.060973-26.882948a20.67796 20.67796 0 0 1 23.366954-11.165978l156.741694 33.085936v-38.875925L709.182615 823.412392a20.67796 20.67796 0 0 1 19.230962-36.393929L935.199173 830.236378v-63.275876L620.472788 442.103137a20.67796 20.67796 0 0 1-5.789989-11.579978C586.352855 252.897506 536.519952 97.18981 511.291001 52.109898c-24.606952 45.078912-74.441855 200.786608-103.391798 378.414261a22.125957 22.125957 0 0 1-5.789988 11.579978L89.038826 766.959502v63.275876l205.129599-43.217915a20.67796 20.67796 0 0 1 20.67796 36.393929l-117.039771 113.317778v38.875925l156.535694-33.085936a20.67796 20.67796 0 0 1 23.572954 11.165978l14.061972 26.881948h62.034879l19.229963-36.806928a20.67796 20.67796 0 0 1 19.024963-11.579978h38.254925a20.67796 20.67796 0 0 1 19.023963 11.579978z\" fill=\"#333333\" p-id=\"8050\"/><path d=\"M511.705001 690.864651c-56.038891 0-78.784846-33.912934-78.784847-117.453771 0-86.84883 24.606952-180.314648 78.784847-180.314648s78.990846 93.465817 78.990845 180.314648c0 83.540837-22.952955 117.453771-78.990845 117.453771z m0-254.757503c-8.478983 1.239998-35.77393 44.871912-35.773931 137.303732 0 74.442855 16.542968 74.442855 35.773931 74.442855s35.97993 0 35.979929-74.442855c0-92.431819-27.294947-136.063734-35.979929-137.303732zM423.200173 912.123219a20.67796 20.67796 0 0 1-20.677959-20.67896V762.411511a20.67796 20.67796 0 0 1 20.677959-20.67796 20.67796 20.67796 0 0 1 20.67796 20.67796v127.99975a20.67796 20.67796 0 0 1-20.67796 21.711958z m177.213654 0a20.67796 20.67796 0 0 1-20.677959-20.67896V762.411511a20.67796 20.67796 0 0 1 20.677959-20.67796 20.67796 20.67796 0 0 1 20.67796 20.67796v127.99975a20.67796 20.67796 0 0 1-20.67796 21.711958z\" fill=\"#333333\" p-id=\"8051\"/></svg>"
      ],
      "text/plain": [
       "<IPython.core.display.SVG object>"
      ]
     },
     "metadata": {},
     "output_type": "display_data"
    },
    {
     "name": "stdout",
     "output_type": "stream",
     "text": [
      "\n",
      "显示文件: rotated_40.svg\n"
     ]
    },
    {
     "data": {
      "image/svg+xml": [
       "<svg xmlns=\"http://www.w3.org/2000/svg\" t=\"1758595976401\" class=\"icon\" viewBox=\"0 0 1024 1024\" version=\"1.1\" p-id=\"8049\" width=\"200\" height=\"200\" transform=\"rotate(-40 512.0 512.0)\"><path d=\"M847.314345 1023.579001h-4.341991l-166.667675-35.152932-12.613975 23.986954a20.67796 20.67796 0 0 1-19.023963 11.579977h-88.503827a21.919957 21.919957 0 0 1-19.229963-11.579977l-19.024963-36.599929h-12.199976l-19.230962 36.599929a20.67796 20.67796 0 0 1-19.023963 11.579977h-88.503827a21.919957 21.919957 0 0 1-19.229963-11.579977l-12.407975-23.986954-166.667675 35.152932a22.539956 22.539956 0 0 1-17.989965-4.341992 21.919957 21.919957 0 0 1-7.857984-16.749967v-74.441855a21.919957 21.919957 0 0 1 6.409987-15.508969l69.686864-67.824868L72.082859 877.798286a20.67796 20.67796 0 0 1-18.196964-4.342992 21.919957 21.919957 0 0 1-7.857985-16.749967v-98.428808a21.711958 21.711958 0 0 1 5.995988-15.094971L367.370282 417.083185a2144.140812 2144.140812 0 0 1 63.275877-272.334468A899.095244 899.095244 0 0 1 465.80009 48.386905C480.273062 19.436962 492.267039 0 511.705001 0s32.670936 19.437962 45.90591 48.593905a817.002404 817.002404 0 0 1 35.152931 96.154812 2075.487946 2075.487946 0 0 1 63.275877 272.334468l315.552383 326.097363a22.745956 22.745956 0 0 1 5.995989 15.094971v98.429808a20.67796 20.67796 0 0 1-8.063985 16.749967 20.67796 20.67796 0 0 1-17.989964 4.341992l-158.80969-33.499935 69.684864 67.825868a21.919957 21.919957 0 0 1 6.409987 15.508969v74.441855a20.67796 20.67796 0 0 1-20.67796 20.677959z m-278.123457-43.009916h62.034879l14.060973-26.882948a20.67796 20.67796 0 0 1 23.366954-11.165978l156.741694 33.085936v-38.875925L709.182615 823.412392a20.67796 20.67796 0 0 1 19.230962-36.393929L935.199173 830.236378v-63.275876L620.472788 442.103137a20.67796 20.67796 0 0 1-5.789989-11.579978C586.352855 252.897506 536.519952 97.18981 511.291001 52.109898c-24.606952 45.078912-74.441855 200.786608-103.391798 378.414261a22.125957 22.125957 0 0 1-5.789988 11.579978L89.038826 766.959502v63.275876l205.129599-43.217915a20.67796 20.67796 0 0 1 20.67796 36.393929l-117.039771 113.317778v38.875925l156.535694-33.085936a20.67796 20.67796 0 0 1 23.572954 11.165978l14.061972 26.881948h62.034879l19.229963-36.806928a20.67796 20.67796 0 0 1 19.024963-11.579978h38.254925a20.67796 20.67796 0 0 1 19.023963 11.579978z\" fill=\"#333333\" p-id=\"8050\"/><path d=\"M511.705001 690.864651c-56.038891 0-78.784846-33.912934-78.784847-117.453771 0-86.84883 24.606952-180.314648 78.784847-180.314648s78.990846 93.465817 78.990845 180.314648c0 83.540837-22.952955 117.453771-78.990845 117.453771z m0-254.757503c-8.478983 1.239998-35.77393 44.871912-35.773931 137.303732 0 74.442855 16.542968 74.442855 35.773931 74.442855s35.97993 0 35.979929-74.442855c0-92.431819-27.294947-136.063734-35.979929-137.303732zM423.200173 912.123219a20.67796 20.67796 0 0 1-20.677959-20.67896V762.411511a20.67796 20.67796 0 0 1 20.677959-20.67796 20.67796 20.67796 0 0 1 20.67796 20.67796v127.99975a20.67796 20.67796 0 0 1-20.67796 21.711958z m177.213654 0a20.67796 20.67796 0 0 1-20.677959-20.67896V762.411511a20.67796 20.67796 0 0 1 20.677959-20.67796 20.67796 20.67796 0 0 1 20.67796 20.67796v127.99975a20.67796 20.67796 0 0 1-20.67796 21.711958z\" fill=\"#333333\" p-id=\"8051\"/></svg>"
      ],
      "text/plain": [
       "<IPython.core.display.SVG object>"
      ]
     },
     "metadata": {},
     "output_type": "display_data"
    },
    {
     "name": "stdout",
     "output_type": "stream",
     "text": [
      "\n",
      "显示文件: rotated_45.svg\n"
     ]
    },
    {
     "data": {
      "image/svg+xml": [
       "<svg xmlns=\"http://www.w3.org/2000/svg\" t=\"1758595976401\" class=\"icon\" viewBox=\"0 0 1024 1024\" version=\"1.1\" p-id=\"8049\" width=\"200\" height=\"200\" transform=\"rotate(-45 100.0 100.0)\"><rect x=\"0\" y=\"0\" width=\"200.0\" height=\"200.0\" fill=\"#f0f0f0\"/><path d=\"M847.314345 1023.579001h-4.341991l-166.667675-35.152932-12.613975 23.986954a20.67796 20.67796 0 0 1-19.023963 11.579977h-88.503827a21.919957 21.919957 0 0 1-19.229963-11.579977l-19.024963-36.599929h-12.199976l-19.230962 36.599929a20.67796 20.67796 0 0 1-19.023963 11.579977h-88.503827a21.919957 21.919957 0 0 1-19.229963-11.579977l-12.407975-23.986954-166.667675 35.152932a22.539956 22.539956 0 0 1-17.989965-4.341992 21.919957 21.919957 0 0 1-7.857984-16.749967v-74.441855a21.919957 21.919957 0 0 1 6.409987-15.508969l69.686864-67.824868L72.082859 877.798286a20.67796 20.67796 0 0 1-18.196964-4.342992 21.919957 21.919957 0 0 1-7.857985-16.749967v-98.428808a21.711958 21.711958 0 0 1 5.995988-15.094971L367.370282 417.083185a2144.140812 2144.140812 0 0 1 63.275877-272.334468A899.095244 899.095244 0 0 1 465.80009 48.386905C480.273062 19.436962 492.267039 0 511.705001 0s32.670936 19.437962 45.90591 48.593905a817.002404 817.002404 0 0 1 35.152931 96.154812 2075.487946 2075.487946 0 0 1 63.275877 272.334468l315.552383 326.097363a22.745956 22.745956 0 0 1 5.995989 15.094971v98.429808a20.67796 20.67796 0 0 1-8.063985 16.749967 20.67796 20.67796 0 0 1-17.989964 4.341992l-158.80969-33.499935 69.684864 67.825868a21.919957 21.919957 0 0 1 6.409987 15.508969v74.441855a20.67796 20.67796 0 0 1-20.67796 20.677959z m-278.123457-43.009916h62.034879l14.060973-26.882948a20.67796 20.67796 0 0 1 23.366954-11.165978l156.741694 33.085936v-38.875925L709.182615 823.412392a20.67796 20.67796 0 0 1 19.230962-36.393929L935.199173 830.236378v-63.275876L620.472788 442.103137a20.67796 20.67796 0 0 1-5.789989-11.579978C586.352855 252.897506 536.519952 97.18981 511.291001 52.109898c-24.606952 45.078912-74.441855 200.786608-103.391798 378.414261a22.125957 22.125957 0 0 1-5.789988 11.579978L89.038826 766.959502v63.275876l205.129599-43.217915a20.67796 20.67796 0 0 1 20.67796 36.393929l-117.039771 113.317778v38.875925l156.535694-33.085936a20.67796 20.67796 0 0 1 23.572954 11.165978l14.061972 26.881948h62.034879l19.229963-36.806928a20.67796 20.67796 0 0 1 19.024963-11.579978h38.254925a20.67796 20.67796 0 0 1 19.023963 11.579978z\" fill=\"#333333\" p-id=\"8050\"/><path d=\"M511.705001 690.864651c-56.038891 0-78.784846-33.912934-78.784847-117.453771 0-86.84883 24.606952-180.314648 78.784847-180.314648s78.990846 93.465817 78.990845 180.314648c0 83.540837-22.952955 117.453771-78.990845 117.453771z m0-254.757503c-8.478983 1.239998-35.77393 44.871912-35.773931 137.303732 0 74.442855 16.542968 74.442855 35.773931 74.442855s35.97993 0 35.979929-74.442855c0-92.431819-27.294947-136.063734-35.979929-137.303732zM423.200173 912.123219a20.67796 20.67796 0 0 1-20.677959-20.67896V762.411511a20.67796 20.67796 0 0 1 20.677959-20.67796 20.67796 20.67796 0 0 1 20.67796 20.67796v127.99975a20.67796 20.67796 0 0 1-20.67796 21.711958z m177.213654 0a20.67796 20.67796 0 0 1-20.677959-20.67896V762.411511a20.67796 20.67796 0 0 1 20.677959-20.67796 20.67796 20.67796 0 0 1 20.67796 20.67796v127.99975a20.67796 20.67796 0 0 1-20.67796 21.711958z\" fill=\"#333333\" p-id=\"8051\"/></svg>"
      ],
      "text/plain": [
       "<IPython.core.display.SVG object>"
      ]
     },
     "metadata": {},
     "output_type": "display_data"
    },
    {
     "name": "stdout",
     "output_type": "stream",
     "text": [
      "\n",
      "显示文件: rotated_50.svg\n"
     ]
    },
    {
     "data": {
      "image/svg+xml": [
       "<svg xmlns=\"http://www.w3.org/2000/svg\" t=\"1758595976401\" class=\"icon\" viewBox=\"0 0 1024 1024\" version=\"1.1\" p-id=\"8049\" width=\"200\" height=\"200\" transform=\"rotate(-50 512.0 512.0)\"><path d=\"M847.314345 1023.579001h-4.341991l-166.667675-35.152932-12.613975 23.986954a20.67796 20.67796 0 0 1-19.023963 11.579977h-88.503827a21.919957 21.919957 0 0 1-19.229963-11.579977l-19.024963-36.599929h-12.199976l-19.230962 36.599929a20.67796 20.67796 0 0 1-19.023963 11.579977h-88.503827a21.919957 21.919957 0 0 1-19.229963-11.579977l-12.407975-23.986954-166.667675 35.152932a22.539956 22.539956 0 0 1-17.989965-4.341992 21.919957 21.919957 0 0 1-7.857984-16.749967v-74.441855a21.919957 21.919957 0 0 1 6.409987-15.508969l69.686864-67.824868L72.082859 877.798286a20.67796 20.67796 0 0 1-18.196964-4.342992 21.919957 21.919957 0 0 1-7.857985-16.749967v-98.428808a21.711958 21.711958 0 0 1 5.995988-15.094971L367.370282 417.083185a2144.140812 2144.140812 0 0 1 63.275877-272.334468A899.095244 899.095244 0 0 1 465.80009 48.386905C480.273062 19.436962 492.267039 0 511.705001 0s32.670936 19.437962 45.90591 48.593905a817.002404 817.002404 0 0 1 35.152931 96.154812 2075.487946 2075.487946 0 0 1 63.275877 272.334468l315.552383 326.097363a22.745956 22.745956 0 0 1 5.995989 15.094971v98.429808a20.67796 20.67796 0 0 1-8.063985 16.749967 20.67796 20.67796 0 0 1-17.989964 4.341992l-158.80969-33.499935 69.684864 67.825868a21.919957 21.919957 0 0 1 6.409987 15.508969v74.441855a20.67796 20.67796 0 0 1-20.67796 20.677959z m-278.123457-43.009916h62.034879l14.060973-26.882948a20.67796 20.67796 0 0 1 23.366954-11.165978l156.741694 33.085936v-38.875925L709.182615 823.412392a20.67796 20.67796 0 0 1 19.230962-36.393929L935.199173 830.236378v-63.275876L620.472788 442.103137a20.67796 20.67796 0 0 1-5.789989-11.579978C586.352855 252.897506 536.519952 97.18981 511.291001 52.109898c-24.606952 45.078912-74.441855 200.786608-103.391798 378.414261a22.125957 22.125957 0 0 1-5.789988 11.579978L89.038826 766.959502v63.275876l205.129599-43.217915a20.67796 20.67796 0 0 1 20.67796 36.393929l-117.039771 113.317778v38.875925l156.535694-33.085936a20.67796 20.67796 0 0 1 23.572954 11.165978l14.061972 26.881948h62.034879l19.229963-36.806928a20.67796 20.67796 0 0 1 19.024963-11.579978h38.254925a20.67796 20.67796 0 0 1 19.023963 11.579978z\" fill=\"#333333\" p-id=\"8050\"/><path d=\"M511.705001 690.864651c-56.038891 0-78.784846-33.912934-78.784847-117.453771 0-86.84883 24.606952-180.314648 78.784847-180.314648s78.990846 93.465817 78.990845 180.314648c0 83.540837-22.952955 117.453771-78.990845 117.453771z m0-254.757503c-8.478983 1.239998-35.77393 44.871912-35.773931 137.303732 0 74.442855 16.542968 74.442855 35.773931 74.442855s35.97993 0 35.979929-74.442855c0-92.431819-27.294947-136.063734-35.979929-137.303732zM423.200173 912.123219a20.67796 20.67796 0 0 1-20.677959-20.67896V762.411511a20.67796 20.67796 0 0 1 20.677959-20.67796 20.67796 20.67796 0 0 1 20.67796 20.67796v127.99975a20.67796 20.67796 0 0 1-20.67796 21.711958z m177.213654 0a20.67796 20.67796 0 0 1-20.677959-20.67896V762.411511a20.67796 20.67796 0 0 1 20.677959-20.67796 20.67796 20.67796 0 0 1 20.67796 20.67796v127.99975a20.67796 20.67796 0 0 1-20.67796 21.711958z\" fill=\"#333333\" p-id=\"8051\"/></svg>"
      ],
      "text/plain": [
       "<IPython.core.display.SVG object>"
      ]
     },
     "metadata": {},
     "output_type": "display_data"
    },
    {
     "name": "stdout",
     "output_type": "stream",
     "text": [
      "\n",
      "显示文件: rotated_60.svg\n"
     ]
    },
    {
     "data": {
      "image/svg+xml": [
       "<svg xmlns=\"http://www.w3.org/2000/svg\" t=\"1758595976401\" class=\"icon\" viewBox=\"0 0 1024 1024\" version=\"1.1\" p-id=\"8049\" width=\"200\" height=\"200\" transform=\"rotate(-60 100.0 100.0)\"><rect x=\"0\" y=\"0\" width=\"200.0\" height=\"200.0\" fill=\"#f0f0f0\"/><path d=\"M847.314345 1023.579001h-4.341991l-166.667675-35.152932-12.613975 23.986954a20.67796 20.67796 0 0 1-19.023963 11.579977h-88.503827a21.919957 21.919957 0 0 1-19.229963-11.579977l-19.024963-36.599929h-12.199976l-19.230962 36.599929a20.67796 20.67796 0 0 1-19.023963 11.579977h-88.503827a21.919957 21.919957 0 0 1-19.229963-11.579977l-12.407975-23.986954-166.667675 35.152932a22.539956 22.539956 0 0 1-17.989965-4.341992 21.919957 21.919957 0 0 1-7.857984-16.749967v-74.441855a21.919957 21.919957 0 0 1 6.409987-15.508969l69.686864-67.824868L72.082859 877.798286a20.67796 20.67796 0 0 1-18.196964-4.342992 21.919957 21.919957 0 0 1-7.857985-16.749967v-98.428808a21.711958 21.711958 0 0 1 5.995988-15.094971L367.370282 417.083185a2144.140812 2144.140812 0 0 1 63.275877-272.334468A899.095244 899.095244 0 0 1 465.80009 48.386905C480.273062 19.436962 492.267039 0 511.705001 0s32.670936 19.437962 45.90591 48.593905a817.002404 817.002404 0 0 1 35.152931 96.154812 2075.487946 2075.487946 0 0 1 63.275877 272.334468l315.552383 326.097363a22.745956 22.745956 0 0 1 5.995989 15.094971v98.429808a20.67796 20.67796 0 0 1-8.063985 16.749967 20.67796 20.67796 0 0 1-17.989964 4.341992l-158.80969-33.499935 69.684864 67.825868a21.919957 21.919957 0 0 1 6.409987 15.508969v74.441855a20.67796 20.67796 0 0 1-20.67796 20.677959z m-278.123457-43.009916h62.034879l14.060973-26.882948a20.67796 20.67796 0 0 1 23.366954-11.165978l156.741694 33.085936v-38.875925L709.182615 823.412392a20.67796 20.67796 0 0 1 19.230962-36.393929L935.199173 830.236378v-63.275876L620.472788 442.103137a20.67796 20.67796 0 0 1-5.789989-11.579978C586.352855 252.897506 536.519952 97.18981 511.291001 52.109898c-24.606952 45.078912-74.441855 200.786608-103.391798 378.414261a22.125957 22.125957 0 0 1-5.789988 11.579978L89.038826 766.959502v63.275876l205.129599-43.217915a20.67796 20.67796 0 0 1 20.67796 36.393929l-117.039771 113.317778v38.875925l156.535694-33.085936a20.67796 20.67796 0 0 1 23.572954 11.165978l14.061972 26.881948h62.034879l19.229963-36.806928a20.67796 20.67796 0 0 1 19.024963-11.579978h38.254925a20.67796 20.67796 0 0 1 19.023963 11.579978z\" fill=\"#333333\" p-id=\"8050\"/><path d=\"M511.705001 690.864651c-56.038891 0-78.784846-33.912934-78.784847-117.453771 0-86.84883 24.606952-180.314648 78.784847-180.314648s78.990846 93.465817 78.990845 180.314648c0 83.540837-22.952955 117.453771-78.990845 117.453771z m0-254.757503c-8.478983 1.239998-35.77393 44.871912-35.773931 137.303732 0 74.442855 16.542968 74.442855 35.773931 74.442855s35.97993 0 35.979929-74.442855c0-92.431819-27.294947-136.063734-35.979929-137.303732zM423.200173 912.123219a20.67796 20.67796 0 0 1-20.677959-20.67896V762.411511a20.67796 20.67796 0 0 1 20.677959-20.67796 20.67796 20.67796 0 0 1 20.67796 20.67796v127.99975a20.67796 20.67796 0 0 1-20.67796 21.711958z m177.213654 0a20.67796 20.67796 0 0 1-20.677959-20.67896V762.411511a20.67796 20.67796 0 0 1 20.677959-20.67796 20.67796 20.67796 0 0 1 20.67796 20.67796v127.99975a20.67796 20.67796 0 0 1-20.67796 21.711958z\" fill=\"#333333\" p-id=\"8051\"/></svg>"
      ],
      "text/plain": [
       "<IPython.core.display.SVG object>"
      ]
     },
     "metadata": {},
     "output_type": "display_data"
    },
    {
     "name": "stdout",
     "output_type": "stream",
     "text": [
      "\n",
      "显示文件: rotated_70.svg\n"
     ]
    },
    {
     "data": {
      "image/svg+xml": [
       "<svg xmlns=\"http://www.w3.org/2000/svg\" t=\"1758595976401\" class=\"icon\" viewBox=\"0 0 1024 1024\" version=\"1.1\" p-id=\"8049\" width=\"200\" height=\"200\" transform=\"rotate(-70 512.0 512.0)\"><path d=\"M847.314345 1023.579001h-4.341991l-166.667675-35.152932-12.613975 23.986954a20.67796 20.67796 0 0 1-19.023963 11.579977h-88.503827a21.919957 21.919957 0 0 1-19.229963-11.579977l-19.024963-36.599929h-12.199976l-19.230962 36.599929a20.67796 20.67796 0 0 1-19.023963 11.579977h-88.503827a21.919957 21.919957 0 0 1-19.229963-11.579977l-12.407975-23.986954-166.667675 35.152932a22.539956 22.539956 0 0 1-17.989965-4.341992 21.919957 21.919957 0 0 1-7.857984-16.749967v-74.441855a21.919957 21.919957 0 0 1 6.409987-15.508969l69.686864-67.824868L72.082859 877.798286a20.67796 20.67796 0 0 1-18.196964-4.342992 21.919957 21.919957 0 0 1-7.857985-16.749967v-98.428808a21.711958 21.711958 0 0 1 5.995988-15.094971L367.370282 417.083185a2144.140812 2144.140812 0 0 1 63.275877-272.334468A899.095244 899.095244 0 0 1 465.80009 48.386905C480.273062 19.436962 492.267039 0 511.705001 0s32.670936 19.437962 45.90591 48.593905a817.002404 817.002404 0 0 1 35.152931 96.154812 2075.487946 2075.487946 0 0 1 63.275877 272.334468l315.552383 326.097363a22.745956 22.745956 0 0 1 5.995989 15.094971v98.429808a20.67796 20.67796 0 0 1-8.063985 16.749967 20.67796 20.67796 0 0 1-17.989964 4.341992l-158.80969-33.499935 69.684864 67.825868a21.919957 21.919957 0 0 1 6.409987 15.508969v74.441855a20.67796 20.67796 0 0 1-20.67796 20.677959z m-278.123457-43.009916h62.034879l14.060973-26.882948a20.67796 20.67796 0 0 1 23.366954-11.165978l156.741694 33.085936v-38.875925L709.182615 823.412392a20.67796 20.67796 0 0 1 19.230962-36.393929L935.199173 830.236378v-63.275876L620.472788 442.103137a20.67796 20.67796 0 0 1-5.789989-11.579978C586.352855 252.897506 536.519952 97.18981 511.291001 52.109898c-24.606952 45.078912-74.441855 200.786608-103.391798 378.414261a22.125957 22.125957 0 0 1-5.789988 11.579978L89.038826 766.959502v63.275876l205.129599-43.217915a20.67796 20.67796 0 0 1 20.67796 36.393929l-117.039771 113.317778v38.875925l156.535694-33.085936a20.67796 20.67796 0 0 1 23.572954 11.165978l14.061972 26.881948h62.034879l19.229963-36.806928a20.67796 20.67796 0 0 1 19.024963-11.579978h38.254925a20.67796 20.67796 0 0 1 19.023963 11.579978z\" fill=\"#333333\" p-id=\"8050\"/><path d=\"M511.705001 690.864651c-56.038891 0-78.784846-33.912934-78.784847-117.453771 0-86.84883 24.606952-180.314648 78.784847-180.314648s78.990846 93.465817 78.990845 180.314648c0 83.540837-22.952955 117.453771-78.990845 117.453771z m0-254.757503c-8.478983 1.239998-35.77393 44.871912-35.773931 137.303732 0 74.442855 16.542968 74.442855 35.773931 74.442855s35.97993 0 35.979929-74.442855c0-92.431819-27.294947-136.063734-35.979929-137.303732zM423.200173 912.123219a20.67796 20.67796 0 0 1-20.677959-20.67896V762.411511a20.67796 20.67796 0 0 1 20.677959-20.67796 20.67796 20.67796 0 0 1 20.67796 20.67796v127.99975a20.67796 20.67796 0 0 1-20.67796 21.711958z m177.213654 0a20.67796 20.67796 0 0 1-20.677959-20.67896V762.411511a20.67796 20.67796 0 0 1 20.677959-20.67796 20.67796 20.67796 0 0 1 20.67796 20.67796v127.99975a20.67796 20.67796 0 0 1-20.67796 21.711958z\" fill=\"#333333\" p-id=\"8051\"/></svg>"
      ],
      "text/plain": [
       "<IPython.core.display.SVG object>"
      ]
     },
     "metadata": {},
     "output_type": "display_data"
    },
    {
     "name": "stdout",
     "output_type": "stream",
     "text": [
      "\n",
      "显示文件: rotated_75.svg\n"
     ]
    },
    {
     "data": {
      "image/svg+xml": [
       "<svg xmlns=\"http://www.w3.org/2000/svg\" t=\"1758595976401\" class=\"icon\" viewBox=\"0 0 1024 1024\" version=\"1.1\" p-id=\"8049\" width=\"200\" height=\"200\" transform=\"rotate(-75 100.0 100.0)\"><rect x=\"0\" y=\"0\" width=\"200.0\" height=\"200.0\" fill=\"#f0f0f0\"/><path d=\"M847.314345 1023.579001h-4.341991l-166.667675-35.152932-12.613975 23.986954a20.67796 20.67796 0 0 1-19.023963 11.579977h-88.503827a21.919957 21.919957 0 0 1-19.229963-11.579977l-19.024963-36.599929h-12.199976l-19.230962 36.599929a20.67796 20.67796 0 0 1-19.023963 11.579977h-88.503827a21.919957 21.919957 0 0 1-19.229963-11.579977l-12.407975-23.986954-166.667675 35.152932a22.539956 22.539956 0 0 1-17.989965-4.341992 21.919957 21.919957 0 0 1-7.857984-16.749967v-74.441855a21.919957 21.919957 0 0 1 6.409987-15.508969l69.686864-67.824868L72.082859 877.798286a20.67796 20.67796 0 0 1-18.196964-4.342992 21.919957 21.919957 0 0 1-7.857985-16.749967v-98.428808a21.711958 21.711958 0 0 1 5.995988-15.094971L367.370282 417.083185a2144.140812 2144.140812 0 0 1 63.275877-272.334468A899.095244 899.095244 0 0 1 465.80009 48.386905C480.273062 19.436962 492.267039 0 511.705001 0s32.670936 19.437962 45.90591 48.593905a817.002404 817.002404 0 0 1 35.152931 96.154812 2075.487946 2075.487946 0 0 1 63.275877 272.334468l315.552383 326.097363a22.745956 22.745956 0 0 1 5.995989 15.094971v98.429808a20.67796 20.67796 0 0 1-8.063985 16.749967 20.67796 20.67796 0 0 1-17.989964 4.341992l-158.80969-33.499935 69.684864 67.825868a21.919957 21.919957 0 0 1 6.409987 15.508969v74.441855a20.67796 20.67796 0 0 1-20.67796 20.677959z m-278.123457-43.009916h62.034879l14.060973-26.882948a20.67796 20.67796 0 0 1 23.366954-11.165978l156.741694 33.085936v-38.875925L709.182615 823.412392a20.67796 20.67796 0 0 1 19.230962-36.393929L935.199173 830.236378v-63.275876L620.472788 442.103137a20.67796 20.67796 0 0 1-5.789989-11.579978C586.352855 252.897506 536.519952 97.18981 511.291001 52.109898c-24.606952 45.078912-74.441855 200.786608-103.391798 378.414261a22.125957 22.125957 0 0 1-5.789988 11.579978L89.038826 766.959502v63.275876l205.129599-43.217915a20.67796 20.67796 0 0 1 20.67796 36.393929l-117.039771 113.317778v38.875925l156.535694-33.085936a20.67796 20.67796 0 0 1 23.572954 11.165978l14.061972 26.881948h62.034879l19.229963-36.806928a20.67796 20.67796 0 0 1 19.024963-11.579978h38.254925a20.67796 20.67796 0 0 1 19.023963 11.579978z\" fill=\"#333333\" p-id=\"8050\"/><path d=\"M511.705001 690.864651c-56.038891 0-78.784846-33.912934-78.784847-117.453771 0-86.84883 24.606952-180.314648 78.784847-180.314648s78.990846 93.465817 78.990845 180.314648c0 83.540837-22.952955 117.453771-78.990845 117.453771z m0-254.757503c-8.478983 1.239998-35.77393 44.871912-35.773931 137.303732 0 74.442855 16.542968 74.442855 35.773931 74.442855s35.97993 0 35.979929-74.442855c0-92.431819-27.294947-136.063734-35.979929-137.303732zM423.200173 912.123219a20.67796 20.67796 0 0 1-20.677959-20.67896V762.411511a20.67796 20.67796 0 0 1 20.677959-20.67796 20.67796 20.67796 0 0 1 20.67796 20.67796v127.99975a20.67796 20.67796 0 0 1-20.67796 21.711958z m177.213654 0a20.67796 20.67796 0 0 1-20.677959-20.67896V762.411511a20.67796 20.67796 0 0 1 20.677959-20.67796 20.67796 20.67796 0 0 1 20.67796 20.67796v127.99975a20.67796 20.67796 0 0 1-20.67796 21.711958z\" fill=\"#333333\" p-id=\"8051\"/></svg>"
      ],
      "text/plain": [
       "<IPython.core.display.SVG object>"
      ]
     },
     "metadata": {},
     "output_type": "display_data"
    },
    {
     "name": "stdout",
     "output_type": "stream",
     "text": [
      "\n",
      "显示文件: rotated_80.svg\n"
     ]
    },
    {
     "data": {
      "image/svg+xml": [
       "<svg xmlns=\"http://www.w3.org/2000/svg\" t=\"1758595976401\" class=\"icon\" viewBox=\"0 0 1024 1024\" version=\"1.1\" p-id=\"8049\" width=\"200\" height=\"200\" transform=\"rotate(-80 512.0 512.0)\"><path d=\"M847.314345 1023.579001h-4.341991l-166.667675-35.152932-12.613975 23.986954a20.67796 20.67796 0 0 1-19.023963 11.579977h-88.503827a21.919957 21.919957 0 0 1-19.229963-11.579977l-19.024963-36.599929h-12.199976l-19.230962 36.599929a20.67796 20.67796 0 0 1-19.023963 11.579977h-88.503827a21.919957 21.919957 0 0 1-19.229963-11.579977l-12.407975-23.986954-166.667675 35.152932a22.539956 22.539956 0 0 1-17.989965-4.341992 21.919957 21.919957 0 0 1-7.857984-16.749967v-74.441855a21.919957 21.919957 0 0 1 6.409987-15.508969l69.686864-67.824868L72.082859 877.798286a20.67796 20.67796 0 0 1-18.196964-4.342992 21.919957 21.919957 0 0 1-7.857985-16.749967v-98.428808a21.711958 21.711958 0 0 1 5.995988-15.094971L367.370282 417.083185a2144.140812 2144.140812 0 0 1 63.275877-272.334468A899.095244 899.095244 0 0 1 465.80009 48.386905C480.273062 19.436962 492.267039 0 511.705001 0s32.670936 19.437962 45.90591 48.593905a817.002404 817.002404 0 0 1 35.152931 96.154812 2075.487946 2075.487946 0 0 1 63.275877 272.334468l315.552383 326.097363a22.745956 22.745956 0 0 1 5.995989 15.094971v98.429808a20.67796 20.67796 0 0 1-8.063985 16.749967 20.67796 20.67796 0 0 1-17.989964 4.341992l-158.80969-33.499935 69.684864 67.825868a21.919957 21.919957 0 0 1 6.409987 15.508969v74.441855a20.67796 20.67796 0 0 1-20.67796 20.677959z m-278.123457-43.009916h62.034879l14.060973-26.882948a20.67796 20.67796 0 0 1 23.366954-11.165978l156.741694 33.085936v-38.875925L709.182615 823.412392a20.67796 20.67796 0 0 1 19.230962-36.393929L935.199173 830.236378v-63.275876L620.472788 442.103137a20.67796 20.67796 0 0 1-5.789989-11.579978C586.352855 252.897506 536.519952 97.18981 511.291001 52.109898c-24.606952 45.078912-74.441855 200.786608-103.391798 378.414261a22.125957 22.125957 0 0 1-5.789988 11.579978L89.038826 766.959502v63.275876l205.129599-43.217915a20.67796 20.67796 0 0 1 20.67796 36.393929l-117.039771 113.317778v38.875925l156.535694-33.085936a20.67796 20.67796 0 0 1 23.572954 11.165978l14.061972 26.881948h62.034879l19.229963-36.806928a20.67796 20.67796 0 0 1 19.024963-11.579978h38.254925a20.67796 20.67796 0 0 1 19.023963 11.579978z\" fill=\"#333333\" p-id=\"8050\"/><path d=\"M511.705001 690.864651c-56.038891 0-78.784846-33.912934-78.784847-117.453771 0-86.84883 24.606952-180.314648 78.784847-180.314648s78.990846 93.465817 78.990845 180.314648c0 83.540837-22.952955 117.453771-78.990845 117.453771z m0-254.757503c-8.478983 1.239998-35.77393 44.871912-35.773931 137.303732 0 74.442855 16.542968 74.442855 35.773931 74.442855s35.97993 0 35.979929-74.442855c0-92.431819-27.294947-136.063734-35.979929-137.303732zM423.200173 912.123219a20.67796 20.67796 0 0 1-20.677959-20.67896V762.411511a20.67796 20.67796 0 0 1 20.677959-20.67796 20.67796 20.67796 0 0 1 20.67796 20.67796v127.99975a20.67796 20.67796 0 0 1-20.67796 21.711958z m177.213654 0a20.67796 20.67796 0 0 1-20.677959-20.67896V762.411511a20.67796 20.67796 0 0 1 20.677959-20.67796 20.67796 20.67796 0 0 1 20.67796 20.67796v127.99975a20.67796 20.67796 0 0 1-20.67796 21.711958z\" fill=\"#333333\" p-id=\"8051\"/></svg>"
      ],
      "text/plain": [
       "<IPython.core.display.SVG object>"
      ]
     },
     "metadata": {},
     "output_type": "display_data"
    },
    {
     "name": "stdout",
     "output_type": "stream",
     "text": [
      "\n",
      "显示文件: rotated_90.svg\n"
     ]
    },
    {
     "data": {
      "image/svg+xml": [
       "<svg xmlns=\"http://www.w3.org/2000/svg\" t=\"1758595976401\" class=\"icon\" viewBox=\"0 0 1024 1024\" version=\"1.1\" p-id=\"8049\" width=\"200\" height=\"200\" transform=\"rotate(-90 100.0 100.0)\"><rect x=\"0\" y=\"0\" width=\"200.0\" height=\"200.0\" fill=\"#f0f0f0\"/><path d=\"M847.314345 1023.579001h-4.341991l-166.667675-35.152932-12.613975 23.986954a20.67796 20.67796 0 0 1-19.023963 11.579977h-88.503827a21.919957 21.919957 0 0 1-19.229963-11.579977l-19.024963-36.599929h-12.199976l-19.230962 36.599929a20.67796 20.67796 0 0 1-19.023963 11.579977h-88.503827a21.919957 21.919957 0 0 1-19.229963-11.579977l-12.407975-23.986954-166.667675 35.152932a22.539956 22.539956 0 0 1-17.989965-4.341992 21.919957 21.919957 0 0 1-7.857984-16.749967v-74.441855a21.919957 21.919957 0 0 1 6.409987-15.508969l69.686864-67.824868L72.082859 877.798286a20.67796 20.67796 0 0 1-18.196964-4.342992 21.919957 21.919957 0 0 1-7.857985-16.749967v-98.428808a21.711958 21.711958 0 0 1 5.995988-15.094971L367.370282 417.083185a2144.140812 2144.140812 0 0 1 63.275877-272.334468A899.095244 899.095244 0 0 1 465.80009 48.386905C480.273062 19.436962 492.267039 0 511.705001 0s32.670936 19.437962 45.90591 48.593905a817.002404 817.002404 0 0 1 35.152931 96.154812 2075.487946 2075.487946 0 0 1 63.275877 272.334468l315.552383 326.097363a22.745956 22.745956 0 0 1 5.995989 15.094971v98.429808a20.67796 20.67796 0 0 1-8.063985 16.749967 20.67796 20.67796 0 0 1-17.989964 4.341992l-158.80969-33.499935 69.684864 67.825868a21.919957 21.919957 0 0 1 6.409987 15.508969v74.441855a20.67796 20.67796 0 0 1-20.67796 20.677959z m-278.123457-43.009916h62.034879l14.060973-26.882948a20.67796 20.67796 0 0 1 23.366954-11.165978l156.741694 33.085936v-38.875925L709.182615 823.412392a20.67796 20.67796 0 0 1 19.230962-36.393929L935.199173 830.236378v-63.275876L620.472788 442.103137a20.67796 20.67796 0 0 1-5.789989-11.579978C586.352855 252.897506 536.519952 97.18981 511.291001 52.109898c-24.606952 45.078912-74.441855 200.786608-103.391798 378.414261a22.125957 22.125957 0 0 1-5.789988 11.579978L89.038826 766.959502v63.275876l205.129599-43.217915a20.67796 20.67796 0 0 1 20.67796 36.393929l-117.039771 113.317778v38.875925l156.535694-33.085936a20.67796 20.67796 0 0 1 23.572954 11.165978l14.061972 26.881948h62.034879l19.229963-36.806928a20.67796 20.67796 0 0 1 19.024963-11.579978h38.254925a20.67796 20.67796 0 0 1 19.023963 11.579978z\" fill=\"#333333\" p-id=\"8050\"/><path d=\"M511.705001 690.864651c-56.038891 0-78.784846-33.912934-78.784847-117.453771 0-86.84883 24.606952-180.314648 78.784847-180.314648s78.990846 93.465817 78.990845 180.314648c0 83.540837-22.952955 117.453771-78.990845 117.453771z m0-254.757503c-8.478983 1.239998-35.77393 44.871912-35.773931 137.303732 0 74.442855 16.542968 74.442855 35.773931 74.442855s35.97993 0 35.979929-74.442855c0-92.431819-27.294947-136.063734-35.979929-137.303732zM423.200173 912.123219a20.67796 20.67796 0 0 1-20.677959-20.67896V762.411511a20.67796 20.67796 0 0 1 20.677959-20.67796 20.67796 20.67796 0 0 1 20.67796 20.67796v127.99975a20.67796 20.67796 0 0 1-20.67796 21.711958z m177.213654 0a20.67796 20.67796 0 0 1-20.677959-20.67896V762.411511a20.67796 20.67796 0 0 1 20.677959-20.67796 20.67796 20.67796 0 0 1 20.67796 20.67796v127.99975a20.67796 20.67796 0 0 1-20.67796 21.711958z\" fill=\"#333333\" p-id=\"8051\"/></svg>"
      ],
      "text/plain": [
       "<IPython.core.display.SVG object>"
      ]
     },
     "metadata": {},
     "output_type": "display_data"
    },
    {
     "name": "stdout",
     "output_type": "stream",
     "text": [
      "\n",
      "显示文件: test.svg\n"
     ]
    },
    {
     "data": {
      "image/svg+xml": [
       "<svg xmlns=\"http://www.w3.org/2000/svg\" t=\"1758595976401\" class=\"icon\" viewBox=\"0 0 1024 1024\" version=\"1.1\" p-id=\"8049\" width=\"200\" height=\"200\" transform=\"rotate(-30 512.0 512.0)\"><path d=\"M847.314345 1023.579001h-4.341991l-166.667675-35.152932-12.613975 23.986954a20.67796 20.67796 0 0 1-19.023963 11.579977h-88.503827a21.919957 21.919957 0 0 1-19.229963-11.579977l-19.024963-36.599929h-12.199976l-19.230962 36.599929a20.67796 20.67796 0 0 1-19.023963 11.579977h-88.503827a21.919957 21.919957 0 0 1-19.229963-11.579977l-12.407975-23.986954-166.667675 35.152932a22.539956 22.539956 0 0 1-17.989965-4.341992 21.919957 21.919957 0 0 1-7.857984-16.749967v-74.441855a21.919957 21.919957 0 0 1 6.409987-15.508969l69.686864-67.824868L72.082859 877.798286a20.67796 20.67796 0 0 1-18.196964-4.342992 21.919957 21.919957 0 0 1-7.857985-16.749967v-98.428808a21.711958 21.711958 0 0 1 5.995988-15.094971L367.370282 417.083185a2144.140812 2144.140812 0 0 1 63.275877-272.334468A899.095244 899.095244 0 0 1 465.80009 48.386905C480.273062 19.436962 492.267039 0 511.705001 0s32.670936 19.437962 45.90591 48.593905a817.002404 817.002404 0 0 1 35.152931 96.154812 2075.487946 2075.487946 0 0 1 63.275877 272.334468l315.552383 326.097363a22.745956 22.745956 0 0 1 5.995989 15.094971v98.429808a20.67796 20.67796 0 0 1-8.063985 16.749967 20.67796 20.67796 0 0 1-17.989964 4.341992l-158.80969-33.499935 69.684864 67.825868a21.919957 21.919957 0 0 1 6.409987 15.508969v74.441855a20.67796 20.67796 0 0 1-20.67796 20.677959z m-278.123457-43.009916h62.034879l14.060973-26.882948a20.67796 20.67796 0 0 1 23.366954-11.165978l156.741694 33.085936v-38.875925L709.182615 823.412392a20.67796 20.67796 0 0 1 19.230962-36.393929L935.199173 830.236378v-63.275876L620.472788 442.103137a20.67796 20.67796 0 0 1-5.789989-11.579978C586.352855 252.897506 536.519952 97.18981 511.291001 52.109898c-24.606952 45.078912-74.441855 200.786608-103.391798 378.414261a22.125957 22.125957 0 0 1-5.789988 11.579978L89.038826 766.959502v63.275876l205.129599-43.217915a20.67796 20.67796 0 0 1 20.67796 36.393929l-117.039771 113.317778v38.875925l156.535694-33.085936a20.67796 20.67796 0 0 1 23.572954 11.165978l14.061972 26.881948h62.034879l19.229963-36.806928a20.67796 20.67796 0 0 1 19.024963-11.579978h38.254925a20.67796 20.67796 0 0 1 19.023963 11.579978z\" fill=\"#333333\" p-id=\"8050\"/><path d=\"M511.705001 690.864651c-56.038891 0-78.784846-33.912934-78.784847-117.453771 0-86.84883 24.606952-180.314648 78.784847-180.314648s78.990846 93.465817 78.990845 180.314648c0 83.540837-22.952955 117.453771-78.990845 117.453771z m0-254.757503c-8.478983 1.239998-35.77393 44.871912-35.773931 137.303732 0 74.442855 16.542968 74.442855 35.773931 74.442855s35.97993 0 35.979929-74.442855c0-92.431819-27.294947-136.063734-35.979929-137.303732zM423.200173 912.123219a20.67796 20.67796 0 0 1-20.677959-20.67896V762.411511a20.67796 20.67796 0 0 1 20.677959-20.67796 20.67796 20.67796 0 0 1 20.67796 20.67796v127.99975a20.67796 20.67796 0 0 1-20.67796 21.711958z m177.213654 0a20.67796 20.67796 0 0 1-20.677959-20.67896V762.411511a20.67796 20.67796 0 0 1 20.677959-20.67796 20.67796 20.67796 0 0 1 20.67796 20.67796v127.99975a20.67796 20.67796 0 0 1-20.67796 21.711958z\" fill=\"#333333\" p-id=\"8051\"/></svg>"
      ],
      "text/plain": [
       "<IPython.core.display.SVG object>"
      ]
     },
     "metadata": {},
     "output_type": "display_data"
    }
   ],
   "source": [
    "from IPython.display import SVG, display\n",
    "from pathlib import Path\n",
    "\n",
    "# 设置SVG文件目录\n",
    "svg_dir = Path(\"assets/rotate\")\n",
    "\n",
    "# 获取目录中所有SVG文件\n",
    "svg_files = list(svg_dir.glob(\"*.svg\"))\n",
    "\n",
    "if not svg_files:\n",
    "    print(\"没有找到SVG文件\")\n",
    "else:\n",
    "    print(f\"共找到 {len(svg_files)} 个SVG文件:\")\n",
    "    \n",
    "    # 显示每个SVG文件\n",
    "    for svg_file in svg_files:\n",
    "        print(f\"\\n显示文件: {svg_file.name}\")\n",
    "        display(SVG(filename=str(svg_file)))"
   ]
  },
  {
   "cell_type": "code",
   "execution_count": null,
   "id": "5f7b0f33",
   "metadata": {},
   "outputs": [],
   "source": []
  }
 ],
 "metadata": {
  "kernelspec": {
   "display_name": "data",
   "language": "python",
   "name": "python3"
  },
  "language_info": {
   "codemirror_mode": {
    "name": "ipython",
    "version": 3
   },
   "file_extension": ".py",
   "mimetype": "text/x-python",
   "name": "python",
   "nbconvert_exporter": "python",
   "pygments_lexer": "ipython3",
   "version": "3.12.11"
  }
 },
 "nbformat": 4,
 "nbformat_minor": 5
}
