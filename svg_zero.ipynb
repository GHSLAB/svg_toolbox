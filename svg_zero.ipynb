{
 "cells": [
  {
   "cell_type": "markdown",
   "id": "a52f57aa",
   "metadata": {},
   "source": [
    "https://www.runoob.com/svg/svg-tutorial.html\n",
    "\n",
    "SVG 意为可缩放矢量图形（Scalable Vector Graphics）。\n",
    "\n",
    "SVG 是一种用于描述二维图形的 XML 标记语言，与位图图像不同，SVG图像以文本形式存储，并且可以缩放到任意大小而不会失真，因为它们基于数学描述而不是像素。\n",
    "\n",
    "SVG 图形是可伸缩的，无需分辨率依赖，这意味着它们可以在不失真的情况下被放大或缩小。\n",
    "\n",
    "SVG 广泛应用于网页设计、图标制作、数据可视化和其他图形相关的领域。\n",
    "\n",
    "### SVG 的主要特点\n",
    "- 矢量图形：SVG 使用基于路径的矢量图形，这意味着图形可以无限放大而不失真。\n",
    "- 可伸缩性：SVG 文件可以在不同的分辨率下保持清晰，适合用于响应式设计。\n",
    "- 互动性：SVG 可以与 JavaScript 结合，实现动画和交互效果。\n",
    "- 集成性：SVG 可以直接嵌入 HTML5 中，无需使用外部文件。\n",
    "- 兼容性：大多数现代浏览器都支持 SVG。"
   ]
  },
  {
   "cell_type": "code",
   "execution_count": 1,
   "id": "7019757a",
   "metadata": {},
   "outputs": [
    {
     "data": {
      "image/svg+xml": [
       "<svg xmlns=\"http://www.w3.org/2000/svg\" version=\"1.1\">\n",
       "  <circle cx=\"50\" cy=\"50\" r=\"40\" stroke=\"black\" stroke-width=\"2\" fill=\"red\"/>\n",
       "</svg>"
      ],
      "text/plain": [
       "<IPython.core.display.SVG object>"
      ]
     },
     "metadata": {},
     "output_type": "display_data"
    }
   ],
   "source": [
    "# 方法3：在Jupyter Notebook中直接显示SVG\n",
    "from IPython.display import SVG, display\n",
    "display(SVG('''\n",
    "<svg xmlns=\"http://www.w3.org/2000/svg\" version=\"1.1\">\n",
    "  <circle cx=\"50\" cy=\"50\" r=\"40\" stroke=\"black\"\n",
    "  stroke-width=\"2\" fill=\"red\" />\n",
    "</svg>\n",
    "'''))"
   ]
  },
  {
   "cell_type": "code",
   "execution_count": 4,
   "id": "5b13c929",
   "metadata": {},
   "outputs": [],
   "source": [
    "# 方法2：使用svgwrite库（需要先安装：pip install svgwrite）\n",
    "import svgwrite\n",
    "\n",
    "dwg = svgwrite.Drawing(\"circle.svg\", size=(\"100px\", \"100px\"))\n",
    "dwg.add(dwg.circle(center=(50, 50), r=40, stroke=\"black\", stroke_width=2, fill=\"red\"))\n",
    "dwg.save()"
   ]
  },
  {
   "cell_type": "code",
   "execution_count": null,
   "id": "d4ccdbf1",
   "metadata": {},
   "outputs": [],
   "source": []
  }
 ],
 "metadata": {
  "kernelspec": {
   "display_name": "data",
   "language": "python",
   "name": "python3"
  },
  "language_info": {
   "codemirror_mode": {
    "name": "ipython",
    "version": 3
   },
   "file_extension": ".py",
   "mimetype": "text/x-python",
   "name": "python",
   "nbconvert_exporter": "python",
   "pygments_lexer": "ipython3",
   "version": "3.12.11"
  }
 },
 "nbformat": 4,
 "nbformat_minor": 5
}
