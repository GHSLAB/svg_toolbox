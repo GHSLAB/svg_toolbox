{
 "cells": [
  {
   "cell_type": "code",
   "execution_count": 16,
   "id": "220d93db",
   "metadata": {},
   "outputs": [
    {
     "data": {
      "image/png": "[encoded data removed]",
      "text/plain": [
       "<IPython.core.display.Image object>"
      ]
     },
     "execution_count": 16,
     "metadata": {},
     "output_type": "execute_result"
    }
   ],
   "source": [
    "from IPython.display import Image\n",
    "Image(filename='assets/rotate/plane3.png')"
   ]
  },
  {
   "cell_type": "code",
   "execution_count": 17,
   "id": "6ca05766",
   "metadata": {},
   "outputs": [
    {
     "data": {
      "image/png": "[encoded data removed]",
      "text/plain": [
       "<Figure size 640x480 with 1 Axes>"
      ]
     },
     "metadata": {},
     "output_type": "display_data"
    }
   ],
   "source": [
    "from PIL import Image\n",
    "import matplotlib.pyplot as plt\n",
    "\n",
    "img = Image.open('assets/rotate/plane3.png')\n",
    "plt.imshow(img)\n",
    "plt.axis('off')\n",
    "plt.show()"
   ]
  },
  {
   "cell_type": "code",
   "execution_count": 18,
   "id": "6d12b4a1",
   "metadata": {},
   "outputs": [
    {
     "name": "stdout",
     "output_type": "stream",
     "text": [
      "图片尺寸: 200 x 200 像素\n"
     ]
    }
   ],
   "source": [
    "# 获取图片尺寸 (宽度, 高度)\n",
    "width, height = img.size\n",
    "print(f\"图片尺寸: {width} x {height} 像素\")"
   ]
  },
  {
   "cell_type": "code",
   "execution_count": 19,
   "id": "0e0054c2",
   "metadata": {},
   "outputs": [],
   "source": [
    "def rotate_and_save_image(input_path, output_path, degrees):\n",
    "    \"\"\"\n",
    "    按图片中心旋转并保持原始尺寸\n",
    "    \n",
    "    参数:\n",
    "        input_path: 输入图片路径\n",
    "        output_path: 输出图片路径\n",
    "        degrees: 旋转角度(顺时针)\n",
    "    \"\"\"\n",
    "    try:\n",
    "        # 打开图片\n",
    "        img = Image.open(input_path)\n",
    "        \n",
    "        # 旋转图片(不扩展画布，保持原始尺寸)\n",
    "        rotated_img = img.rotate(-degrees, center=(img.width//2, img.height//2))\n",
    "        \n",
    "        # 保存旋转后的图片\n",
    "        rotated_img.save(output_path)\n",
    "        print(f\"图片已旋转{degrees}度并保存到: {output_path}\")\n",
    "        \n",
    "    except Exception as e:\n",
    "        print(f\"处理图片时出错: {e}\")"
   ]
  },
  {
   "cell_type": "code",
   "execution_count": 20,
   "id": "2a1a6e01",
   "metadata": {},
   "outputs": [
    {
     "name": "stdout",
     "output_type": "stream",
     "text": [
      "图片已旋转0度并保存到: output/rotate/plane_r0.png\n",
      "图片已旋转10度并保存到: output/rotate/plane_r10.png\n",
      "图片已旋转20度并保存到: output/rotate/plane_r20.png\n",
      "图片已旋转30度并保存到: output/rotate/plane_r30.png\n",
      "图片已旋转40度并保存到: output/rotate/plane_r40.png\n",
      "图片已旋转50度并保存到: output/rotate/plane_r50.png\n",
      "图片已旋转60度并保存到: output/rotate/plane_r60.png\n",
      "图片已旋转70度并保存到: output/rotate/plane_r70.png\n",
      "图片已旋转80度并保存到: output/rotate/plane_r80.png\n",
      "图片已旋转90度并保存到: output/rotate/plane_r90.png\n",
      "图片已旋转100度并保存到: output/rotate/plane_r100.png\n",
      "图片已旋转110度并保存到: output/rotate/plane_r110.png\n",
      "图片已旋转120度并保存到: output/rotate/plane_r120.png\n",
      "图片已旋转130度并保存到: output/rotate/plane_r130.png\n",
      "图片已旋转140度并保存到: output/rotate/plane_r140.png\n",
      "图片已旋转150度并保存到: output/rotate/plane_r150.png\n",
      "图片已旋转160度并保存到: output/rotate/plane_r160.png\n",
      "图片已旋转170度并保存到: output/rotate/plane_r170.png\n",
      "图片已旋转180度并保存到: output/rotate/plane_r180.png\n",
      "图片已旋转190度并保存到: output/rotate/plane_r190.png\n",
      "图片已旋转200度并保存到: output/rotate/plane_r200.png\n",
      "图片已旋转210度并保存到: output/rotate/plane_r210.png\n",
      "图片已旋转220度并保存到: output/rotate/plane_r220.png\n",
      "图片已旋转230度并保存到: output/rotate/plane_r230.png\n",
      "图片已旋转240度并保存到: output/rotate/plane_r240.png\n",
      "图片已旋转250度并保存到: output/rotate/plane_r250.png\n",
      "图片已旋转260度并保存到: output/rotate/plane_r260.png\n",
      "图片已旋转270度并保存到: output/rotate/plane_r270.png\n",
      "图片已旋转280度并保存到: output/rotate/plane_r280.png\n",
      "图片已旋转290度并保存到: output/rotate/plane_r290.png\n",
      "图片已旋转300度并保存到: output/rotate/plane_r300.png\n",
      "图片已旋转310度并保存到: output/rotate/plane_r310.png\n",
      "图片已旋转320度并保存到: output/rotate/plane_r320.png\n",
      "图片已旋转330度并保存到: output/rotate/plane_r330.png\n",
      "图片已旋转340度并保存到: output/rotate/plane_r340.png\n",
      "图片已旋转350度并保存到: output/rotate/plane_r350.png\n",
      "图片已旋转360度并保存到: output/rotate/plane_r360.png\n"
     ]
    }
   ],
   "source": [
    "for i in range(0, 361, 10):\n",
    "    rotate_and_save_image(\"assets/rotate/plane3.png\", f\"output/rotate/plane_r{i}.png\", i)"
   ]
  },
  {
   "cell_type": "code",
   "execution_count": 21,
   "id": "c6364700",
   "metadata": {},
   "outputs": [
    {
     "name": "stdout",
     "output_type": "stream",
     "text": [
      "output\\rotate\\plane_r0.png\n",
      "图片尺寸: 200 x 200 像素\n",
      "output\\rotate\\plane_r10.png\n",
      "图片尺寸: 200 x 200 像素\n",
      "output\\rotate\\plane_r100.png\n",
      "图片尺寸: 200 x 200 像素\n",
      "output\\rotate\\plane_r110.png\n",
      "图片尺寸: 200 x 200 像素\n",
      "output\\rotate\\plane_r120.png\n",
      "图片尺寸: 200 x 200 像素\n",
      "output\\rotate\\plane_r130.png\n",
      "图片尺寸: 200 x 200 像素\n",
      "output\\rotate\\plane_r140.png\n",
      "图片尺寸: 200 x 200 像素\n",
      "output\\rotate\\plane_r150.png\n",
      "图片尺寸: 200 x 200 像素\n",
      "output\\rotate\\plane_r160.png\n",
      "图片尺寸: 200 x 200 像素\n",
      "output\\rotate\\plane_r170.png\n",
      "图片尺寸: 200 x 200 像素\n",
      "output\\rotate\\plane_r180.png\n",
      "图片尺寸: 200 x 200 像素\n",
      "output\\rotate\\plane_r190.png\n",
      "图片尺寸: 200 x 200 像素\n",
      "output\\rotate\\plane_r20.png\n",
      "图片尺寸: 200 x 200 像素\n",
      "output\\rotate\\plane_r200.png\n",
      "图片尺寸: 200 x 200 像素\n",
      "output\\rotate\\plane_r210.png\n",
      "图片尺寸: 200 x 200 像素\n",
      "output\\rotate\\plane_r220.png\n",
      "图片尺寸: 200 x 200 像素\n",
      "output\\rotate\\plane_r230.png\n",
      "图片尺寸: 200 x 200 像素\n",
      "output\\rotate\\plane_r240.png\n",
      "图片尺寸: 200 x 200 像素\n",
      "output\\rotate\\plane_r250.png\n",
      "图片尺寸: 200 x 200 像素\n",
      "output\\rotate\\plane_r260.png\n",
      "图片尺寸: 200 x 200 像素\n",
      "output\\rotate\\plane_r270.png\n",
      "图片尺寸: 200 x 200 像素\n",
      "output\\rotate\\plane_r280.png\n",
      "图片尺寸: 200 x 200 像素\n",
      "output\\rotate\\plane_r290.png\n",
      "图片尺寸: 200 x 200 像素\n",
      "output\\rotate\\plane_r30.png\n",
      "图片尺寸: 200 x 200 像素\n",
      "output\\rotate\\plane_r300.png\n",
      "图片尺寸: 200 x 200 像素\n",
      "output\\rotate\\plane_r310.png\n",
      "图片尺寸: 200 x 200 像素\n",
      "output\\rotate\\plane_r320.png\n",
      "图片尺寸: 200 x 200 像素\n",
      "output\\rotate\\plane_r330.png\n",
      "图片尺寸: 200 x 200 像素\n",
      "output\\rotate\\plane_r340.png\n",
      "图片尺寸: 200 x 200 像素\n",
      "output\\rotate\\plane_r350.png\n",
      "图片尺寸: 200 x 200 像素\n",
      "output\\rotate\\plane_r360.png\n",
      "图片尺寸: 200 x 200 像素\n",
      "output\\rotate\\plane_r40.png\n",
      "图片尺寸: 200 x 200 像素\n",
      "output\\rotate\\plane_r50.png\n",
      "图片尺寸: 200 x 200 像素\n",
      "output\\rotate\\plane_r60.png\n",
      "图片尺寸: 200 x 200 像素\n",
      "output\\rotate\\plane_r70.png\n",
      "图片尺寸: 200 x 200 像素\n",
      "output\\rotate\\plane_r80.png\n",
      "图片尺寸: 200 x 200 像素\n",
      "output\\rotate\\plane_r90.png\n",
      "图片尺寸: 200 x 200 像素\n"
     ]
    }
   ],
   "source": [
    "from pathlib import Path\n",
    "\n",
    "\n",
    "for img_path in Path(\"output/rotate\").rglob(\"*.png\"):\n",
    "    print(img_path)\n",
    "    img = Image.open(img_path)\n",
    "    # 获取图片尺寸 (宽度, 高度)\n",
    "    width, height = img.size\n",
    "    print(f\"图片尺寸: {width} x {height} 像素\")"
   ]
  },
  {
   "cell_type": "code",
   "execution_count": null,
   "id": "bc3ff435",
   "metadata": {},
   "outputs": [],
   "source": []
  }
 ],
 "metadata": {
  "kernelspec": {
   "display_name": "data",
   "language": "python",
   "name": "python3"
  },
  "language_info": {
   "codemirror_mode": {
    "name": "ipython",
    "version": 3
   },
   "file_extension": ".py",
   "mimetype": "text/x-python",
   "name": "python",
   "nbconvert_exporter": "python",
   "pygments_lexer": "ipython3",
   "version": "3.12.11"
  }
 },
 "nbformat": 4,
 "nbformat_minor": 5
}
